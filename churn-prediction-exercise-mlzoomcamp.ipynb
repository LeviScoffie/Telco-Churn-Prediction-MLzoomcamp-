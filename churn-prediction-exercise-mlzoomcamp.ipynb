{
 "cells": [
  {
   "cell_type": "code",
   "execution_count": 48,
   "id": "b9735aea",
   "metadata": {},
   "outputs": [],
   "source": [
    "import numpy as np # linear algebra\n",
    "import pandas as pd # data processing, CSV file I/O (e.g. pd.read_csv)\n",
    "import matplotlib.pyplot as plt\n",
    "\n",
    "from sklearn.model_selection import train_test_split\n",
    "from sklearn.feature_extraction import DictVectorizer\n",
    "from sklearn.linear_model import LogisticRegression\n",
    "from sklearn.model_selection import KFold\n",
    "\n",
    "\n",
    "from sklearn.metrics import accuracy_score\n",
    "from sklearn.metrics import roc_auc_score\n"
   ]
  },
  {
   "cell_type": "code",
   "execution_count": 49,
   "id": "f45f68a2",
   "metadata": {},
   "outputs": [],
   "source": [
    "C=1.0\n",
    "n_splits=5"
   ]
  },
  {
   "cell_type": "code",
   "execution_count": 50,
   "id": "766f5650",
   "metadata": {
    "execution": {
     "iopub.execute_input": "2021-11-17T09:44:00.754244Z",
     "iopub.status.busy": "2021-11-17T09:44:00.753500Z",
     "iopub.status.idle": "2021-11-17T09:44:00.812687Z",
     "shell.execute_reply": "2021-11-17T09:44:00.812015Z",
     "shell.execute_reply.started": "2021-11-17T08:49:59.532133Z"
    },
    "papermill": {
     "duration": 0.162957,
     "end_time": "2021-11-17T09:44:00.812840",
     "exception": false,
     "start_time": "2021-11-17T09:44:00.649883",
     "status": "completed"
    },
    "tags": []
   },
   "outputs": [],
   "source": [
    "df=pd.read_csv(\"/home/leviscoffie/MLzoomcamp/Telco-Churn-Prediction-MLzoomcamp-/WA_Fn-UseC_-Telco-Customer-Churn.csv\")\n",
    "df.columns.str.replace(' ','_').str.lower()\n",
    "df.columns=df.columns.str.replace(' ','_').str.lower()\n",
    "\n",
    "categorical_columns=list(df.dtypes[df.dtypes=='object'].index)\n",
    "\n",
    "categorical_columns\n",
    "\n",
    "for c in categorical_columns:\n",
    "    df[c]= df[c].str.lower().str.replace(' ','_')\n",
    "\n",
    "df.totalcharges=pd.to_numeric(df.totalcharges, errors=\"coerce\")\n",
    "df.totalcharges=df.totalcharges.fillna(0)\n",
    "\n",
    "\n",
    "df.churn=(df.churn=='yes').astype(int)\n"
   ]
  },
  {
   "cell_type": "code",
   "execution_count": 51,
   "id": "a842c9c3",
   "metadata": {
    "execution": {
     "iopub.execute_input": "2021-11-17T09:44:02.295635Z",
     "iopub.status.busy": "2021-11-17T09:44:02.294622Z",
     "iopub.status.idle": "2021-11-17T09:44:02.306074Z",
     "shell.execute_reply": "2021-11-17T09:44:02.306565Z",
     "shell.execute_reply.started": "2021-11-17T08:49:59.812240Z"
    },
    "papermill": {
     "duration": 0.113887,
     "end_time": "2021-11-17T09:44:02.306743",
     "exception": false,
     "start_time": "2021-11-17T09:44:02.192856",
     "status": "completed"
    },
    "tags": []
   },
   "outputs": [],
   "source": [
    "df_full_train, df_test= train_test_split(df, test_size=0.2, random_state=1)\n"
   ]
  },
  {
   "cell_type": "code",
   "execution_count": 52,
   "id": "6f909078",
   "metadata": {
    "execution": {
     "iopub.execute_input": "2021-11-17T09:44:03.999935Z",
     "iopub.status.busy": "2021-11-17T09:44:03.999007Z",
     "iopub.status.idle": "2021-11-17T09:44:04.008948Z",
     "shell.execute_reply": "2021-11-17T09:44:04.009585Z",
     "shell.execute_reply.started": "2021-11-17T08:50:00.780716Z"
    },
    "papermill": {
     "duration": 0.112964,
     "end_time": "2021-11-17T09:44:04.009770",
     "exception": false,
     "start_time": "2021-11-17T09:44:03.896806",
     "status": "completed"
    },
    "tags": []
   },
   "outputs": [],
   "source": [
    "df_train, df_val= train_test_split(df_full_train, test_size=0.25, random_state=1)"
   ]
  },
  {
   "cell_type": "code",
   "execution_count": 53,
   "id": "11c5606e",
   "metadata": {},
   "outputs": [],
   "source": [
    "numerical=['tenure','monthlycharges','totalcharges']\n",
    "\n",
    "categorical= ['gender', 'seniorcitizen', 'partner', 'dependents','phoneservice', 'multiplelines', 'internetservice',\n",
    "       'onlinesecurity', 'onlinebackup', 'deviceprotection', 'techsupport',\n",
    "       'streamingtv', 'streamingmovies', 'contract', 'paperlessbilling',\n",
    "       'paymentmethod']"
   ]
  },
  {
   "cell_type": "code",
   "execution_count": 54,
   "id": "c50deca0",
   "metadata": {
    "execution": {
     "iopub.execute_input": "2021-11-17T09:44:04.209637Z",
     "iopub.status.busy": "2021-11-17T09:44:04.208692Z",
     "iopub.status.idle": "2021-11-17T09:44:04.217685Z",
     "shell.execute_reply": "2021-11-17T09:44:04.218240Z",
     "shell.execute_reply.started": "2021-11-17T08:50:00.794180Z"
    },
    "papermill": {
     "duration": 0.11088,
     "end_time": "2021-11-17T09:44:04.218435",
     "exception": false,
     "start_time": "2021-11-17T09:44:04.107555",
     "status": "completed"
    },
    "tags": []
   },
   "outputs": [],
   "source": [
    "df_train=df_train.reset_index(drop=True)\n",
    "df_val=df_val.reset_index(drop=True)\n",
    "df_test=df_test.reset_index(drop=True)\n"
   ]
  },
  {
   "cell_type": "code",
   "execution_count": 55,
   "id": "c202757f",
   "metadata": {
    "execution": {
     "iopub.execute_input": "2021-11-17T09:44:04.418739Z",
     "iopub.status.busy": "2021-11-17T09:44:04.417797Z",
     "iopub.status.idle": "2021-11-17T09:44:04.422999Z",
     "shell.execute_reply": "2021-11-17T09:44:04.423617Z",
     "shell.execute_reply.started": "2021-11-17T08:50:00.806740Z"
    },
    "papermill": {
     "duration": 0.106069,
     "end_time": "2021-11-17T09:44:04.423781",
     "exception": false,
     "start_time": "2021-11-17T09:44:04.317712",
     "status": "completed"
    },
    "tags": []
   },
   "outputs": [
    {
     "data": {
      "text/plain": [
       "(4225, 1409, 1409)"
      ]
     },
     "execution_count": 55,
     "metadata": {},
     "output_type": "execute_result"
    }
   ],
   "source": [
    "len(df_train), len(df_val), len(df_test)"
   ]
  },
  {
   "cell_type": "code",
   "execution_count": 56,
   "id": "070cd144",
   "metadata": {
    "execution": {
     "iopub.execute_input": "2021-11-17T09:44:04.625807Z",
     "iopub.status.busy": "2021-11-17T09:44:04.624849Z",
     "iopub.status.idle": "2021-11-17T09:44:04.629634Z",
     "shell.execute_reply": "2021-11-17T09:44:04.630218Z",
     "shell.execute_reply.started": "2021-11-17T08:50:00.819419Z"
    },
    "papermill": {
     "duration": 0.107635,
     "end_time": "2021-11-17T09:44:04.630401",
     "exception": false,
     "start_time": "2021-11-17T09:44:04.522766",
     "status": "completed"
    },
    "tags": []
   },
   "outputs": [],
   "source": [
    "y_train=df_train.churn.values\n",
    "y_val=df_val.churn.values\n",
    "y_test=df_test.churn.values\n",
    "\n",
    "y_full_train= df_full_train.churn.values"
   ]
  },
  {
   "cell_type": "code",
   "execution_count": 57,
   "id": "caa01978",
   "metadata": {
    "execution": {
     "iopub.execute_input": "2021-11-17T09:44:04.838428Z",
     "iopub.status.busy": "2021-11-17T09:44:04.837503Z",
     "iopub.status.idle": "2021-11-17T09:44:04.840544Z",
     "shell.execute_reply": "2021-11-17T09:44:04.839949Z",
     "shell.execute_reply.started": "2021-11-17T08:50:00.830688Z"
    },
    "papermill": {
     "duration": 0.11074,
     "end_time": "2021-11-17T09:44:04.840697",
     "exception": false,
     "start_time": "2021-11-17T09:44:04.729957",
     "status": "completed"
    },
    "tags": []
   },
   "outputs": [],
   "source": [
    "del df_train['churn']\n",
    "del df_val['churn']\n",
    "del df_test['churn']"
   ]
  },
  {
   "cell_type": "code",
   "execution_count": 58,
   "id": "695ac4cb",
   "metadata": {},
   "outputs": [],
   "source": [
    "def train(df_train,y_train, C=1.0):\n",
    "    dicts=df_train[categorical+numerical].to_dict(orient='records')\n",
    "                                   \n",
    "    dv=DictVectorizer(sparse=False)\n",
    "    \n",
    "    \n",
    "    X_train=dv.fit_transform(dicts)\n",
    "    \n",
    "    model=LogisticRegression(solver='liblinear', max_iter=10000 )\n",
    "    model.fit(X_train,y_train)\n",
    "    \n",
    "    return dv, model"
   ]
  },
  {
   "cell_type": "code",
   "execution_count": 62,
   "id": "e757e0b4",
   "metadata": {},
   "outputs": [
    {
     "data": {
      "text/plain": [
       "(DictVectorizer(sparse=False),\n",
       " LogisticRegression(max_iter=10000, solver='liblinear'))"
      ]
     },
     "execution_count": 62,
     "metadata": {},
     "output_type": "execute_result"
    }
   ],
   "source": [
    "dv, model"
   ]
  },
  {
   "cell_type": "code",
   "execution_count": null,
   "id": "71fe88d8",
   "metadata": {},
   "outputs": [],
   "source": [
    "# call another function that makes predictions\n",
    "def predict(df,dv,model):\n",
    "    dicts=df[categorical+numerical].to_dict(orient='records')\n",
    "    X=dv.transform(dicts)\n",
    "    y_pred=model.predict_proba(X)[:,1]\n",
    "    \n",
    "    return y_pred"
   ]
  },
  {
   "cell_type": "code",
   "execution_count": null,
   "id": "008ff5b9",
   "metadata": {},
   "outputs": [],
   "source": [
    "y_pred=predict(df_val,dv, model)"
   ]
  },
  {
   "cell_type": "code",
   "execution_count": null,
   "id": "e0bc1861",
   "metadata": {},
   "outputs": [],
   "source": [
    "# Now calling K-fold cross validation from sklearn\n",
    "\n",
    "kf=KFold(n_splits=n_splits, shuffle=True, random_state=1) "
   ]
  },
  {
   "cell_type": "code",
   "execution_count": null,
   "id": "472fc6ab",
   "metadata": {},
   "outputs": [],
   "source": [
    "kf.split(df_full_train)\n",
    "\n",
    "train_idx, val_idx=next(kf.split(df_full_train))\n",
    "\n",
    "len(train_idx), len(val_idx)"
   ]
  },
  {
   "cell_type": "code",
   "execution_count": null,
   "id": "1bcbe5c2",
   "metadata": {},
   "outputs": [],
   "source": [
    "for train_idx, val_idx in kf.split(df_full_train):\n",
    "\n",
    "    scores=[]\n",
    "    \n",
    "    df_train=df_full_train.iloc[train_idx]\n",
    "    df_val=df_full_train.iloc[val_idx]\n",
    "\n",
    "    y_train=df_train.churn.values\n",
    "    y_val=df_val.churn.values\n",
    "\n",
    "    dv, model=train(df_train,y_train, C=1.0)\n",
    "    y_pred=predict(df_val,dv, model)\n",
    "\n",
    "    auc=roc_auc_score(y_val, y_pred)\n",
    "\n",
    "    scores.append(auc)\n",
    "\n",
    "print(\"C=%s %.3f +- %.3f\"%(C, np.mean(scores),np.std(scores))) "
   ]
  },
  {
   "cell_type": "code",
   "execution_count": 61,
   "id": "93102c50",
   "metadata": {},
   "outputs": [
    {
     "data": {
      "text/plain": [
       "0.8579400803839363"
      ]
     },
     "execution_count": 61,
     "metadata": {},
     "output_type": "execute_result"
    }
   ],
   "source": [
    "dv, model=train(df_full_train,df_full_train.churn.values, C=1.0)\n",
    "y_pred=predict(df_test,dv, model)\n",
    "\n",
    "auc=roc_auc_score(y_test, y_pred)\n",
    "\n",
    "auc"
   ]
  },
  {
   "cell_type": "markdown",
   "id": "a14d7245",
   "metadata": {},
   "source": [
    "### Saving the Model"
   ]
  },
  {
   "cell_type": "code",
   "execution_count": null,
   "id": "1a781db4",
   "metadata": {},
   "outputs": [],
   "source": [
    "import pickle "
   ]
  },
  {
   "cell_type": "code",
   "execution_count": null,
   "id": "b917b15a",
   "metadata": {},
   "outputs": [],
   "source": [
    "output_file=f\"model_C={C}.bin\"\n",
    "\n",
    "output_file"
   ]
  },
  {
   "cell_type": "code",
   "execution_count": null,
   "id": "b3754f3d",
   "metadata": {},
   "outputs": [],
   "source": [
    "f_out=open(output_file,'wb')\n",
    "pickle.dump((dv,model), f_out)\n",
    "\n",
    "f_out.close()"
   ]
  },
  {
   "cell_type": "code",
   "execution_count": null,
   "id": "1f0e81c6",
   "metadata": {},
   "outputs": [],
   "source": [
    "#Alternativey for the code cell above, we can do this:\n",
    "with open(output_file, 'wb') as f_out:\n",
    "    pickle.dump((dv, model), f_out)"
   ]
  },
  {
   "cell_type": "code",
   "execution_count": null,
   "id": "dfdf7092",
   "metadata": {},
   "outputs": [],
   "source": [
    "import os\n",
    "os._exit(00)"
   ]
  },
  {
   "cell_type": "markdown",
   "id": "bc25338e",
   "metadata": {},
   "source": [
    "## Load the model "
   ]
  },
  {
   "cell_type": "code",
   "execution_count": null,
   "id": "6db21fb5",
   "metadata": {},
   "outputs": [],
   "source": [
    "model_file='model_C=1.0.bin'"
   ]
  },
  {
   "cell_type": "code",
   "execution_count": null,
   "id": "36f9de3c",
   "metadata": {},
   "outputs": [],
   "source": [
    "import pickle\n",
    "\n",
    "with open(model_file, 'rb') as f_in:\n",
    "    dv, model=pickle.load(f_in)"
   ]
  },
  {
   "cell_type": "code",
   "execution_count": null,
   "id": "98addb19",
   "metadata": {},
   "outputs": [],
   "source": [
    "dv, model"
   ]
  },
  {
   "cell_type": "code",
   "execution_count": null,
   "id": "de33dbc7",
   "metadata": {},
   "outputs": [],
   "source": [
    "#Picking one customer from the dataset\n",
    "# to evaluate\n",
    "kastama={'gender': 'female',\n",
    " 'seniorcitizen': 0,\n",
    " 'partner': 'no',\n",
    " 'dependents': 'no',\n",
    " 'phoneservice': 'yes',\n",
    " 'multiplelines': 'n0_phone_service',\n",
    " 'internetservice': 'dsl',\n",
    " 'onlinesecurity': 'yes',\n",
    " 'onlinebackup': 'no',\n",
    " 'deviceprotection': 'yes',\n",
    " 'techsupport': 'yes',\n",
    " 'streamingtv': 'yes',\n",
    " 'streamingmovies': 'no',\n",
    " 'contract': 'month-to-month',\n",
    " 'paperlessbilling': 'yes',\n",
    " 'paymentmethod': 'mailed_check',\n",
    " 'tenure': 1,\n",
    " 'monthlycharges': 69.25,\n",
    " 'totalcharges': 69.25}"
   ]
  },
  {
   "cell_type": "code",
   "execution_count": null,
   "id": "c1898916",
   "metadata": {},
   "outputs": [],
   "source": [
    "X=dv.transform([kastama])"
   ]
  },
  {
   "cell_type": "code",
   "execution_count": null,
   "id": "8077681d",
   "metadata": {},
   "outputs": [],
   "source": [
    "model.predict_proba(X)"
   ]
  }
 ],
 "metadata": {
  "kernelspec": {
   "display_name": "Python 3",
   "language": "python",
   "name": "python3"
  },
  "language_info": {
   "codemirror_mode": {
    "name": "ipython",
    "version": 3
   },
   "file_extension": ".py",
   "mimetype": "text/x-python",
   "name": "python",
   "nbconvert_exporter": "python",
   "pygments_lexer": "ipython3",
   "version": "3.9.7"
  },
  "papermill": {
   "default_parameters": {},
   "duration": 60.506723,
   "end_time": "2021-11-17T09:44:33.051982",
   "environment_variables": {},
   "exception": null,
   "input_path": "__notebook__.ipynb",
   "output_path": "__notebook__.ipynb",
   "parameters": {},
   "start_time": "2021-11-17T09:43:32.545259",
   "version": "2.3.3"
  }
 },
 "nbformat": 4,
 "nbformat_minor": 5
}
