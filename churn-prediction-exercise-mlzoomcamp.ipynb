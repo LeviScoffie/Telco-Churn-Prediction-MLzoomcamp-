{
 "cells": [
  {
   "cell_type": "code",
   "execution_count": 9,
   "id": "b5e6cfa1",
   "metadata": {
    "_cell_guid": "b1076dfc-b9ad-4769-8c92-a6c4dae69d19",
    "_uuid": "8f2839f25d086af736a60e9eeb907d3b93b6e0e5",
    "execution": {
     "iopub.execute_input": "2021-11-17T09:43:41.703456Z",
     "iopub.status.busy": "2021-11-17T09:43:41.702210Z",
     "iopub.status.idle": "2021-11-17T09:43:41.722347Z",
     "shell.execute_reply": "2021-11-17T09:43:41.722966Z",
     "shell.execute_reply.started": "2021-11-17T08:49:43.274086Z"
    },
    "papermill": {
     "duration": 0.122648,
     "end_time": "2021-11-17T09:43:41.723258",
     "exception": false,
     "start_time": "2021-11-17T09:43:41.600610",
     "status": "completed"
    },
    "tags": []
   },
   "outputs": [],
   "source": [
    "# This Python 3 environment comes with many helpful analytics libraries installed\n",
    "# It is defined by the kaggle/python Docker image: https://github.com/kaggle/docker-python\n",
    "# For example, here's several helpful packages to load\n",
    "\n",
    "import numpy as np # linear algebra\n",
    "import pandas as pd # data processing, CSV file I/O (e.g. pd.read_csv)\n",
    "import matplotlib.pyplot as plt\n",
    "# Input data files are available in the read-only \"../input/\" directory\n",
    "# For example, running this (by clicking run or pressing Shift+Enter) will list all files under the input directory\n",
    "\n",
    "import os\n",
    "for dirname, _, filenames in os.walk('/kaggle/input'):\n",
    "    for filename in filenames:\n",
    "        print(os.path.join(dirname, filename))\n",
    "\n",
    "# You can write up to 20GB to the current directory (/kaggle/working/) that gets preserved as output when you create a version using \"Save & Run All\" \n",
    "# You can also write temporary files to /kaggle/temp/, but they won't be saved outside of the current session"
   ]
  },
  {
   "cell_type": "code",
   "execution_count": 10,
   "id": "e629ac99",
   "metadata": {
    "execution": {
     "iopub.execute_input": "2021-11-17T09:43:41.976119Z",
     "iopub.status.busy": "2021-11-17T09:43:41.975487Z",
     "iopub.status.idle": "2021-11-17T09:43:51.711338Z",
     "shell.execute_reply": "2021-11-17T09:43:51.710730Z",
     "shell.execute_reply.started": "2021-11-17T08:49:43.308343Z"
    },
    "papermill": {
     "duration": 9.833514,
     "end_time": "2021-11-17T09:43:51.711482",
     "exception": false,
     "start_time": "2021-11-17T09:43:41.877968",
     "status": "completed"
    },
    "tags": []
   },
   "outputs": [
    {
     "name": "stdout",
     "output_type": "stream",
     "text": [
      "Requirement already satisfied: Kaggle in /home/leviscoffie/anaconda3/lib/python3.9/site-packages (1.5.12)\n",
      "Requirement already satisfied: python-dateutil in /home/leviscoffie/anaconda3/lib/python3.9/site-packages (from Kaggle) (2.8.2)\n",
      "Requirement already satisfied: six>=1.10 in /home/leviscoffie/anaconda3/lib/python3.9/site-packages (from Kaggle) (1.16.0)\n",
      "Requirement already satisfied: python-slugify in /home/leviscoffie/anaconda3/lib/python3.9/site-packages (from Kaggle) (5.0.2)\n",
      "Requirement already satisfied: urllib3 in /home/leviscoffie/anaconda3/lib/python3.9/site-packages (from Kaggle) (1.26.7)\n",
      "Requirement already satisfied: tqdm in /home/leviscoffie/anaconda3/lib/python3.9/site-packages (from Kaggle) (4.62.3)\n",
      "Requirement already satisfied: certifi in /home/leviscoffie/anaconda3/lib/python3.9/site-packages (from Kaggle) (2021.10.8)\n",
      "Requirement already satisfied: requests in /home/leviscoffie/anaconda3/lib/python3.9/site-packages (from Kaggle) (2.26.0)\n",
      "Requirement already satisfied: text-unidecode>=1.3 in /home/leviscoffie/anaconda3/lib/python3.9/site-packages (from python-slugify->Kaggle) (1.3)\n",
      "Requirement already satisfied: idna<4,>=2.5 in /home/leviscoffie/anaconda3/lib/python3.9/site-packages (from requests->Kaggle) (3.2)\n",
      "Requirement already satisfied: charset-normalizer~=2.0.0 in /home/leviscoffie/anaconda3/lib/python3.9/site-packages (from requests->Kaggle) (2.0.4)\n",
      "Note: you may need to restart the kernel to use updated packages.\n"
     ]
    }
   ],
   "source": [
    "pip install Kaggle"
   ]
  },
  {
   "cell_type": "code",
   "execution_count": 11,
   "id": "f96b4af4",
   "metadata": {
    "execution": {
     "iopub.execute_input": "2021-11-17T09:43:51.906830Z",
     "iopub.status.busy": "2021-11-17T09:43:51.902757Z",
     "iopub.status.idle": "2021-11-17T09:44:00.359259Z",
     "shell.execute_reply": "2021-11-17T09:44:00.358462Z",
     "shell.execute_reply.started": "2021-11-17T08:49:52.387053Z"
    },
    "papermill": {
     "duration": 8.555022,
     "end_time": "2021-11-17T09:44:00.359485",
     "exception": false,
     "start_time": "2021-11-17T09:43:51.804463",
     "status": "completed"
    },
    "tags": []
   },
   "outputs": [
    {
     "name": "stdout",
     "output_type": "stream",
     "text": [
      "Requirement already satisfied: Ipython in /home/leviscoffie/anaconda3/lib/python3.9/site-packages (7.29.0)\n",
      "Requirement already satisfied: jedi>=0.16 in /home/leviscoffie/anaconda3/lib/python3.9/site-packages (from Ipython) (0.18.0)\n",
      "Requirement already satisfied: pickleshare in /home/leviscoffie/anaconda3/lib/python3.9/site-packages (from Ipython) (0.7.5)\n",
      "Requirement already satisfied: decorator in /home/leviscoffie/anaconda3/lib/python3.9/site-packages (from Ipython) (5.1.0)\n",
      "Requirement already satisfied: traitlets>=4.2 in /home/leviscoffie/anaconda3/lib/python3.9/site-packages (from Ipython) (5.1.0)\n",
      "Requirement already satisfied: pygments in /home/leviscoffie/anaconda3/lib/python3.9/site-packages (from Ipython) (2.10.0)\n",
      "Requirement already satisfied: setuptools>=18.5 in /home/leviscoffie/anaconda3/lib/python3.9/site-packages (from Ipython) (58.0.4)\n",
      "Requirement already satisfied: prompt-toolkit!=3.0.0,!=3.0.1,<3.1.0,>=2.0.0 in /home/leviscoffie/anaconda3/lib/python3.9/site-packages (from Ipython) (3.0.20)\n",
      "Requirement already satisfied: matplotlib-inline in /home/leviscoffie/anaconda3/lib/python3.9/site-packages (from Ipython) (0.1.2)\n",
      "Requirement already satisfied: pexpect>4.3 in /home/leviscoffie/anaconda3/lib/python3.9/site-packages (from Ipython) (4.8.0)\n",
      "Requirement already satisfied: backcall in /home/leviscoffie/anaconda3/lib/python3.9/site-packages (from Ipython) (0.2.0)\n",
      "Requirement already satisfied: parso<0.9.0,>=0.8.0 in /home/leviscoffie/anaconda3/lib/python3.9/site-packages (from jedi>=0.16->Ipython) (0.8.2)\n",
      "Requirement already satisfied: ptyprocess>=0.5 in /home/leviscoffie/anaconda3/lib/python3.9/site-packages (from pexpect>4.3->Ipython) (0.7.0)\n",
      "Requirement already satisfied: wcwidth in /home/leviscoffie/anaconda3/lib/python3.9/site-packages (from prompt-toolkit!=3.0.0,!=3.0.1,<3.1.0,>=2.0.0->Ipython) (0.2.5)\n",
      "Note: you may need to restart the kernel to use updated packages.\n"
     ]
    }
   ],
   "source": [
    "pip install Ipython"
   ]
  },
  {
   "cell_type": "markdown",
   "id": "8a969d62",
   "metadata": {
    "papermill": {
     "duration": 0.095963,
     "end_time": "2021-11-17T09:44:00.553358",
     "exception": false,
     "start_time": "2021-11-17T09:44:00.457395",
     "status": "completed"
    },
    "tags": []
   },
   "source": [
    "# 1. DATA PREPARATION\n",
    "## Reading the Data\n",
    "## Unifying the Data\n",
    "\n",
    "* Check whether the values in the columns are correctly input.\n"
   ]
  },
  {
   "cell_type": "code",
   "execution_count": 12,
   "id": "766f5650",
   "metadata": {
    "execution": {
     "iopub.execute_input": "2021-11-17T09:44:00.754244Z",
     "iopub.status.busy": "2021-11-17T09:44:00.753500Z",
     "iopub.status.idle": "2021-11-17T09:44:00.812687Z",
     "shell.execute_reply": "2021-11-17T09:44:00.812015Z",
     "shell.execute_reply.started": "2021-11-17T08:49:59.532133Z"
    },
    "papermill": {
     "duration": 0.162957,
     "end_time": "2021-11-17T09:44:00.812840",
     "exception": false,
     "start_time": "2021-11-17T09:44:00.649883",
     "status": "completed"
    },
    "tags": []
   },
   "outputs": [
    {
     "name": "stdout",
     "output_type": "stream",
     "text": [
      "CPU times: user 4 µs, sys: 1e+03 ns, total: 5 µs\n",
      "Wall time: 13.6 µs\n"
     ]
    },
    {
     "ename": "FileNotFoundError",
     "evalue": "[Errno 2] No such file or directory: '/kaggle/input/telco-customer-churn/WA_Fn-UseC_-Telco-Customer-Churn.csv'",
     "output_type": "error",
     "traceback": [
      "\u001b[0;31m---------------------------------------------------------------------------\u001b[0m",
      "\u001b[0;31mFileNotFoundError\u001b[0m                         Traceback (most recent call last)",
      "\u001b[0;32m/tmp/ipykernel_24000/2958166326.py\u001b[0m in \u001b[0;36m<module>\u001b[0;34m\u001b[0m\n\u001b[1;32m      1\u001b[0m \u001b[0mget_ipython\u001b[0m\u001b[0;34m(\u001b[0m\u001b[0;34m)\u001b[0m\u001b[0;34m.\u001b[0m\u001b[0mrun_line_magic\u001b[0m\u001b[0;34m(\u001b[0m\u001b[0;34m'time'\u001b[0m\u001b[0;34m,\u001b[0m \u001b[0;34m''\u001b[0m\u001b[0;34m)\u001b[0m\u001b[0;34m\u001b[0m\u001b[0;34m\u001b[0m\u001b[0m\n\u001b[1;32m      2\u001b[0m \u001b[0;34m\u001b[0m\u001b[0m\n\u001b[0;32m----> 3\u001b[0;31m \u001b[0mdf\u001b[0m\u001b[0;34m=\u001b[0m\u001b[0mpd\u001b[0m\u001b[0;34m.\u001b[0m\u001b[0mread_csv\u001b[0m\u001b[0;34m(\u001b[0m\u001b[0;34m\"/kaggle/input/telco-customer-churn/WA_Fn-UseC_-Telco-Customer-Churn.csv\"\u001b[0m\u001b[0;34m)\u001b[0m\u001b[0;34m\u001b[0m\u001b[0;34m\u001b[0m\u001b[0m\n\u001b[0m\u001b[1;32m      4\u001b[0m \u001b[0;34m\u001b[0m\u001b[0m\n",
      "\u001b[0;32m~/anaconda3/lib/python3.9/site-packages/pandas/util/_decorators.py\u001b[0m in \u001b[0;36mwrapper\u001b[0;34m(*args, **kwargs)\u001b[0m\n\u001b[1;32m    309\u001b[0m                     \u001b[0mstacklevel\u001b[0m\u001b[0;34m=\u001b[0m\u001b[0mstacklevel\u001b[0m\u001b[0;34m,\u001b[0m\u001b[0;34m\u001b[0m\u001b[0;34m\u001b[0m\u001b[0m\n\u001b[1;32m    310\u001b[0m                 )\n\u001b[0;32m--> 311\u001b[0;31m             \u001b[0;32mreturn\u001b[0m \u001b[0mfunc\u001b[0m\u001b[0;34m(\u001b[0m\u001b[0;34m*\u001b[0m\u001b[0margs\u001b[0m\u001b[0;34m,\u001b[0m \u001b[0;34m**\u001b[0m\u001b[0mkwargs\u001b[0m\u001b[0;34m)\u001b[0m\u001b[0;34m\u001b[0m\u001b[0;34m\u001b[0m\u001b[0m\n\u001b[0m\u001b[1;32m    312\u001b[0m \u001b[0;34m\u001b[0m\u001b[0m\n\u001b[1;32m    313\u001b[0m         \u001b[0;32mreturn\u001b[0m \u001b[0mwrapper\u001b[0m\u001b[0;34m\u001b[0m\u001b[0;34m\u001b[0m\u001b[0m\n",
      "\u001b[0;32m~/anaconda3/lib/python3.9/site-packages/pandas/io/parsers/readers.py\u001b[0m in \u001b[0;36mread_csv\u001b[0;34m(filepath_or_buffer, sep, delimiter, header, names, index_col, usecols, squeeze, prefix, mangle_dupe_cols, dtype, engine, converters, true_values, false_values, skipinitialspace, skiprows, skipfooter, nrows, na_values, keep_default_na, na_filter, verbose, skip_blank_lines, parse_dates, infer_datetime_format, keep_date_col, date_parser, dayfirst, cache_dates, iterator, chunksize, compression, thousands, decimal, lineterminator, quotechar, quoting, doublequote, escapechar, comment, encoding, encoding_errors, dialect, error_bad_lines, warn_bad_lines, on_bad_lines, delim_whitespace, low_memory, memory_map, float_precision, storage_options)\u001b[0m\n\u001b[1;32m    584\u001b[0m     \u001b[0mkwds\u001b[0m\u001b[0;34m.\u001b[0m\u001b[0mupdate\u001b[0m\u001b[0;34m(\u001b[0m\u001b[0mkwds_defaults\u001b[0m\u001b[0;34m)\u001b[0m\u001b[0;34m\u001b[0m\u001b[0;34m\u001b[0m\u001b[0m\n\u001b[1;32m    585\u001b[0m \u001b[0;34m\u001b[0m\u001b[0m\n\u001b[0;32m--> 586\u001b[0;31m     \u001b[0;32mreturn\u001b[0m \u001b[0m_read\u001b[0m\u001b[0;34m(\u001b[0m\u001b[0mfilepath_or_buffer\u001b[0m\u001b[0;34m,\u001b[0m \u001b[0mkwds\u001b[0m\u001b[0;34m)\u001b[0m\u001b[0;34m\u001b[0m\u001b[0;34m\u001b[0m\u001b[0m\n\u001b[0m\u001b[1;32m    587\u001b[0m \u001b[0;34m\u001b[0m\u001b[0m\n\u001b[1;32m    588\u001b[0m \u001b[0;34m\u001b[0m\u001b[0m\n",
      "\u001b[0;32m~/anaconda3/lib/python3.9/site-packages/pandas/io/parsers/readers.py\u001b[0m in \u001b[0;36m_read\u001b[0;34m(filepath_or_buffer, kwds)\u001b[0m\n\u001b[1;32m    480\u001b[0m \u001b[0;34m\u001b[0m\u001b[0m\n\u001b[1;32m    481\u001b[0m     \u001b[0;31m# Create the parser.\u001b[0m\u001b[0;34m\u001b[0m\u001b[0;34m\u001b[0m\u001b[0m\n\u001b[0;32m--> 482\u001b[0;31m     \u001b[0mparser\u001b[0m \u001b[0;34m=\u001b[0m \u001b[0mTextFileReader\u001b[0m\u001b[0;34m(\u001b[0m\u001b[0mfilepath_or_buffer\u001b[0m\u001b[0;34m,\u001b[0m \u001b[0;34m**\u001b[0m\u001b[0mkwds\u001b[0m\u001b[0;34m)\u001b[0m\u001b[0;34m\u001b[0m\u001b[0;34m\u001b[0m\u001b[0m\n\u001b[0m\u001b[1;32m    483\u001b[0m \u001b[0;34m\u001b[0m\u001b[0m\n\u001b[1;32m    484\u001b[0m     \u001b[0;32mif\u001b[0m \u001b[0mchunksize\u001b[0m \u001b[0;32mor\u001b[0m \u001b[0miterator\u001b[0m\u001b[0;34m:\u001b[0m\u001b[0;34m\u001b[0m\u001b[0;34m\u001b[0m\u001b[0m\n",
      "\u001b[0;32m~/anaconda3/lib/python3.9/site-packages/pandas/io/parsers/readers.py\u001b[0m in \u001b[0;36m__init__\u001b[0;34m(self, f, engine, **kwds)\u001b[0m\n\u001b[1;32m    809\u001b[0m             \u001b[0mself\u001b[0m\u001b[0;34m.\u001b[0m\u001b[0moptions\u001b[0m\u001b[0;34m[\u001b[0m\u001b[0;34m\"has_index_names\"\u001b[0m\u001b[0;34m]\u001b[0m \u001b[0;34m=\u001b[0m \u001b[0mkwds\u001b[0m\u001b[0;34m[\u001b[0m\u001b[0;34m\"has_index_names\"\u001b[0m\u001b[0;34m]\u001b[0m\u001b[0;34m\u001b[0m\u001b[0;34m\u001b[0m\u001b[0m\n\u001b[1;32m    810\u001b[0m \u001b[0;34m\u001b[0m\u001b[0m\n\u001b[0;32m--> 811\u001b[0;31m         \u001b[0mself\u001b[0m\u001b[0;34m.\u001b[0m\u001b[0m_engine\u001b[0m \u001b[0;34m=\u001b[0m \u001b[0mself\u001b[0m\u001b[0;34m.\u001b[0m\u001b[0m_make_engine\u001b[0m\u001b[0;34m(\u001b[0m\u001b[0mself\u001b[0m\u001b[0;34m.\u001b[0m\u001b[0mengine\u001b[0m\u001b[0;34m)\u001b[0m\u001b[0;34m\u001b[0m\u001b[0;34m\u001b[0m\u001b[0m\n\u001b[0m\u001b[1;32m    812\u001b[0m \u001b[0;34m\u001b[0m\u001b[0m\n\u001b[1;32m    813\u001b[0m     \u001b[0;32mdef\u001b[0m \u001b[0mclose\u001b[0m\u001b[0;34m(\u001b[0m\u001b[0mself\u001b[0m\u001b[0;34m)\u001b[0m\u001b[0;34m:\u001b[0m\u001b[0;34m\u001b[0m\u001b[0;34m\u001b[0m\u001b[0m\n",
      "\u001b[0;32m~/anaconda3/lib/python3.9/site-packages/pandas/io/parsers/readers.py\u001b[0m in \u001b[0;36m_make_engine\u001b[0;34m(self, engine)\u001b[0m\n\u001b[1;32m   1038\u001b[0m             )\n\u001b[1;32m   1039\u001b[0m         \u001b[0;31m# error: Too many arguments for \"ParserBase\"\u001b[0m\u001b[0;34m\u001b[0m\u001b[0;34m\u001b[0m\u001b[0m\n\u001b[0;32m-> 1040\u001b[0;31m         \u001b[0;32mreturn\u001b[0m \u001b[0mmapping\u001b[0m\u001b[0;34m[\u001b[0m\u001b[0mengine\u001b[0m\u001b[0;34m]\u001b[0m\u001b[0;34m(\u001b[0m\u001b[0mself\u001b[0m\u001b[0;34m.\u001b[0m\u001b[0mf\u001b[0m\u001b[0;34m,\u001b[0m \u001b[0;34m**\u001b[0m\u001b[0mself\u001b[0m\u001b[0;34m.\u001b[0m\u001b[0moptions\u001b[0m\u001b[0;34m)\u001b[0m  \u001b[0;31m# type: ignore[call-arg]\u001b[0m\u001b[0;34m\u001b[0m\u001b[0;34m\u001b[0m\u001b[0m\n\u001b[0m\u001b[1;32m   1041\u001b[0m \u001b[0;34m\u001b[0m\u001b[0m\n\u001b[1;32m   1042\u001b[0m     \u001b[0;32mdef\u001b[0m \u001b[0m_failover_to_python\u001b[0m\u001b[0;34m(\u001b[0m\u001b[0mself\u001b[0m\u001b[0;34m)\u001b[0m\u001b[0;34m:\u001b[0m\u001b[0;34m\u001b[0m\u001b[0;34m\u001b[0m\u001b[0m\n",
      "\u001b[0;32m~/anaconda3/lib/python3.9/site-packages/pandas/io/parsers/c_parser_wrapper.py\u001b[0m in \u001b[0;36m__init__\u001b[0;34m(self, src, **kwds)\u001b[0m\n\u001b[1;32m     49\u001b[0m \u001b[0;34m\u001b[0m\u001b[0m\n\u001b[1;32m     50\u001b[0m         \u001b[0;31m# open handles\u001b[0m\u001b[0;34m\u001b[0m\u001b[0;34m\u001b[0m\u001b[0m\n\u001b[0;32m---> 51\u001b[0;31m         \u001b[0mself\u001b[0m\u001b[0;34m.\u001b[0m\u001b[0m_open_handles\u001b[0m\u001b[0;34m(\u001b[0m\u001b[0msrc\u001b[0m\u001b[0;34m,\u001b[0m \u001b[0mkwds\u001b[0m\u001b[0;34m)\u001b[0m\u001b[0;34m\u001b[0m\u001b[0;34m\u001b[0m\u001b[0m\n\u001b[0m\u001b[1;32m     52\u001b[0m         \u001b[0;32massert\u001b[0m \u001b[0mself\u001b[0m\u001b[0;34m.\u001b[0m\u001b[0mhandles\u001b[0m \u001b[0;32mis\u001b[0m \u001b[0;32mnot\u001b[0m \u001b[0;32mNone\u001b[0m\u001b[0;34m\u001b[0m\u001b[0;34m\u001b[0m\u001b[0m\n\u001b[1;32m     53\u001b[0m \u001b[0;34m\u001b[0m\u001b[0m\n",
      "\u001b[0;32m~/anaconda3/lib/python3.9/site-packages/pandas/io/parsers/base_parser.py\u001b[0m in \u001b[0;36m_open_handles\u001b[0;34m(self, src, kwds)\u001b[0m\n\u001b[1;32m    220\u001b[0m         \u001b[0mLet\u001b[0m \u001b[0mthe\u001b[0m \u001b[0mreaders\u001b[0m \u001b[0mopen\u001b[0m \u001b[0mIOHandles\u001b[0m \u001b[0mafter\u001b[0m \u001b[0mthey\u001b[0m \u001b[0mare\u001b[0m \u001b[0mdone\u001b[0m \u001b[0;32mwith\u001b[0m \u001b[0mtheir\u001b[0m \u001b[0mpotential\u001b[0m \u001b[0mraises\u001b[0m\u001b[0;34m.\u001b[0m\u001b[0;34m\u001b[0m\u001b[0;34m\u001b[0m\u001b[0m\n\u001b[1;32m    221\u001b[0m         \"\"\"\n\u001b[0;32m--> 222\u001b[0;31m         self.handles = get_handle(\n\u001b[0m\u001b[1;32m    223\u001b[0m             \u001b[0msrc\u001b[0m\u001b[0;34m,\u001b[0m\u001b[0;34m\u001b[0m\u001b[0;34m\u001b[0m\u001b[0m\n\u001b[1;32m    224\u001b[0m             \u001b[0;34m\"r\"\u001b[0m\u001b[0;34m,\u001b[0m\u001b[0;34m\u001b[0m\u001b[0;34m\u001b[0m\u001b[0m\n",
      "\u001b[0;32m~/anaconda3/lib/python3.9/site-packages/pandas/io/common.py\u001b[0m in \u001b[0;36mget_handle\u001b[0;34m(path_or_buf, mode, encoding, compression, memory_map, is_text, errors, storage_options)\u001b[0m\n\u001b[1;32m    700\u001b[0m         \u001b[0;32mif\u001b[0m \u001b[0mioargs\u001b[0m\u001b[0;34m.\u001b[0m\u001b[0mencoding\u001b[0m \u001b[0;32mand\u001b[0m \u001b[0;34m\"b\"\u001b[0m \u001b[0;32mnot\u001b[0m \u001b[0;32min\u001b[0m \u001b[0mioargs\u001b[0m\u001b[0;34m.\u001b[0m\u001b[0mmode\u001b[0m\u001b[0;34m:\u001b[0m\u001b[0;34m\u001b[0m\u001b[0;34m\u001b[0m\u001b[0m\n\u001b[1;32m    701\u001b[0m             \u001b[0;31m# Encoding\u001b[0m\u001b[0;34m\u001b[0m\u001b[0;34m\u001b[0m\u001b[0m\n\u001b[0;32m--> 702\u001b[0;31m             handle = open(\n\u001b[0m\u001b[1;32m    703\u001b[0m                 \u001b[0mhandle\u001b[0m\u001b[0;34m,\u001b[0m\u001b[0;34m\u001b[0m\u001b[0;34m\u001b[0m\u001b[0m\n\u001b[1;32m    704\u001b[0m                 \u001b[0mioargs\u001b[0m\u001b[0;34m.\u001b[0m\u001b[0mmode\u001b[0m\u001b[0;34m,\u001b[0m\u001b[0;34m\u001b[0m\u001b[0;34m\u001b[0m\u001b[0m\n",
      "\u001b[0;31mFileNotFoundError\u001b[0m: [Errno 2] No such file or directory: '/kaggle/input/telco-customer-churn/WA_Fn-UseC_-Telco-Customer-Churn.csv'"
     ]
    }
   ],
   "source": [
    "%time\n",
    "\n",
    "df=pd.read_csv(\"/kaggle/input/telco-customer-churn/WA_Fn-UseC_-Telco-Customer-Churn.csv\")\n",
    "\n"
   ]
  },
  {
   "cell_type": "code",
   "execution_count": null,
   "id": "fd436946",
   "metadata": {
    "execution": {
     "iopub.execute_input": "2021-11-17T09:44:01.017137Z",
     "iopub.status.busy": "2021-11-17T09:44:01.016431Z",
     "iopub.status.idle": "2021-11-17T09:44:01.019929Z",
     "shell.execute_reply": "2021-11-17T09:44:01.019316Z",
     "shell.execute_reply.started": "2021-11-17T08:49:59.589723Z"
    },
    "papermill": {
     "duration": 0.109641,
     "end_time": "2021-11-17T09:44:01.020071",
     "exception": false,
     "start_time": "2021-11-17T09:44:00.910430",
     "status": "completed"
    },
    "tags": []
   },
   "outputs": [
    {
     "data": {
      "text/plain": [
       "Index(['customerid', 'gender', 'seniorcitizen', 'partner', 'dependents',\n",
       "       'tenure', 'phoneservice', 'multiplelines', 'internetservice',\n",
       "       'onlinesecurity', 'onlinebackup', 'deviceprotection', 'techsupport',\n",
       "       'streamingtv', 'streamingmovies', 'contract', 'paperlessbilling',\n",
       "       'paymentmethod', 'monthlycharges', 'totalcharges', 'churn'],\n",
       "      dtype='object')"
      ]
     },
     "execution_count": 5,
     "metadata": {},
     "output_type": "execute_result"
    }
   ],
   "source": [
    "df.columns.str.replace(' ','_').str.lower()"
   ]
  },
  {
   "cell_type": "code",
   "execution_count": null,
   "id": "b6be52d3",
   "metadata": {
    "execution": {
     "iopub.execute_input": "2021-11-17T09:44:01.230660Z",
     "iopub.status.busy": "2021-11-17T09:44:01.229654Z",
     "iopub.status.idle": "2021-11-17T09:44:01.246185Z",
     "shell.execute_reply": "2021-11-17T09:44:01.245572Z",
     "shell.execute_reply.started": "2021-11-17T08:49:59.602457Z"
    },
    "papermill": {
     "duration": 0.126917,
     "end_time": "2021-11-17T09:44:01.246366",
     "exception": false,
     "start_time": "2021-11-17T09:44:01.119449",
     "status": "completed"
    },
    "tags": []
   },
   "outputs": [
    {
     "data": {
      "text/html": [
       "<div>\n",
       "<style scoped>\n",
       "    .dataframe tbody tr th:only-of-type {\n",
       "        vertical-align: middle;\n",
       "    }\n",
       "\n",
       "    .dataframe tbody tr th {\n",
       "        vertical-align: top;\n",
       "    }\n",
       "\n",
       "    .dataframe thead th {\n",
       "        text-align: right;\n",
       "    }\n",
       "</style>\n",
       "<table border=\"1\" class=\"dataframe\">\n",
       "  <thead>\n",
       "    <tr style=\"text-align: right;\">\n",
       "      <th></th>\n",
       "      <th>0</th>\n",
       "      <th>1</th>\n",
       "      <th>2</th>\n",
       "      <th>3</th>\n",
       "      <th>4</th>\n",
       "    </tr>\n",
       "  </thead>\n",
       "  <tbody>\n",
       "    <tr>\n",
       "      <th>customerID</th>\n",
       "      <td>7590-VHVEG</td>\n",
       "      <td>5575-GNVDE</td>\n",
       "      <td>3668-QPYBK</td>\n",
       "      <td>7795-CFOCW</td>\n",
       "      <td>9237-HQITU</td>\n",
       "    </tr>\n",
       "    <tr>\n",
       "      <th>gender</th>\n",
       "      <td>Female</td>\n",
       "      <td>Male</td>\n",
       "      <td>Male</td>\n",
       "      <td>Male</td>\n",
       "      <td>Female</td>\n",
       "    </tr>\n",
       "    <tr>\n",
       "      <th>SeniorCitizen</th>\n",
       "      <td>0</td>\n",
       "      <td>0</td>\n",
       "      <td>0</td>\n",
       "      <td>0</td>\n",
       "      <td>0</td>\n",
       "    </tr>\n",
       "    <tr>\n",
       "      <th>Partner</th>\n",
       "      <td>Yes</td>\n",
       "      <td>No</td>\n",
       "      <td>No</td>\n",
       "      <td>No</td>\n",
       "      <td>No</td>\n",
       "    </tr>\n",
       "    <tr>\n",
       "      <th>Dependents</th>\n",
       "      <td>No</td>\n",
       "      <td>No</td>\n",
       "      <td>No</td>\n",
       "      <td>No</td>\n",
       "      <td>No</td>\n",
       "    </tr>\n",
       "    <tr>\n",
       "      <th>tenure</th>\n",
       "      <td>1</td>\n",
       "      <td>34</td>\n",
       "      <td>2</td>\n",
       "      <td>45</td>\n",
       "      <td>2</td>\n",
       "    </tr>\n",
       "    <tr>\n",
       "      <th>PhoneService</th>\n",
       "      <td>No</td>\n",
       "      <td>Yes</td>\n",
       "      <td>Yes</td>\n",
       "      <td>No</td>\n",
       "      <td>Yes</td>\n",
       "    </tr>\n",
       "    <tr>\n",
       "      <th>MultipleLines</th>\n",
       "      <td>No phone service</td>\n",
       "      <td>No</td>\n",
       "      <td>No</td>\n",
       "      <td>No phone service</td>\n",
       "      <td>No</td>\n",
       "    </tr>\n",
       "    <tr>\n",
       "      <th>InternetService</th>\n",
       "      <td>DSL</td>\n",
       "      <td>DSL</td>\n",
       "      <td>DSL</td>\n",
       "      <td>DSL</td>\n",
       "      <td>Fiber optic</td>\n",
       "    </tr>\n",
       "    <tr>\n",
       "      <th>OnlineSecurity</th>\n",
       "      <td>No</td>\n",
       "      <td>Yes</td>\n",
       "      <td>Yes</td>\n",
       "      <td>Yes</td>\n",
       "      <td>No</td>\n",
       "    </tr>\n",
       "    <tr>\n",
       "      <th>OnlineBackup</th>\n",
       "      <td>Yes</td>\n",
       "      <td>No</td>\n",
       "      <td>Yes</td>\n",
       "      <td>No</td>\n",
       "      <td>No</td>\n",
       "    </tr>\n",
       "    <tr>\n",
       "      <th>DeviceProtection</th>\n",
       "      <td>No</td>\n",
       "      <td>Yes</td>\n",
       "      <td>No</td>\n",
       "      <td>Yes</td>\n",
       "      <td>No</td>\n",
       "    </tr>\n",
       "    <tr>\n",
       "      <th>TechSupport</th>\n",
       "      <td>No</td>\n",
       "      <td>No</td>\n",
       "      <td>No</td>\n",
       "      <td>Yes</td>\n",
       "      <td>No</td>\n",
       "    </tr>\n",
       "    <tr>\n",
       "      <th>StreamingTV</th>\n",
       "      <td>No</td>\n",
       "      <td>No</td>\n",
       "      <td>No</td>\n",
       "      <td>No</td>\n",
       "      <td>No</td>\n",
       "    </tr>\n",
       "    <tr>\n",
       "      <th>StreamingMovies</th>\n",
       "      <td>No</td>\n",
       "      <td>No</td>\n",
       "      <td>No</td>\n",
       "      <td>No</td>\n",
       "      <td>No</td>\n",
       "    </tr>\n",
       "    <tr>\n",
       "      <th>Contract</th>\n",
       "      <td>Month-to-month</td>\n",
       "      <td>One year</td>\n",
       "      <td>Month-to-month</td>\n",
       "      <td>One year</td>\n",
       "      <td>Month-to-month</td>\n",
       "    </tr>\n",
       "    <tr>\n",
       "      <th>PaperlessBilling</th>\n",
       "      <td>Yes</td>\n",
       "      <td>No</td>\n",
       "      <td>Yes</td>\n",
       "      <td>No</td>\n",
       "      <td>Yes</td>\n",
       "    </tr>\n",
       "    <tr>\n",
       "      <th>PaymentMethod</th>\n",
       "      <td>Electronic check</td>\n",
       "      <td>Mailed check</td>\n",
       "      <td>Mailed check</td>\n",
       "      <td>Bank transfer (automatic)</td>\n",
       "      <td>Electronic check</td>\n",
       "    </tr>\n",
       "    <tr>\n",
       "      <th>MonthlyCharges</th>\n",
       "      <td>29.85</td>\n",
       "      <td>56.95</td>\n",
       "      <td>53.85</td>\n",
       "      <td>42.3</td>\n",
       "      <td>70.7</td>\n",
       "    </tr>\n",
       "    <tr>\n",
       "      <th>TotalCharges</th>\n",
       "      <td>29.85</td>\n",
       "      <td>1889.5</td>\n",
       "      <td>108.15</td>\n",
       "      <td>1840.75</td>\n",
       "      <td>151.65</td>\n",
       "    </tr>\n",
       "    <tr>\n",
       "      <th>Churn</th>\n",
       "      <td>No</td>\n",
       "      <td>No</td>\n",
       "      <td>Yes</td>\n",
       "      <td>No</td>\n",
       "      <td>Yes</td>\n",
       "    </tr>\n",
       "  </tbody>\n",
       "</table>\n",
       "</div>"
      ],
      "text/plain": [
       "                                 0             1               2  \\\n",
       "customerID              7590-VHVEG    5575-GNVDE      3668-QPYBK   \n",
       "gender                      Female          Male            Male   \n",
       "SeniorCitizen                    0             0               0   \n",
       "Partner                        Yes            No              No   \n",
       "Dependents                      No            No              No   \n",
       "tenure                           1            34               2   \n",
       "PhoneService                    No           Yes             Yes   \n",
       "MultipleLines     No phone service            No              No   \n",
       "InternetService                DSL           DSL             DSL   \n",
       "OnlineSecurity                  No           Yes             Yes   \n",
       "OnlineBackup                   Yes            No             Yes   \n",
       "DeviceProtection                No           Yes              No   \n",
       "TechSupport                     No            No              No   \n",
       "StreamingTV                     No            No              No   \n",
       "StreamingMovies                 No            No              No   \n",
       "Contract            Month-to-month      One year  Month-to-month   \n",
       "PaperlessBilling               Yes            No             Yes   \n",
       "PaymentMethod     Electronic check  Mailed check    Mailed check   \n",
       "MonthlyCharges               29.85         56.95           53.85   \n",
       "TotalCharges                 29.85        1889.5          108.15   \n",
       "Churn                           No            No             Yes   \n",
       "\n",
       "                                          3                 4  \n",
       "customerID                       7795-CFOCW        9237-HQITU  \n",
       "gender                                 Male            Female  \n",
       "SeniorCitizen                             0                 0  \n",
       "Partner                                  No                No  \n",
       "Dependents                               No                No  \n",
       "tenure                                   45                 2  \n",
       "PhoneService                             No               Yes  \n",
       "MultipleLines              No phone service                No  \n",
       "InternetService                         DSL       Fiber optic  \n",
       "OnlineSecurity                          Yes                No  \n",
       "OnlineBackup                             No                No  \n",
       "DeviceProtection                        Yes                No  \n",
       "TechSupport                             Yes                No  \n",
       "StreamingTV                              No                No  \n",
       "StreamingMovies                          No                No  \n",
       "Contract                           One year    Month-to-month  \n",
       "PaperlessBilling                         No               Yes  \n",
       "PaymentMethod     Bank transfer (automatic)  Electronic check  \n",
       "MonthlyCharges                         42.3              70.7  \n",
       "TotalCharges                        1840.75            151.65  \n",
       "Churn                                    No               Yes  "
      ]
     },
     "execution_count": 6,
     "metadata": {},
     "output_type": "execute_result"
    }
   ],
   "source": [
    "df.head().T"
   ]
  },
  {
   "cell_type": "code",
   "execution_count": null,
   "id": "94426a99",
   "metadata": {
    "execution": {
     "iopub.execute_input": "2021-11-17T09:44:01.526472Z",
     "iopub.status.busy": "2021-11-17T09:44:01.525401Z",
     "iopub.status.idle": "2021-11-17T09:44:01.653029Z",
     "shell.execute_reply": "2021-11-17T09:44:01.652463Z",
     "shell.execute_reply.started": "2021-11-17T08:49:59.635296Z"
    },
    "papermill": {
     "duration": 0.280623,
     "end_time": "2021-11-17T09:44:01.653177",
     "exception": false,
     "start_time": "2021-11-17T09:44:01.372554",
     "status": "completed"
    },
    "tags": []
   },
   "outputs": [],
   "source": [
    "df.columns=df.columns.str.replace(' ','_').str.lower()\n",
    "\n",
    "categorical_columns=list(df.dtypes[df.dtypes=='object'].index)\n",
    "\n",
    "categorical_columns\n",
    "\n",
    "for c in categorical_columns:\n",
    "    df[c]= df[c].str.lower().str.replace(' ','_')"
   ]
  },
  {
   "cell_type": "code",
   "execution_count": null,
   "id": "9ec5dcd8",
   "metadata": {
    "execution": {
     "iopub.execute_input": "2021-11-17T09:44:01.854091Z",
     "iopub.status.busy": "2021-11-17T09:44:01.853100Z",
     "iopub.status.idle": "2021-11-17T09:44:01.883222Z",
     "shell.execute_reply": "2021-11-17T09:44:01.883834Z",
     "shell.execute_reply.started": "2021-11-17T08:49:59.769105Z"
    },
    "papermill": {
     "duration": 0.131336,
     "end_time": "2021-11-17T09:44:01.884007",
     "exception": false,
     "start_time": "2021-11-17T09:44:01.752671",
     "status": "completed"
    },
    "tags": []
   },
   "outputs": [
    {
     "data": {
      "text/html": [
       "<div>\n",
       "<style scoped>\n",
       "    .dataframe tbody tr th:only-of-type {\n",
       "        vertical-align: middle;\n",
       "    }\n",
       "\n",
       "    .dataframe tbody tr th {\n",
       "        vertical-align: top;\n",
       "    }\n",
       "\n",
       "    .dataframe thead th {\n",
       "        text-align: right;\n",
       "    }\n",
       "</style>\n",
       "<table border=\"1\" class=\"dataframe\">\n",
       "  <thead>\n",
       "    <tr style=\"text-align: right;\">\n",
       "      <th></th>\n",
       "      <th>customerid</th>\n",
       "      <th>gender</th>\n",
       "      <th>seniorcitizen</th>\n",
       "      <th>partner</th>\n",
       "      <th>dependents</th>\n",
       "      <th>tenure</th>\n",
       "      <th>phoneservice</th>\n",
       "      <th>multiplelines</th>\n",
       "      <th>internetservice</th>\n",
       "      <th>onlinesecurity</th>\n",
       "      <th>...</th>\n",
       "      <th>deviceprotection</th>\n",
       "      <th>techsupport</th>\n",
       "      <th>streamingtv</th>\n",
       "      <th>streamingmovies</th>\n",
       "      <th>contract</th>\n",
       "      <th>paperlessbilling</th>\n",
       "      <th>paymentmethod</th>\n",
       "      <th>monthlycharges</th>\n",
       "      <th>totalcharges</th>\n",
       "      <th>churn</th>\n",
       "    </tr>\n",
       "  </thead>\n",
       "  <tbody>\n",
       "    <tr>\n",
       "      <th>0</th>\n",
       "      <td>7590-vhveg</td>\n",
       "      <td>female</td>\n",
       "      <td>0</td>\n",
       "      <td>yes</td>\n",
       "      <td>no</td>\n",
       "      <td>1</td>\n",
       "      <td>no</td>\n",
       "      <td>no_phone_service</td>\n",
       "      <td>dsl</td>\n",
       "      <td>no</td>\n",
       "      <td>...</td>\n",
       "      <td>no</td>\n",
       "      <td>no</td>\n",
       "      <td>no</td>\n",
       "      <td>no</td>\n",
       "      <td>month-to-month</td>\n",
       "      <td>yes</td>\n",
       "      <td>electronic_check</td>\n",
       "      <td>29.85</td>\n",
       "      <td>29.85</td>\n",
       "      <td>no</td>\n",
       "    </tr>\n",
       "    <tr>\n",
       "      <th>1</th>\n",
       "      <td>5575-gnvde</td>\n",
       "      <td>male</td>\n",
       "      <td>0</td>\n",
       "      <td>no</td>\n",
       "      <td>no</td>\n",
       "      <td>34</td>\n",
       "      <td>yes</td>\n",
       "      <td>no</td>\n",
       "      <td>dsl</td>\n",
       "      <td>yes</td>\n",
       "      <td>...</td>\n",
       "      <td>yes</td>\n",
       "      <td>no</td>\n",
       "      <td>no</td>\n",
       "      <td>no</td>\n",
       "      <td>one_year</td>\n",
       "      <td>no</td>\n",
       "      <td>mailed_check</td>\n",
       "      <td>56.95</td>\n",
       "      <td>1889.5</td>\n",
       "      <td>no</td>\n",
       "    </tr>\n",
       "    <tr>\n",
       "      <th>2</th>\n",
       "      <td>3668-qpybk</td>\n",
       "      <td>male</td>\n",
       "      <td>0</td>\n",
       "      <td>no</td>\n",
       "      <td>no</td>\n",
       "      <td>2</td>\n",
       "      <td>yes</td>\n",
       "      <td>no</td>\n",
       "      <td>dsl</td>\n",
       "      <td>yes</td>\n",
       "      <td>...</td>\n",
       "      <td>no</td>\n",
       "      <td>no</td>\n",
       "      <td>no</td>\n",
       "      <td>no</td>\n",
       "      <td>month-to-month</td>\n",
       "      <td>yes</td>\n",
       "      <td>mailed_check</td>\n",
       "      <td>53.85</td>\n",
       "      <td>108.15</td>\n",
       "      <td>yes</td>\n",
       "    </tr>\n",
       "    <tr>\n",
       "      <th>3</th>\n",
       "      <td>7795-cfocw</td>\n",
       "      <td>male</td>\n",
       "      <td>0</td>\n",
       "      <td>no</td>\n",
       "      <td>no</td>\n",
       "      <td>45</td>\n",
       "      <td>no</td>\n",
       "      <td>no_phone_service</td>\n",
       "      <td>dsl</td>\n",
       "      <td>yes</td>\n",
       "      <td>...</td>\n",
       "      <td>yes</td>\n",
       "      <td>yes</td>\n",
       "      <td>no</td>\n",
       "      <td>no</td>\n",
       "      <td>one_year</td>\n",
       "      <td>no</td>\n",
       "      <td>bank_transfer_(automatic)</td>\n",
       "      <td>42.30</td>\n",
       "      <td>1840.75</td>\n",
       "      <td>no</td>\n",
       "    </tr>\n",
       "    <tr>\n",
       "      <th>4</th>\n",
       "      <td>9237-hqitu</td>\n",
       "      <td>female</td>\n",
       "      <td>0</td>\n",
       "      <td>no</td>\n",
       "      <td>no</td>\n",
       "      <td>2</td>\n",
       "      <td>yes</td>\n",
       "      <td>no</td>\n",
       "      <td>fiber_optic</td>\n",
       "      <td>no</td>\n",
       "      <td>...</td>\n",
       "      <td>no</td>\n",
       "      <td>no</td>\n",
       "      <td>no</td>\n",
       "      <td>no</td>\n",
       "      <td>month-to-month</td>\n",
       "      <td>yes</td>\n",
       "      <td>electronic_check</td>\n",
       "      <td>70.70</td>\n",
       "      <td>151.65</td>\n",
       "      <td>yes</td>\n",
       "    </tr>\n",
       "  </tbody>\n",
       "</table>\n",
       "<p>5 rows × 21 columns</p>\n",
       "</div>"
      ],
      "text/plain": [
       "   customerid  gender  seniorcitizen partner dependents  tenure phoneservice  \\\n",
       "0  7590-vhveg  female              0     yes         no       1           no   \n",
       "1  5575-gnvde    male              0      no         no      34          yes   \n",
       "2  3668-qpybk    male              0      no         no       2          yes   \n",
       "3  7795-cfocw    male              0      no         no      45           no   \n",
       "4  9237-hqitu  female              0      no         no       2          yes   \n",
       "\n",
       "      multiplelines internetservice onlinesecurity  ... deviceprotection  \\\n",
       "0  no_phone_service             dsl             no  ...               no   \n",
       "1                no             dsl            yes  ...              yes   \n",
       "2                no             dsl            yes  ...               no   \n",
       "3  no_phone_service             dsl            yes  ...              yes   \n",
       "4                no     fiber_optic             no  ...               no   \n",
       "\n",
       "  techsupport streamingtv streamingmovies        contract paperlessbilling  \\\n",
       "0          no          no              no  month-to-month              yes   \n",
       "1          no          no              no        one_year               no   \n",
       "2          no          no              no  month-to-month              yes   \n",
       "3         yes          no              no        one_year               no   \n",
       "4          no          no              no  month-to-month              yes   \n",
       "\n",
       "               paymentmethod monthlycharges  totalcharges churn  \n",
       "0           electronic_check          29.85         29.85    no  \n",
       "1               mailed_check          56.95        1889.5    no  \n",
       "2               mailed_check          53.85        108.15   yes  \n",
       "3  bank_transfer_(automatic)          42.30       1840.75    no  \n",
       "4           electronic_check          70.70        151.65   yes  \n",
       "\n",
       "[5 rows x 21 columns]"
      ]
     },
     "execution_count": 8,
     "metadata": {},
     "output_type": "execute_result"
    }
   ],
   "source": [
    "df.head()"
   ]
  },
  {
   "cell_type": "code",
   "execution_count": null,
   "id": "61b27bc2",
   "metadata": {
    "execution": {
     "iopub.execute_input": "2021-11-17T09:44:02.088652Z",
     "iopub.status.busy": "2021-11-17T09:44:02.087720Z",
     "iopub.status.idle": "2021-11-17T09:44:02.094384Z",
     "shell.execute_reply": "2021-11-17T09:44:02.094993Z",
     "shell.execute_reply.started": "2021-11-17T08:49:59.800715Z"
    },
    "papermill": {
     "duration": 0.109218,
     "end_time": "2021-11-17T09:44:02.095159",
     "exception": false,
     "start_time": "2021-11-17T09:44:01.985941",
     "status": "completed"
    },
    "tags": []
   },
   "outputs": [
    {
     "data": {
      "text/plain": [
       "customerid           object\n",
       "gender               object\n",
       "seniorcitizen         int64\n",
       "partner              object\n",
       "dependents           object\n",
       "tenure                int64\n",
       "phoneservice         object\n",
       "multiplelines        object\n",
       "internetservice      object\n",
       "onlinesecurity       object\n",
       "onlinebackup         object\n",
       "deviceprotection     object\n",
       "techsupport          object\n",
       "streamingtv          object\n",
       "streamingmovies      object\n",
       "contract             object\n",
       "paperlessbilling     object\n",
       "paymentmethod        object\n",
       "monthlycharges      float64\n",
       "totalcharges         object\n",
       "churn                object\n",
       "dtype: object"
      ]
     },
     "execution_count": 9,
     "metadata": {},
     "output_type": "execute_result"
    }
   ],
   "source": [
    "df.dtypes"
   ]
  },
  {
   "cell_type": "code",
   "execution_count": null,
   "id": "a842c9c3",
   "metadata": {
    "execution": {
     "iopub.execute_input": "2021-11-17T09:44:02.295635Z",
     "iopub.status.busy": "2021-11-17T09:44:02.294622Z",
     "iopub.status.idle": "2021-11-17T09:44:02.306074Z",
     "shell.execute_reply": "2021-11-17T09:44:02.306565Z",
     "shell.execute_reply.started": "2021-11-17T08:49:59.812240Z"
    },
    "papermill": {
     "duration": 0.113887,
     "end_time": "2021-11-17T09:44:02.306743",
     "exception": false,
     "start_time": "2021-11-17T09:44:02.192856",
     "status": "completed"
    },
    "tags": []
   },
   "outputs": [],
   "source": [
    "#Convert object to int/float and viceversa to the data that is incongruent\n",
    "\n",
    "\n",
    "df.totalcharges=pd.to_numeric(df.totalcharges, errors=\"coerce\")\n",
    "df.totalcharges=df.totalcharges.fillna(0)"
   ]
  },
  {
   "cell_type": "code",
   "execution_count": null,
   "id": "24d2af3b",
   "metadata": {
    "execution": {
     "iopub.execute_input": "2021-11-17T09:44:02.511381Z",
     "iopub.status.busy": "2021-11-17T09:44:02.507360Z",
     "iopub.status.idle": "2021-11-17T09:44:02.519835Z",
     "shell.execute_reply": "2021-11-17T09:44:02.519223Z",
     "shell.execute_reply.started": "2021-11-17T08:49:59.826858Z"
    },
    "papermill": {
     "duration": 0.114632,
     "end_time": "2021-11-17T09:44:02.519966",
     "exception": false,
     "start_time": "2021-11-17T09:44:02.405334",
     "status": "completed"
    },
    "tags": []
   },
   "outputs": [
    {
     "data": {
      "text/plain": [
       "0    0\n",
       "1    0\n",
       "2    1\n",
       "3    0\n",
       "4    1\n",
       "Name: churn, dtype: int64"
      ]
     },
     "execution_count": 11,
     "metadata": {},
     "output_type": "execute_result"
    }
   ],
   "source": [
    "df.churn=(df.churn=='yes').astype(int)\n",
    "\n",
    "df.churn.head()"
   ]
  },
  {
   "cell_type": "markdown",
   "id": "fc1f66d4",
   "metadata": {
    "papermill": {
     "duration": 0.098581,
     "end_time": "2021-11-17T09:44:02.716650",
     "exception": false,
     "start_time": "2021-11-17T09:44:02.618069",
     "status": "completed"
    },
    "tags": []
   },
   "source": [
    "# 3.3 Setting Up the Validation Framework\n",
    "\n",
    "* Perform the train/validation/test split with Scikit-Learn"
   ]
  },
  {
   "cell_type": "code",
   "execution_count": null,
   "id": "ef2dd727",
   "metadata": {
    "execution": {
     "iopub.execute_input": "2021-11-17T09:44:02.917031Z",
     "iopub.status.busy": "2021-11-17T09:44:02.916076Z",
     "iopub.status.idle": "2021-11-17T09:44:03.796526Z",
     "shell.execute_reply": "2021-11-17T09:44:03.795773Z",
     "shell.execute_reply.started": "2021-11-17T08:49:59.841252Z"
    },
    "papermill": {
     "duration": 0.980787,
     "end_time": "2021-11-17T09:44:03.796680",
     "exception": false,
     "start_time": "2021-11-17T09:44:02.815893",
     "status": "completed"
    },
    "tags": []
   },
   "outputs": [],
   "source": [
    "from sklearn.model_selection import train_test_split\n",
    "\n",
    "df_full_train, df_test= train_test_split(df, test_size=0.2, random_state=1)"
   ]
  },
  {
   "cell_type": "code",
   "execution_count": null,
   "id": "6f909078",
   "metadata": {
    "execution": {
     "iopub.execute_input": "2021-11-17T09:44:03.999935Z",
     "iopub.status.busy": "2021-11-17T09:44:03.999007Z",
     "iopub.status.idle": "2021-11-17T09:44:04.008948Z",
     "shell.execute_reply": "2021-11-17T09:44:04.009585Z",
     "shell.execute_reply.started": "2021-11-17T08:50:00.780716Z"
    },
    "papermill": {
     "duration": 0.112964,
     "end_time": "2021-11-17T09:44:04.009770",
     "exception": false,
     "start_time": "2021-11-17T09:44:03.896806",
     "status": "completed"
    },
    "tags": []
   },
   "outputs": [],
   "source": [
    "df_train, df_val= train_test_split(df_full_train, test_size=0.25, random_state=1)"
   ]
  },
  {
   "cell_type": "code",
   "execution_count": null,
   "id": "c50deca0",
   "metadata": {
    "execution": {
     "iopub.execute_input": "2021-11-17T09:44:04.209637Z",
     "iopub.status.busy": "2021-11-17T09:44:04.208692Z",
     "iopub.status.idle": "2021-11-17T09:44:04.217685Z",
     "shell.execute_reply": "2021-11-17T09:44:04.218240Z",
     "shell.execute_reply.started": "2021-11-17T08:50:00.794180Z"
    },
    "papermill": {
     "duration": 0.11088,
     "end_time": "2021-11-17T09:44:04.218435",
     "exception": false,
     "start_time": "2021-11-17T09:44:04.107555",
     "status": "completed"
    },
    "tags": []
   },
   "outputs": [],
   "source": [
    "df_train=df_train.reset_index(drop=True)\n",
    "df_val=df_val.reset_index(drop=True)\n",
    "df_test=df_test.reset_index(drop=True)\n"
   ]
  },
  {
   "cell_type": "code",
   "execution_count": null,
   "id": "c202757f",
   "metadata": {
    "execution": {
     "iopub.execute_input": "2021-11-17T09:44:04.418739Z",
     "iopub.status.busy": "2021-11-17T09:44:04.417797Z",
     "iopub.status.idle": "2021-11-17T09:44:04.422999Z",
     "shell.execute_reply": "2021-11-17T09:44:04.423617Z",
     "shell.execute_reply.started": "2021-11-17T08:50:00.806740Z"
    },
    "papermill": {
     "duration": 0.106069,
     "end_time": "2021-11-17T09:44:04.423781",
     "exception": false,
     "start_time": "2021-11-17T09:44:04.317712",
     "status": "completed"
    },
    "tags": []
   },
   "outputs": [
    {
     "data": {
      "text/plain": [
       "(4225, 1409, 1409)"
      ]
     },
     "execution_count": 15,
     "metadata": {},
     "output_type": "execute_result"
    }
   ],
   "source": [
    "len(df_train), len(df_val), len(df_test)"
   ]
  },
  {
   "cell_type": "code",
   "execution_count": null,
   "id": "070cd144",
   "metadata": {
    "execution": {
     "iopub.execute_input": "2021-11-17T09:44:04.625807Z",
     "iopub.status.busy": "2021-11-17T09:44:04.624849Z",
     "iopub.status.idle": "2021-11-17T09:44:04.629634Z",
     "shell.execute_reply": "2021-11-17T09:44:04.630218Z",
     "shell.execute_reply.started": "2021-11-17T08:50:00.819419Z"
    },
    "papermill": {
     "duration": 0.107635,
     "end_time": "2021-11-17T09:44:04.630401",
     "exception": false,
     "start_time": "2021-11-17T09:44:04.522766",
     "status": "completed"
    },
    "tags": []
   },
   "outputs": [],
   "source": [
    "y_train=df_train.churn.values\n",
    "y_val=df_val.churn.values\n",
    "y_test=df_test.churn.values\n",
    "\n",
    "y_full_train= df_full_train.churn.values"
   ]
  },
  {
   "cell_type": "code",
   "execution_count": null,
   "id": "caa01978",
   "metadata": {
    "execution": {
     "iopub.execute_input": "2021-11-17T09:44:04.838428Z",
     "iopub.status.busy": "2021-11-17T09:44:04.837503Z",
     "iopub.status.idle": "2021-11-17T09:44:04.840544Z",
     "shell.execute_reply": "2021-11-17T09:44:04.839949Z",
     "shell.execute_reply.started": "2021-11-17T08:50:00.830688Z"
    },
    "papermill": {
     "duration": 0.11074,
     "end_time": "2021-11-17T09:44:04.840697",
     "exception": false,
     "start_time": "2021-11-17T09:44:04.729957",
     "status": "completed"
    },
    "tags": []
   },
   "outputs": [],
   "source": [
    "del df_train['churn']\n",
    "del df_val['churn']\n",
    "del df_test['churn']"
   ]
  },
  {
   "cell_type": "markdown",
   "id": "0e04d1da",
   "metadata": {
    "papermill": {
     "duration": 0.107032,
     "end_time": "2021-11-17T09:44:05.062179",
     "exception": false,
     "start_time": "2021-11-17T09:44:04.955147",
     "status": "completed"
    },
    "tags": []
   },
   "source": [
    "# 3.4 EDA\n",
    "* Check missng values\n",
    "* Look at the target variable(churn)\n",
    "* Look at numerical and categorical variables"
   ]
  },
  {
   "cell_type": "code",
   "execution_count": null,
   "id": "af51146c",
   "metadata": {
    "execution": {
     "iopub.execute_input": "2021-11-17T09:44:05.265434Z",
     "iopub.status.busy": "2021-11-17T09:44:05.264741Z",
     "iopub.status.idle": "2021-11-17T09:44:05.271655Z",
     "shell.execute_reply": "2021-11-17T09:44:05.271087Z",
     "shell.execute_reply.started": "2021-11-17T08:50:00.843291Z"
    },
    "papermill": {
     "duration": 0.110545,
     "end_time": "2021-11-17T09:44:05.271797",
     "exception": false,
     "start_time": "2021-11-17T09:44:05.161252",
     "status": "completed"
    },
    "tags": []
   },
   "outputs": [],
   "source": [
    "# we use the full train dataset for EDA\n",
    "df_full_train=df_full_train.reset_index(drop=True)"
   ]
  },
  {
   "cell_type": "code",
   "execution_count": null,
   "id": "57db610f",
   "metadata": {
    "execution": {
     "iopub.execute_input": "2021-11-17T09:44:05.487674Z",
     "iopub.status.busy": "2021-11-17T09:44:05.487003Z",
     "iopub.status.idle": "2021-11-17T09:44:05.494326Z",
     "shell.execute_reply": "2021-11-17T09:44:05.493689Z",
     "shell.execute_reply.started": "2021-11-17T08:50:00.859625Z"
    },
    "papermill": {
     "duration": 0.123582,
     "end_time": "2021-11-17T09:44:05.494460",
     "exception": false,
     "start_time": "2021-11-17T09:44:05.370878",
     "status": "completed"
    },
    "tags": []
   },
   "outputs": [
    {
     "data": {
      "text/plain": [
       "customerid          0\n",
       "gender              0\n",
       "seniorcitizen       0\n",
       "partner             0\n",
       "dependents          0\n",
       "tenure              0\n",
       "phoneservice        0\n",
       "multiplelines       0\n",
       "internetservice     0\n",
       "onlinesecurity      0\n",
       "onlinebackup        0\n",
       "deviceprotection    0\n",
       "techsupport         0\n",
       "streamingtv         0\n",
       "streamingmovies     0\n",
       "contract            0\n",
       "paperlessbilling    0\n",
       "paymentmethod       0\n",
       "monthlycharges      0\n",
       "totalcharges        0\n",
       "churn               0\n",
       "dtype: int64"
      ]
     },
     "execution_count": 19,
     "metadata": {},
     "output_type": "execute_result"
    }
   ],
   "source": [
    "df_full_train.isnull().sum()# there are no missing values. One less thing to worry about"
   ]
  },
  {
   "cell_type": "code",
   "execution_count": null,
   "id": "fffeac26",
   "metadata": {
    "execution": {
     "iopub.execute_input": "2021-11-17T09:44:05.696576Z",
     "iopub.status.busy": "2021-11-17T09:44:05.695976Z",
     "iopub.status.idle": "2021-11-17T09:44:05.706934Z",
     "shell.execute_reply": "2021-11-17T09:44:05.707427Z",
     "shell.execute_reply.started": "2021-11-17T08:50:00.880779Z"
    },
    "papermill": {
     "duration": 0.114322,
     "end_time": "2021-11-17T09:44:05.707599",
     "exception": false,
     "start_time": "2021-11-17T09:44:05.593277",
     "status": "completed"
    },
    "tags": []
   },
   "outputs": [
    {
     "data": {
      "text/plain": [
       "0    0.730032\n",
       "1    0.269968\n",
       "Name: churn, dtype: float64"
      ]
     },
     "execution_count": 20,
     "metadata": {},
     "output_type": "execute_result"
    }
   ],
   "source": [
    "# looking at the target variable\n",
    "\n",
    "df_full_train.churn.value_counts(normalize=True)\n",
    "\n",
    "# we see that app 26% of users are churning users. That is what is called the churn rate(global)"
   ]
  },
  {
   "cell_type": "code",
   "execution_count": null,
   "id": "812a47a9",
   "metadata": {
    "execution": {
     "iopub.execute_input": "2021-11-17T09:44:05.914078Z",
     "iopub.status.busy": "2021-11-17T09:44:05.913362Z",
     "iopub.status.idle": "2021-11-17T09:44:05.917042Z",
     "shell.execute_reply": "2021-11-17T09:44:05.916552Z",
     "shell.execute_reply.started": "2021-11-17T08:50:00.894368Z"
    },
    "papermill": {
     "duration": 0.109953,
     "end_time": "2021-11-17T09:44:05.917180",
     "exception": false,
     "start_time": "2021-11-17T09:44:05.807227",
     "status": "completed"
    },
    "tags": []
   },
   "outputs": [
    {
     "data": {
      "text/plain": [
       "0.27"
      ]
     },
     "execution_count": 21,
     "metadata": {},
     "output_type": "execute_result"
    }
   ],
   "source": [
    "global_churn_rate=df_full_train.churn.mean()\n",
    "round(global_churn_rate, 2)"
   ]
  },
  {
   "cell_type": "code",
   "execution_count": null,
   "id": "4bf44120",
   "metadata": {
    "execution": {
     "iopub.execute_input": "2021-11-17T09:44:06.123928Z",
     "iopub.status.busy": "2021-11-17T09:44:06.123264Z",
     "iopub.status.idle": "2021-11-17T09:44:06.126290Z",
     "shell.execute_reply": "2021-11-17T09:44:06.126838Z",
     "shell.execute_reply.started": "2021-11-17T08:50:00.909518Z"
    },
    "papermill": {
     "duration": 0.10935,
     "end_time": "2021-11-17T09:44:06.127001",
     "exception": false,
     "start_time": "2021-11-17T09:44:06.017651",
     "status": "completed"
    },
    "tags": []
   },
   "outputs": [
    {
     "data": {
      "text/plain": [
       "Index(['customerid', 'gender', 'seniorcitizen', 'partner', 'dependents',\n",
       "       'tenure', 'phoneservice', 'multiplelines', 'internetservice',\n",
       "       'onlinesecurity', 'onlinebackup', 'deviceprotection', 'techsupport',\n",
       "       'streamingtv', 'streamingmovies', 'contract', 'paperlessbilling',\n",
       "       'paymentmethod', 'monthlycharges', 'totalcharges', 'churn'],\n",
       "      dtype='object')"
      ]
     },
     "execution_count": 22,
     "metadata": {},
     "output_type": "execute_result"
    }
   ],
   "source": [
    "df_full_train.columns"
   ]
  },
  {
   "cell_type": "code",
   "execution_count": null,
   "id": "cd550bdf",
   "metadata": {
    "execution": {
     "iopub.execute_input": "2021-11-17T09:44:06.329833Z",
     "iopub.status.busy": "2021-11-17T09:44:06.328856Z",
     "iopub.status.idle": "2021-11-17T09:44:06.333665Z",
     "shell.execute_reply": "2021-11-17T09:44:06.334133Z",
     "shell.execute_reply.started": "2021-11-17T08:50:00.923029Z"
    },
    "papermill": {
     "duration": 0.107331,
     "end_time": "2021-11-17T09:44:06.334338",
     "exception": false,
     "start_time": "2021-11-17T09:44:06.227007",
     "status": "completed"
    },
    "tags": []
   },
   "outputs": [],
   "source": [
    "df_full_train.dtypes\n",
    "\n",
    "numerical=['tenure','monthlycharges','totalcharges']\n",
    "\n",
    "categorical= ['gender', 'seniorcitizen', 'partner', 'dependents','phoneservice', 'multiplelines', 'internetservice',\n",
    "       'onlinesecurity', 'onlinebackup', 'deviceprotection', 'techsupport',\n",
    "       'streamingtv', 'streamingmovies', 'contract', 'paperlessbilling',\n",
    "       'paymentmethod']"
   ]
  },
  {
   "cell_type": "code",
   "execution_count": null,
   "id": "ac5b4361",
   "metadata": {
    "execution": {
     "iopub.execute_input": "2021-11-17T09:44:06.538113Z",
     "iopub.status.busy": "2021-11-17T09:44:06.537177Z",
     "iopub.status.idle": "2021-11-17T09:44:06.562186Z",
     "shell.execute_reply": "2021-11-17T09:44:06.562708Z",
     "shell.execute_reply.started": "2021-11-17T08:50:00.934399Z"
    },
    "papermill": {
     "duration": 0.128736,
     "end_time": "2021-11-17T09:44:06.562878",
     "exception": false,
     "start_time": "2021-11-17T09:44:06.434142",
     "status": "completed"
    },
    "tags": []
   },
   "outputs": [
    {
     "data": {
      "text/plain": [
       "gender              2\n",
       "seniorcitizen       2\n",
       "partner             2\n",
       "dependents          2\n",
       "phoneservice        2\n",
       "multiplelines       3\n",
       "internetservice     3\n",
       "onlinesecurity      3\n",
       "onlinebackup        3\n",
       "deviceprotection    3\n",
       "techsupport         3\n",
       "streamingtv         3\n",
       "streamingmovies     3\n",
       "contract            3\n",
       "paperlessbilling    2\n",
       "paymentmethod       4\n",
       "dtype: int64"
      ]
     },
     "execution_count": 24,
     "metadata": {},
     "output_type": "execute_result"
    }
   ],
   "source": [
    "df_full_train[categorical].nunique()"
   ]
  },
  {
   "cell_type": "markdown",
   "id": "56134e07",
   "metadata": {
    "papermill": {
     "duration": 0.102331,
     "end_time": "2021-11-17T09:44:06.768957",
     "exception": false,
     "start_time": "2021-11-17T09:44:06.666626",
     "status": "completed"
    },
    "tags": []
   },
   "source": [
    "# 3.5 Feature Importance : Churn Rate and Risk Ratio\n",
    "Feature Importnace analysis is part of EDA- it involves determining which features affect the target variable more.\n",
    "\n",
    "* Churn Rate\n",
    "* Risk Ratio\n",
    "* Mutual Information- later\n",
    "\n"
   ]
  },
  {
   "cell_type": "markdown",
   "id": "30c46f87",
   "metadata": {
    "papermill": {
     "duration": 0.100459,
     "end_time": "2021-11-17T09:44:06.970773",
     "exception": false,
     "start_time": "2021-11-17T09:44:06.870314",
     "status": "completed"
    },
    "tags": []
   },
   "source": [
    "### Churn Rate"
   ]
  },
  {
   "cell_type": "code",
   "execution_count": null,
   "id": "998e8f7f",
   "metadata": {
    "execution": {
     "iopub.execute_input": "2021-11-17T09:44:07.177046Z",
     "iopub.status.busy": "2021-11-17T09:44:07.176090Z",
     "iopub.status.idle": "2021-11-17T09:44:07.201385Z",
     "shell.execute_reply": "2021-11-17T09:44:07.200802Z",
     "shell.execute_reply.started": "2021-11-17T09:10:14.732850Z"
    },
    "papermill": {
     "duration": 0.130042,
     "end_time": "2021-11-17T09:44:07.201536",
     "exception": false,
     "start_time": "2021-11-17T09:44:07.071494",
     "status": "completed"
    },
    "tags": []
   },
   "outputs": [
    {
     "data": {
      "text/html": [
       "<div>\n",
       "<style scoped>\n",
       "    .dataframe tbody tr th:only-of-type {\n",
       "        vertical-align: middle;\n",
       "    }\n",
       "\n",
       "    .dataframe tbody tr th {\n",
       "        vertical-align: top;\n",
       "    }\n",
       "\n",
       "    .dataframe thead th {\n",
       "        text-align: right;\n",
       "    }\n",
       "</style>\n",
       "<table border=\"1\" class=\"dataframe\">\n",
       "  <thead>\n",
       "    <tr style=\"text-align: right;\">\n",
       "      <th></th>\n",
       "      <th>customerid</th>\n",
       "      <th>gender</th>\n",
       "      <th>seniorcitizen</th>\n",
       "      <th>partner</th>\n",
       "      <th>dependents</th>\n",
       "      <th>tenure</th>\n",
       "      <th>phoneservice</th>\n",
       "      <th>multiplelines</th>\n",
       "      <th>internetservice</th>\n",
       "      <th>onlinesecurity</th>\n",
       "      <th>...</th>\n",
       "      <th>deviceprotection</th>\n",
       "      <th>techsupport</th>\n",
       "      <th>streamingtv</th>\n",
       "      <th>streamingmovies</th>\n",
       "      <th>contract</th>\n",
       "      <th>paperlessbilling</th>\n",
       "      <th>paymentmethod</th>\n",
       "      <th>monthlycharges</th>\n",
       "      <th>totalcharges</th>\n",
       "      <th>churn</th>\n",
       "    </tr>\n",
       "  </thead>\n",
       "  <tbody>\n",
       "    <tr>\n",
       "      <th>0</th>\n",
       "      <td>5442-pptjy</td>\n",
       "      <td>male</td>\n",
       "      <td>0</td>\n",
       "      <td>yes</td>\n",
       "      <td>yes</td>\n",
       "      <td>12</td>\n",
       "      <td>yes</td>\n",
       "      <td>no</td>\n",
       "      <td>no</td>\n",
       "      <td>no_internet_service</td>\n",
       "      <td>...</td>\n",
       "      <td>no_internet_service</td>\n",
       "      <td>no_internet_service</td>\n",
       "      <td>no_internet_service</td>\n",
       "      <td>no_internet_service</td>\n",
       "      <td>two_year</td>\n",
       "      <td>no</td>\n",
       "      <td>mailed_check</td>\n",
       "      <td>19.70</td>\n",
       "      <td>258.35</td>\n",
       "      <td>0</td>\n",
       "    </tr>\n",
       "    <tr>\n",
       "      <th>1</th>\n",
       "      <td>6261-rcvns</td>\n",
       "      <td>female</td>\n",
       "      <td>0</td>\n",
       "      <td>no</td>\n",
       "      <td>no</td>\n",
       "      <td>42</td>\n",
       "      <td>yes</td>\n",
       "      <td>no</td>\n",
       "      <td>dsl</td>\n",
       "      <td>yes</td>\n",
       "      <td>...</td>\n",
       "      <td>yes</td>\n",
       "      <td>yes</td>\n",
       "      <td>no</td>\n",
       "      <td>yes</td>\n",
       "      <td>one_year</td>\n",
       "      <td>no</td>\n",
       "      <td>credit_card_(automatic)</td>\n",
       "      <td>73.90</td>\n",
       "      <td>3160.55</td>\n",
       "      <td>1</td>\n",
       "    </tr>\n",
       "    <tr>\n",
       "      <th>2</th>\n",
       "      <td>2176-osjuv</td>\n",
       "      <td>male</td>\n",
       "      <td>0</td>\n",
       "      <td>yes</td>\n",
       "      <td>no</td>\n",
       "      <td>71</td>\n",
       "      <td>yes</td>\n",
       "      <td>yes</td>\n",
       "      <td>dsl</td>\n",
       "      <td>yes</td>\n",
       "      <td>...</td>\n",
       "      <td>no</td>\n",
       "      <td>yes</td>\n",
       "      <td>no</td>\n",
       "      <td>no</td>\n",
       "      <td>two_year</td>\n",
       "      <td>no</td>\n",
       "      <td>bank_transfer_(automatic)</td>\n",
       "      <td>65.15</td>\n",
       "      <td>4681.75</td>\n",
       "      <td>0</td>\n",
       "    </tr>\n",
       "    <tr>\n",
       "      <th>3</th>\n",
       "      <td>6161-erdgd</td>\n",
       "      <td>male</td>\n",
       "      <td>0</td>\n",
       "      <td>yes</td>\n",
       "      <td>yes</td>\n",
       "      <td>71</td>\n",
       "      <td>yes</td>\n",
       "      <td>yes</td>\n",
       "      <td>dsl</td>\n",
       "      <td>yes</td>\n",
       "      <td>...</td>\n",
       "      <td>yes</td>\n",
       "      <td>yes</td>\n",
       "      <td>yes</td>\n",
       "      <td>yes</td>\n",
       "      <td>one_year</td>\n",
       "      <td>no</td>\n",
       "      <td>electronic_check</td>\n",
       "      <td>85.45</td>\n",
       "      <td>6300.85</td>\n",
       "      <td>0</td>\n",
       "    </tr>\n",
       "    <tr>\n",
       "      <th>4</th>\n",
       "      <td>2364-ufrom</td>\n",
       "      <td>male</td>\n",
       "      <td>0</td>\n",
       "      <td>no</td>\n",
       "      <td>no</td>\n",
       "      <td>30</td>\n",
       "      <td>yes</td>\n",
       "      <td>no</td>\n",
       "      <td>dsl</td>\n",
       "      <td>yes</td>\n",
       "      <td>...</td>\n",
       "      <td>no</td>\n",
       "      <td>yes</td>\n",
       "      <td>yes</td>\n",
       "      <td>no</td>\n",
       "      <td>one_year</td>\n",
       "      <td>no</td>\n",
       "      <td>electronic_check</td>\n",
       "      <td>70.40</td>\n",
       "      <td>2044.75</td>\n",
       "      <td>0</td>\n",
       "    </tr>\n",
       "  </tbody>\n",
       "</table>\n",
       "<p>5 rows × 21 columns</p>\n",
       "</div>"
      ],
      "text/plain": [
       "   customerid  gender  seniorcitizen partner dependents  tenure phoneservice  \\\n",
       "0  5442-pptjy    male              0     yes        yes      12          yes   \n",
       "1  6261-rcvns  female              0      no         no      42          yes   \n",
       "2  2176-osjuv    male              0     yes         no      71          yes   \n",
       "3  6161-erdgd    male              0     yes        yes      71          yes   \n",
       "4  2364-ufrom    male              0      no         no      30          yes   \n",
       "\n",
       "  multiplelines internetservice       onlinesecurity  ...  \\\n",
       "0            no              no  no_internet_service  ...   \n",
       "1            no             dsl                  yes  ...   \n",
       "2           yes             dsl                  yes  ...   \n",
       "3           yes             dsl                  yes  ...   \n",
       "4            no             dsl                  yes  ...   \n",
       "\n",
       "      deviceprotection          techsupport          streamingtv  \\\n",
       "0  no_internet_service  no_internet_service  no_internet_service   \n",
       "1                  yes                  yes                   no   \n",
       "2                   no                  yes                   no   \n",
       "3                  yes                  yes                  yes   \n",
       "4                   no                  yes                  yes   \n",
       "\n",
       "       streamingmovies  contract paperlessbilling              paymentmethod  \\\n",
       "0  no_internet_service  two_year               no               mailed_check   \n",
       "1                  yes  one_year               no    credit_card_(automatic)   \n",
       "2                   no  two_year               no  bank_transfer_(automatic)   \n",
       "3                  yes  one_year               no           electronic_check   \n",
       "4                   no  one_year               no           electronic_check   \n",
       "\n",
       "  monthlycharges  totalcharges  churn  \n",
       "0          19.70        258.35      0  \n",
       "1          73.90       3160.55      1  \n",
       "2          65.15       4681.75      0  \n",
       "3          85.45       6300.85      0  \n",
       "4          70.40       2044.75      0  \n",
       "\n",
       "[5 rows x 21 columns]"
      ]
     },
     "execution_count": 25,
     "metadata": {},
     "output_type": "execute_result"
    }
   ],
   "source": [
    "df_full_train.head()"
   ]
  },
  {
   "cell_type": "code",
   "execution_count": null,
   "id": "7688e62d",
   "metadata": {
    "execution": {
     "iopub.execute_input": "2021-11-17T09:44:07.414403Z",
     "iopub.status.busy": "2021-11-17T09:44:07.413707Z",
     "iopub.status.idle": "2021-11-17T09:44:07.416283Z",
     "shell.execute_reply": "2021-11-17T09:44:07.416821Z",
     "shell.execute_reply.started": "2021-11-17T08:50:00.967568Z"
    },
    "papermill": {
     "duration": 0.111932,
     "end_time": "2021-11-17T09:44:07.416978",
     "exception": false,
     "start_time": "2021-11-17T09:44:07.305046",
     "status": "completed"
    },
    "tags": []
   },
   "outputs": [
    {
     "data": {
      "text/plain": [
       "0    4113\n",
       "1    1521\n",
       "Name: churn, dtype: int64"
      ]
     },
     "execution_count": 26,
     "metadata": {},
     "output_type": "execute_result"
    }
   ],
   "source": [
    "count=df_full_train.churn.value_counts()\n",
    "count"
   ]
  },
  {
   "cell_type": "code",
   "execution_count": null,
   "id": "bdc6054e",
   "metadata": {
    "execution": {
     "iopub.execute_input": "2021-11-17T09:44:07.626146Z",
     "iopub.status.busy": "2021-11-17T09:44:07.625564Z",
     "iopub.status.idle": "2021-11-17T09:44:07.634325Z",
     "shell.execute_reply": "2021-11-17T09:44:07.634865Z",
     "shell.execute_reply.started": "2021-11-17T09:10:58.709093Z"
    },
    "papermill": {
     "duration": 0.115381,
     "end_time": "2021-11-17T09:44:07.635030",
     "exception": false,
     "start_time": "2021-11-17T09:44:07.519649",
     "status": "completed"
    },
    "tags": []
   },
   "outputs": [
    {
     "data": {
      "text/plain": [
       "0.27682403433476394"
      ]
     },
     "execution_count": 27,
     "metadata": {},
     "output_type": "execute_result"
    }
   ],
   "source": [
    "churn_female=df_full_train[df_full_train['gender']=='female'].churn.mean()\n",
    "churn_female"
   ]
  },
  {
   "cell_type": "code",
   "execution_count": null,
   "id": "59429b17",
   "metadata": {
    "execution": {
     "iopub.execute_input": "2021-11-17T09:44:07.844374Z",
     "iopub.status.busy": "2021-11-17T09:44:07.843741Z",
     "iopub.status.idle": "2021-11-17T09:44:07.853924Z",
     "shell.execute_reply": "2021-11-17T09:44:07.853385Z",
     "shell.execute_reply.started": "2021-11-17T08:50:00.993860Z"
    },
    "papermill": {
     "duration": 0.115511,
     "end_time": "2021-11-17T09:44:07.854061",
     "exception": false,
     "start_time": "2021-11-17T09:44:07.738550",
     "status": "completed"
    },
    "tags": []
   },
   "outputs": [
    {
     "data": {
      "text/plain": [
       "0.2632135306553911"
      ]
     },
     "execution_count": 28,
     "metadata": {},
     "output_type": "execute_result"
    }
   ],
   "source": [
    "churn_male=df_full_train[df_full_train.gender=='male'].churn.mean()\n",
    "churn_male"
   ]
  },
  {
   "cell_type": "code",
   "execution_count": null,
   "id": "6f99bd64",
   "metadata": {
    "execution": {
     "iopub.execute_input": "2021-11-17T09:44:08.065599Z",
     "iopub.status.busy": "2021-11-17T09:44:08.064804Z",
     "iopub.status.idle": "2021-11-17T09:44:08.067877Z",
     "shell.execute_reply": "2021-11-17T09:44:08.068402Z",
     "shell.execute_reply.started": "2021-11-17T08:50:01.010231Z"
    },
    "papermill": {
     "duration": 0.110662,
     "end_time": "2021-11-17T09:44:08.068567",
     "exception": false,
     "start_time": "2021-11-17T09:44:07.957905",
     "status": "completed"
    },
    "tags": []
   },
   "outputs": [
    {
     "data": {
      "text/plain": [
       "0.26996805111821087"
      ]
     },
     "execution_count": 29,
     "metadata": {},
     "output_type": "execute_result"
    }
   ],
   "source": [
    "global_churn=df_full_train.churn.mean()\n",
    "global_churn"
   ]
  },
  {
   "cell_type": "code",
   "execution_count": null,
   "id": "a55810ae",
   "metadata": {
    "execution": {
     "iopub.execute_input": "2021-11-17T09:44:08.279469Z",
     "iopub.status.busy": "2021-11-17T09:44:08.278483Z",
     "iopub.status.idle": "2021-11-17T09:44:08.288610Z",
     "shell.execute_reply": "2021-11-17T09:44:08.289073Z",
     "shell.execute_reply.started": "2021-11-17T08:50:01.017261Z"
    },
    "papermill": {
     "duration": 0.117837,
     "end_time": "2021-11-17T09:44:08.289256",
     "exception": false,
     "start_time": "2021-11-17T09:44:08.171419",
     "status": "completed"
    },
    "tags": []
   },
   "outputs": [
    {
     "data": {
      "text/plain": [
       "0.20503330866025166"
      ]
     },
     "execution_count": 30,
     "metadata": {},
     "output_type": "execute_result"
    }
   ],
   "source": [
    "churn_partner=df_full_train[df_full_train.partner=='yes'].churn.mean()\n",
    "churn_partner"
   ]
  },
  {
   "cell_type": "code",
   "execution_count": null,
   "id": "e9d70d3a",
   "metadata": {
    "execution": {
     "iopub.execute_input": "2021-11-17T09:44:08.500094Z",
     "iopub.status.busy": "2021-11-17T09:44:08.499064Z",
     "iopub.status.idle": "2021-11-17T09:44:08.509082Z",
     "shell.execute_reply": "2021-11-17T09:44:08.509544Z",
     "shell.execute_reply.started": "2021-11-17T08:50:01.033655Z"
    },
    "papermill": {
     "duration": 0.117061,
     "end_time": "2021-11-17T09:44:08.509729",
     "exception": false,
     "start_time": "2021-11-17T09:44:08.392668",
     "status": "completed"
    },
    "tags": []
   },
   "outputs": [
    {
     "data": {
      "text/plain": [
       "0.3298090040927694"
      ]
     },
     "execution_count": 31,
     "metadata": {},
     "output_type": "execute_result"
    }
   ],
   "source": [
    "churn_partner_non=df_full_train[df_full_train.partner=='no'].churn.mean()\n",
    "churn_partner_non"
   ]
  },
  {
   "cell_type": "markdown",
   "id": "c511e2a3",
   "metadata": {
    "papermill": {
     "duration": 0.10544,
     "end_time": "2021-11-17T09:44:08.721502",
     "exception": false,
     "start_time": "2021-11-17T09:44:08.616062",
     "status": "completed"
    },
    "tags": []
   },
   "source": [
    "### Risk Ratio"
   ]
  },
  {
   "cell_type": "code",
   "execution_count": null,
   "id": "a0a2dc93",
   "metadata": {
    "execution": {
     "iopub.execute_input": "2021-11-17T09:44:08.936188Z",
     "iopub.status.busy": "2021-11-17T09:44:08.935531Z",
     "iopub.status.idle": "2021-11-17T09:44:08.942169Z",
     "shell.execute_reply": "2021-11-17T09:44:08.941653Z",
     "shell.execute_reply.started": "2021-11-17T08:50:01.047905Z"
    },
    "papermill": {
     "duration": 0.115608,
     "end_time": "2021-11-17T09:44:08.942337",
     "exception": false,
     "start_time": "2021-11-17T09:44:08.826729",
     "status": "completed"
    },
    "tags": []
   },
   "outputs": [
    {
     "data": {
      "text/plain": [
       "1.2216593879412643"
      ]
     },
     "execution_count": 32,
     "metadata": {},
     "output_type": "execute_result"
    }
   ],
   "source": [
    "churn_partner_non/global_churn"
   ]
  },
  {
   "cell_type": "code",
   "execution_count": null,
   "id": "658e561c",
   "metadata": {
    "execution": {
     "iopub.execute_input": "2021-11-17T09:44:09.154874Z",
     "iopub.status.busy": "2021-11-17T09:44:09.154133Z",
     "iopub.status.idle": "2021-11-17T09:44:09.158930Z",
     "shell.execute_reply": "2021-11-17T09:44:09.159519Z",
     "shell.execute_reply.started": "2021-11-17T08:50:01.055569Z"
    },
    "papermill": {
     "duration": 0.113636,
     "end_time": "2021-11-17T09:44:09.159712",
     "exception": false,
     "start_time": "2021-11-17T09:44:09.046076",
     "status": "completed"
    },
    "tags": []
   },
   "outputs": [
    {
     "data": {
      "text/plain": [
       "0.7594724924338315"
      ]
     },
     "execution_count": 33,
     "metadata": {},
     "output_type": "execute_result"
    }
   ],
   "source": [
    "churn_partner/global_churn"
   ]
  },
  {
   "cell_type": "code",
   "execution_count": null,
   "id": "e1b5929b",
   "metadata": {
    "execution": {
     "iopub.execute_input": "2021-11-17T09:44:09.373090Z",
     "iopub.status.busy": "2021-11-17T09:44:09.372465Z",
     "iopub.status.idle": "2021-11-17T09:44:09.375132Z",
     "shell.execute_reply": "2021-11-17T09:44:09.375675Z",
     "shell.execute_reply.started": "2021-11-17T08:50:01.068748Z"
    },
    "papermill": {
     "duration": 0.110758,
     "end_time": "2021-11-17T09:44:09.375841",
     "exception": false,
     "start_time": "2021-11-17T09:44:09.265083",
     "status": "completed"
    },
    "tags": []
   },
   "outputs": [],
   "source": [
    "#from Ipython.display import display"
   ]
  },
  {
   "cell_type": "code",
   "execution_count": null,
   "id": "03ac30e6",
   "metadata": {
    "execution": {
     "iopub.execute_input": "2021-11-17T09:44:09.590762Z",
     "iopub.status.busy": "2021-11-17T09:44:09.585157Z",
     "iopub.status.idle": "2021-11-17T09:44:09.593211Z",
     "shell.execute_reply": "2021-11-17T09:44:09.593813Z",
     "shell.execute_reply.started": "2021-11-17T08:50:01.078078Z"
    },
    "papermill": {
     "duration": 0.115124,
     "end_time": "2021-11-17T09:44:09.594039",
     "exception": false,
     "start_time": "2021-11-17T09:44:09.478915",
     "status": "completed"
    },
    "tags": []
   },
   "outputs": [
    {
     "data": {
      "text/plain": [
       "electronic_check             2365\n",
       "mailed_check                 1612\n",
       "bank_transfer_(automatic)    1544\n",
       "credit_card_(automatic)      1522\n",
       "Name: paymentmethod, dtype: int64"
      ]
     },
     "execution_count": 35,
     "metadata": {},
     "output_type": "execute_result"
    }
   ],
   "source": [
    "df.paymentmethod.value_counts()"
   ]
  },
  {
   "cell_type": "code",
   "execution_count": null,
   "id": "9bf9fb4a",
   "metadata": {
    "execution": {
     "iopub.execute_input": "2021-11-17T09:44:09.806553Z",
     "iopub.status.busy": "2021-11-17T09:44:09.805898Z",
     "iopub.status.idle": "2021-11-17T09:44:09.875755Z",
     "shell.execute_reply": "2021-11-17T09:44:09.876226Z",
     "shell.execute_reply.started": "2021-11-17T08:50:01.094676Z"
    },
    "papermill": {
     "duration": 0.177076,
     "end_time": "2021-11-17T09:44:09.876414",
     "exception": false,
     "start_time": "2021-11-17T09:44:09.699338",
     "status": "completed"
    },
    "tags": []
   },
   "outputs": [
    {
     "name": "stdout",
     "output_type": "stream",
     "text": [
      "gender\n",
      "seniorcitizen\n",
      "partner\n",
      "dependents\n",
      "phoneservice\n",
      "multiplelines\n",
      "internetservice\n",
      "onlinesecurity\n",
      "onlinebackup\n",
      "deviceprotection\n",
      "techsupport\n",
      "streamingtv\n",
      "streamingmovies\n",
      "contract\n",
      "paperlessbilling\n",
      "paymentmethod\n"
     ]
    },
    {
     "data": {
      "text/html": [
       "<div>\n",
       "<style scoped>\n",
       "    .dataframe tbody tr th:only-of-type {\n",
       "        vertical-align: middle;\n",
       "    }\n",
       "\n",
       "    .dataframe tbody tr th {\n",
       "        vertical-align: top;\n",
       "    }\n",
       "\n",
       "    .dataframe thead th {\n",
       "        text-align: right;\n",
       "    }\n",
       "</style>\n",
       "<table border=\"1\" class=\"dataframe\">\n",
       "  <thead>\n",
       "    <tr style=\"text-align: right;\">\n",
       "      <th></th>\n",
       "      <th>mean</th>\n",
       "      <th>count</th>\n",
       "      <th>diff</th>\n",
       "      <th>risk</th>\n",
       "    </tr>\n",
       "    <tr>\n",
       "      <th>paymentmethod</th>\n",
       "      <th></th>\n",
       "      <th></th>\n",
       "      <th></th>\n",
       "      <th></th>\n",
       "    </tr>\n",
       "  </thead>\n",
       "  <tbody>\n",
       "    <tr>\n",
       "      <th>bank_transfer_(automatic)</th>\n",
       "      <td>0.168171</td>\n",
       "      <td>1219</td>\n",
       "      <td>-0.101797</td>\n",
       "      <td>0.622928</td>\n",
       "    </tr>\n",
       "    <tr>\n",
       "      <th>credit_card_(automatic)</th>\n",
       "      <td>0.164339</td>\n",
       "      <td>1217</td>\n",
       "      <td>-0.105630</td>\n",
       "      <td>0.608733</td>\n",
       "    </tr>\n",
       "    <tr>\n",
       "      <th>electronic_check</th>\n",
       "      <td>0.455890</td>\n",
       "      <td>1893</td>\n",
       "      <td>0.185922</td>\n",
       "      <td>1.688682</td>\n",
       "    </tr>\n",
       "    <tr>\n",
       "      <th>mailed_check</th>\n",
       "      <td>0.193870</td>\n",
       "      <td>1305</td>\n",
       "      <td>-0.076098</td>\n",
       "      <td>0.718121</td>\n",
       "    </tr>\n",
       "  </tbody>\n",
       "</table>\n",
       "</div>"
      ],
      "text/plain": [
       "                               mean  count      diff      risk\n",
       "paymentmethod                                                 \n",
       "bank_transfer_(automatic)  0.168171   1219 -0.101797  0.622928\n",
       "credit_card_(automatic)    0.164339   1217 -0.105630  0.608733\n",
       "electronic_check           0.455890   1893  0.185922  1.688682\n",
       "mailed_check               0.193870   1305 -0.076098  0.718121"
      ]
     },
     "execution_count": 36,
     "metadata": {},
     "output_type": "execute_result"
    }
   ],
   "source": [
    "# we can implement a SQL query using pandas so that we determine the churn diff and risk ratio for all other features easily\n",
    "for c in categorical:\n",
    "    print(c)\n",
    "    df_group=df_full_train.groupby(c).churn.agg(['mean','count'])\n",
    "\n",
    "    df_group['diff']=df_group['mean']- global_churn\n",
    "    df_group['risk']=df_group['mean']/ global_churn\n",
    "\n",
    "df_group\n",
    "    \n",
    "    \n",
    "    "
   ]
  },
  {
   "cell_type": "markdown",
   "id": "979f2052",
   "metadata": {
    "papermill": {
     "duration": 0.106218,
     "end_time": "2021-11-17T09:44:10.087405",
     "exception": false,
     "start_time": "2021-11-17T09:44:09.981187",
     "status": "completed"
    },
    "tags": []
   },
   "source": [
    "## 3.6 Feature Importance: Mutual Information\n",
    "Mutual information- concept from the information theory, it tells us how much we can learn about one variable if we know the value of another"
   ]
  },
  {
   "cell_type": "code",
   "execution_count": null,
   "id": "7285862c",
   "metadata": {
    "execution": {
     "iopub.execute_input": "2021-11-17T09:44:10.304463Z",
     "iopub.status.busy": "2021-11-17T09:44:10.303753Z",
     "iopub.status.idle": "2021-11-17T09:44:10.306966Z",
     "shell.execute_reply": "2021-11-17T09:44:10.307534Z",
     "shell.execute_reply.started": "2021-11-17T08:50:01.174158Z"
    },
    "papermill": {
     "duration": 0.113953,
     "end_time": "2021-11-17T09:44:10.307712",
     "exception": false,
     "start_time": "2021-11-17T09:44:10.193759",
     "status": "completed"
    },
    "tags": []
   },
   "outputs": [],
   "source": [
    "from sklearn.metrics import mutual_info_score"
   ]
  },
  {
   "cell_type": "code",
   "execution_count": null,
   "id": "f1177a59",
   "metadata": {
    "execution": {
     "iopub.execute_input": "2021-11-17T09:44:10.521769Z",
     "iopub.status.busy": "2021-11-17T09:44:10.521150Z",
     "iopub.status.idle": "2021-11-17T09:44:10.541074Z",
     "shell.execute_reply": "2021-11-17T09:44:10.541634Z",
     "shell.execute_reply.started": "2021-11-17T08:50:01.180223Z"
    },
    "papermill": {
     "duration": 0.128054,
     "end_time": "2021-11-17T09:44:10.541798",
     "exception": false,
     "start_time": "2021-11-17T09:44:10.413744",
     "status": "completed"
    },
    "tags": []
   },
   "outputs": [
    {
     "data": {
      "text/plain": [
       "0.0983203874041556"
      ]
     },
     "execution_count": 38,
     "metadata": {},
     "output_type": "execute_result"
    }
   ],
   "source": [
    "mutual_info_score(df_full_train.churn, df_full_train.contract)"
   ]
  },
  {
   "cell_type": "code",
   "execution_count": null,
   "id": "56df2e52",
   "metadata": {
    "execution": {
     "iopub.execute_input": "2021-11-17T09:44:10.769848Z",
     "iopub.status.busy": "2021-11-17T09:44:10.769146Z",
     "iopub.status.idle": "2021-11-17T09:44:10.776240Z",
     "shell.execute_reply": "2021-11-17T09:44:10.775721Z",
     "shell.execute_reply.started": "2021-11-17T08:50:01.205453Z"
    },
    "papermill": {
     "duration": 0.127528,
     "end_time": "2021-11-17T09:44:10.776404",
     "exception": false,
     "start_time": "2021-11-17T09:44:10.648876",
     "status": "completed"
    },
    "tags": []
   },
   "outputs": [
    {
     "data": {
      "text/plain": [
       "0.0001174846211139946"
      ]
     },
     "execution_count": 39,
     "metadata": {},
     "output_type": "execute_result"
    }
   ],
   "source": [
    "mutual_info_score(df_full_train.gender, df_full_train.churn)"
   ]
  },
  {
   "cell_type": "code",
   "execution_count": null,
   "id": "c7d9357a",
   "metadata": {
    "execution": {
     "iopub.execute_input": "2021-11-17T09:44:11.000791Z",
     "iopub.status.busy": "2021-11-17T09:44:10.998519Z",
     "iopub.status.idle": "2021-11-17T09:44:11.013588Z",
     "shell.execute_reply": "2021-11-17T09:44:11.013009Z",
     "shell.execute_reply.started": "2021-11-17T08:50:01.218146Z"
    },
    "papermill": {
     "duration": 0.128386,
     "end_time": "2021-11-17T09:44:11.013737",
     "exception": false,
     "start_time": "2021-11-17T09:44:10.885351",
     "status": "completed"
    },
    "tags": []
   },
   "outputs": [
    {
     "data": {
      "text/plain": [
       "0.009967689095399745"
      ]
     },
     "execution_count": 40,
     "metadata": {},
     "output_type": "execute_result"
    }
   ],
   "source": [
    "mutual_info_score(df_full_train.churn, df_full_train.partner)"
   ]
  },
  {
   "cell_type": "code",
   "execution_count": null,
   "id": "bfe9545d",
   "metadata": {
    "execution": {
     "iopub.execute_input": "2021-11-17T09:44:11.236526Z",
     "iopub.status.busy": "2021-11-17T09:44:11.234957Z",
     "iopub.status.idle": "2021-11-17T09:44:11.238406Z",
     "shell.execute_reply": "2021-11-17T09:44:11.239037Z",
     "shell.execute_reply.started": "2021-11-17T08:50:01.236653Z"
    },
    "papermill": {
     "duration": 0.11656,
     "end_time": "2021-11-17T09:44:11.239226",
     "exception": false,
     "start_time": "2021-11-17T09:44:11.122666",
     "status": "completed"
    },
    "tags": []
   },
   "outputs": [],
   "source": [
    "def mutual_info_churn_score(series):\n",
    "    return mutual_info_score(series, df_full_train.churn)"
   ]
  },
  {
   "cell_type": "code",
   "execution_count": null,
   "id": "5fa443e4",
   "metadata": {
    "execution": {
     "iopub.execute_input": "2021-11-17T09:44:11.458080Z",
     "iopub.status.busy": "2021-11-17T09:44:11.457461Z",
     "iopub.status.idle": "2021-11-17T09:44:11.589489Z",
     "shell.execute_reply": "2021-11-17T09:44:11.589949Z",
     "shell.execute_reply.started": "2021-11-17T08:50:01.245347Z"
    },
    "papermill": {
     "duration": 0.242862,
     "end_time": "2021-11-17T09:44:11.590119",
     "exception": false,
     "start_time": "2021-11-17T09:44:11.347257",
     "status": "completed"
    },
    "tags": []
   },
   "outputs": [
    {
     "data": {
      "text/plain": [
       "contract            0.098320\n",
       "onlinesecurity      0.063085\n",
       "techsupport         0.061032\n",
       "internetservice     0.055868\n",
       "onlinebackup        0.046923\n",
       "deviceprotection    0.043453\n",
       "paymentmethod       0.043210\n",
       "streamingtv         0.031853\n",
       "streamingmovies     0.031581\n",
       "paperlessbilling    0.017589\n",
       "dependents          0.012346\n",
       "partner             0.009968\n",
       "seniorcitizen       0.009410\n",
       "multiplelines       0.000857\n",
       "phoneservice        0.000229\n",
       "gender              0.000117\n",
       "dtype: float64"
      ]
     },
     "execution_count": 42,
     "metadata": {},
     "output_type": "execute_result"
    }
   ],
   "source": [
    "# Now lets check the mutual information of all the features against churn to idenfity the most important\n",
    "\n",
    "mi=df_full_train[categorical].apply(mutual_info_churn_score)\n",
    "\n",
    "# lets sort it\n",
    "mi.sort_values(ascending=False)"
   ]
  },
  {
   "cell_type": "markdown",
   "id": "33b75774",
   "metadata": {
    "papermill": {
     "duration": 0.107313,
     "end_time": "2021-11-17T09:44:11.803801",
     "exception": false,
     "start_time": "2021-11-17T09:44:11.696488",
     "status": "completed"
    },
    "tags": []
   },
   "source": [
    "We can see that relatively , the really important variables are contract, onlinesecuritty, techsupprt, internetservice, onlinebackcup etc.\n",
    "\n",
    "The least important are gender, phone service, multiplelines etc."
   ]
  },
  {
   "cell_type": "markdown",
   "id": "5f832b9f",
   "metadata": {
    "papermill": {
     "duration": 0.107466,
     "end_time": "2021-11-17T09:44:12.017672",
     "exception": false,
     "start_time": "2021-11-17T09:44:11.910206",
     "status": "completed"
    },
    "tags": []
   },
   "source": [
    "## 3.7 Feature Importance: Correlation\n",
    "\n",
    "How about numerical columns\n",
    "* Correlation Coefficient"
   ]
  },
  {
   "cell_type": "code",
   "execution_count": null,
   "id": "f2fbc899",
   "metadata": {
    "execution": {
     "iopub.execute_input": "2021-11-17T09:44:12.239246Z",
     "iopub.status.busy": "2021-11-17T09:44:12.238518Z",
     "iopub.status.idle": "2021-11-17T09:44:12.249431Z",
     "shell.execute_reply": "2021-11-17T09:44:12.249965Z",
     "shell.execute_reply.started": "2021-11-17T09:18:41.769387Z"
    },
    "papermill": {
     "duration": 0.125688,
     "end_time": "2021-11-17T09:44:12.250131",
     "exception": false,
     "start_time": "2021-11-17T09:44:12.124443",
     "status": "completed"
    },
    "tags": []
   },
   "outputs": [
    {
     "data": {
      "text/plain": [
       "tenure           -0.351885\n",
       "monthlycharges    0.196805\n",
       "totalcharges     -0.196353\n",
       "dtype: float64"
      ]
     },
     "execution_count": 43,
     "metadata": {},
     "output_type": "execute_result"
    }
   ],
   "source": [
    "df_full_train[numerical].corrwith(df_full_train.churn)"
   ]
  },
  {
   "cell_type": "code",
   "execution_count": null,
   "id": "4119927d",
   "metadata": {
    "execution": {
     "iopub.execute_input": "2021-11-17T09:44:12.471275Z",
     "iopub.status.busy": "2021-11-17T09:44:12.470268Z",
     "iopub.status.idle": "2021-11-17T09:44:12.474774Z",
     "shell.execute_reply": "2021-11-17T09:44:12.475411Z",
     "shell.execute_reply.started": "2021-11-17T08:50:01.359551Z"
    },
    "papermill": {
     "duration": 0.118215,
     "end_time": "2021-11-17T09:44:12.475578",
     "exception": false,
     "start_time": "2021-11-17T09:44:12.357363",
     "status": "completed"
    },
    "tags": []
   },
   "outputs": [
    {
     "data": {
      "text/plain": [
       "0.5953420669577875"
      ]
     },
     "execution_count": 44,
     "metadata": {},
     "output_type": "execute_result"
    }
   ],
   "source": [
    "df_full_train[df_full_train.tenure<=2].churn.mean()"
   ]
  },
  {
   "cell_type": "code",
   "execution_count": null,
   "id": "b934ba17",
   "metadata": {
    "execution": {
     "iopub.execute_input": "2021-11-17T09:44:12.699054Z",
     "iopub.status.busy": "2021-11-17T09:44:12.697131Z",
     "iopub.status.idle": "2021-11-17T09:44:12.702577Z",
     "shell.execute_reply": "2021-11-17T09:44:12.701937Z",
     "shell.execute_reply.started": "2021-11-17T08:50:01.369227Z"
    },
    "papermill": {
     "duration": 0.119398,
     "end_time": "2021-11-17T09:44:12.702714",
     "exception": false,
     "start_time": "2021-11-17T09:44:12.583316",
     "status": "completed"
    },
    "tags": []
   },
   "outputs": [
    {
     "data": {
      "text/plain": [
       "0.3994413407821229"
      ]
     },
     "execution_count": 45,
     "metadata": {},
     "output_type": "execute_result"
    }
   ],
   "source": [
    "df_full_train[(df_full_train.tenure >2) & (df_full_train.tenure<=12)].churn.mean()"
   ]
  },
  {
   "cell_type": "code",
   "execution_count": null,
   "id": "e4a09545",
   "metadata": {
    "execution": {
     "iopub.execute_input": "2021-11-17T09:44:12.921568Z",
     "iopub.status.busy": "2021-11-17T09:44:12.920617Z",
     "iopub.status.idle": "2021-11-17T09:44:12.929712Z",
     "shell.execute_reply": "2021-11-17T09:44:12.930237Z",
     "shell.execute_reply.started": "2021-11-17T08:50:01.381709Z"
    },
    "papermill": {
     "duration": 0.120194,
     "end_time": "2021-11-17T09:44:12.930410",
     "exception": false,
     "start_time": "2021-11-17T09:44:12.810216",
     "status": "completed"
    },
    "tags": []
   },
   "outputs": [
    {
     "data": {
      "text/plain": [
       "0.17634908339788277"
      ]
     },
     "execution_count": 46,
     "metadata": {},
     "output_type": "execute_result"
    }
   ],
   "source": [
    "df_full_train[df_full_train.tenure>12].churn.mean()"
   ]
  },
  {
   "cell_type": "code",
   "execution_count": null,
   "id": "d9adf3bf",
   "metadata": {
    "execution": {
     "iopub.execute_input": "2021-11-17T09:44:13.147562Z",
     "iopub.status.busy": "2021-11-17T09:44:13.146680Z",
     "iopub.status.idle": "2021-11-17T09:44:13.153721Z",
     "shell.execute_reply": "2021-11-17T09:44:13.154291Z",
     "shell.execute_reply.started": "2021-11-17T08:50:01.394681Z"
    },
    "papermill": {
     "duration": 0.116588,
     "end_time": "2021-11-17T09:44:13.154469",
     "exception": false,
     "start_time": "2021-11-17T09:44:13.037881",
     "status": "completed"
    },
    "tags": []
   },
   "outputs": [
    {
     "data": {
      "text/plain": [
       "0.08795411089866156"
      ]
     },
     "execution_count": 47,
     "metadata": {},
     "output_type": "execute_result"
    }
   ],
   "source": [
    "df_full_train[df_full_train.monthlycharges <=20].churn.mean()"
   ]
  },
  {
   "cell_type": "code",
   "execution_count": null,
   "id": "b9a68102",
   "metadata": {
    "execution": {
     "iopub.execute_input": "2021-11-17T09:44:13.374206Z",
     "iopub.status.busy": "2021-11-17T09:44:13.373273Z",
     "iopub.status.idle": "2021-11-17T09:44:13.380698Z",
     "shell.execute_reply": "2021-11-17T09:44:13.381239Z",
     "shell.execute_reply.started": "2021-11-17T08:50:01.405347Z"
    },
    "papermill": {
     "duration": 0.119658,
     "end_time": "2021-11-17T09:44:13.381419",
     "exception": false,
     "start_time": "2021-11-17T09:44:13.261761",
     "status": "completed"
    },
    "tags": []
   },
   "outputs": [
    {
     "data": {
      "text/plain": [
       "0.18340943683409436"
      ]
     },
     "execution_count": 48,
     "metadata": {},
     "output_type": "execute_result"
    }
   ],
   "source": [
    "df_full_train[(df_full_train.monthlycharges >20) & (df_full_train.monthlycharges<=50)].churn.mean()"
   ]
  },
  {
   "cell_type": "code",
   "execution_count": null,
   "id": "ef9d6af4",
   "metadata": {
    "execution": {
     "iopub.execute_input": "2021-11-17T09:44:13.600247Z",
     "iopub.status.busy": "2021-11-17T09:44:13.599571Z",
     "iopub.status.idle": "2021-11-17T09:44:13.608986Z",
     "shell.execute_reply": "2021-11-17T09:44:13.608475Z",
     "shell.execute_reply.started": "2021-11-17T08:50:01.416273Z"
    },
    "papermill": {
     "duration": 0.121517,
     "end_time": "2021-11-17T09:44:13.609142",
     "exception": false,
     "start_time": "2021-11-17T09:44:13.487625",
     "status": "completed"
    },
    "tags": []
   },
   "outputs": [
    {
     "data": {
      "text/plain": [
       "0.32499341585462205"
      ]
     },
     "execution_count": 49,
     "metadata": {},
     "output_type": "execute_result"
    }
   ],
   "source": [
    "df_full_train[df_full_train.monthlycharges >50].churn.mean()"
   ]
  },
  {
   "cell_type": "markdown",
   "id": "8cbbcc1f",
   "metadata": {
    "papermill": {
     "duration": 0.110495,
     "end_time": "2021-11-17T09:44:13.830725",
     "exception": false,
     "start_time": "2021-11-17T09:44:13.720230",
     "status": "completed"
    },
    "tags": []
   },
   "source": [
    "## 3.8 One-Hot Encoding\n",
    "\n",
    "* We'll use Scikit-Learn to encode categorical features"
   ]
  },
  {
   "cell_type": "code",
   "execution_count": null,
   "id": "a527374e",
   "metadata": {
    "execution": {
     "iopub.execute_input": "2021-11-17T09:44:14.056547Z",
     "iopub.status.busy": "2021-11-17T09:44:14.055771Z",
     "iopub.status.idle": "2021-11-17T09:44:14.069985Z",
     "shell.execute_reply": "2021-11-17T09:44:14.069355Z",
     "shell.execute_reply.started": "2021-11-17T08:50:01.431384Z"
    },
    "papermill": {
     "duration": 0.128572,
     "end_time": "2021-11-17T09:44:14.070171",
     "exception": false,
     "start_time": "2021-11-17T09:44:13.941599",
     "status": "completed"
    },
    "tags": []
   },
   "outputs": [],
   "source": [
    "from sklearn.feature_extraction import DictVectorizer"
   ]
  },
  {
   "cell_type": "code",
   "execution_count": null,
   "id": "8303b1c2",
   "metadata": {
    "execution": {
     "iopub.execute_input": "2021-11-17T09:44:14.292838Z",
     "iopub.status.busy": "2021-11-17T09:44:14.292232Z",
     "iopub.status.idle": "2021-11-17T09:44:14.406255Z",
     "shell.execute_reply": "2021-11-17T09:44:14.405759Z",
     "shell.execute_reply.started": "2021-11-17T09:19:46.373383Z"
    },
    "papermill": {
     "duration": 0.225514,
     "end_time": "2021-11-17T09:44:14.406418",
     "exception": false,
     "start_time": "2021-11-17T09:44:14.180904",
     "status": "completed"
    },
    "tags": []
   },
   "outputs": [
    {
     "data": {
      "text/plain": [
       "[{'gender': 'female',\n",
       "  'seniorcitizen': 1,\n",
       "  'partner': 'no',\n",
       "  'dependents': 'no',\n",
       "  'phoneservice': 'yes',\n",
       "  'multiplelines': 'no',\n",
       "  'internetservice': 'fiber_optic',\n",
       "  'onlinesecurity': 'no',\n",
       "  'onlinebackup': 'no',\n",
       "  'deviceprotection': 'no',\n",
       "  'techsupport': 'no',\n",
       "  'streamingtv': 'yes',\n",
       "  'streamingmovies': 'no',\n",
       "  'contract': 'month-to-month',\n",
       "  'paperlessbilling': 'yes',\n",
       "  'paymentmethod': 'electronic_check',\n",
       "  'tenure': 9,\n",
       "  'monthlycharges': 80.85,\n",
       "  'totalcharges': 751.65}]"
      ]
     },
     "execution_count": 51,
     "metadata": {},
     "output_type": "execute_result"
    }
   ],
   "source": [
    "train_dicts=df_train[categorical + numerical].to_dict(orient=\"records\")\n",
    "train_dicts[-1:]"
   ]
  },
  {
   "cell_type": "code",
   "execution_count": null,
   "id": "80c26a72",
   "metadata": {
    "execution": {
     "iopub.execute_input": "2021-11-17T09:44:14.659138Z",
     "iopub.status.busy": "2021-11-17T09:44:14.654093Z",
     "iopub.status.idle": "2021-11-17T09:44:14.687590Z",
     "shell.execute_reply": "2021-11-17T09:44:14.686866Z",
     "shell.execute_reply.started": "2021-11-17T09:26:30.497932Z"
    },
    "papermill": {
     "duration": 0.170962,
     "end_time": "2021-11-17T09:44:14.687739",
     "exception": false,
     "start_time": "2021-11-17T09:44:14.516777",
     "status": "completed"
    },
    "tags": []
   },
   "outputs": [
    {
     "data": {
      "text/plain": [
       "<bound method DictVectorizer.get_feature_names of DictVectorizer(sparse=False)>"
      ]
     },
     "execution_count": 52,
     "metadata": {},
     "output_type": "execute_result"
    }
   ],
   "source": [
    "dv=DictVectorizer(sparse=False) #create an instance of the class\n",
    "\n",
    "# train the dict  vectorizer\n",
    "\n",
    "X_train=dv.fit(train_dicts)\n",
    "X_train.get_feature_names"
   ]
  },
  {
   "cell_type": "code",
   "execution_count": null,
   "id": "cd3f0bdb",
   "metadata": {
    "execution": {
     "iopub.execute_input": "2021-11-17T09:44:14.915780Z",
     "iopub.status.busy": "2021-11-17T09:44:14.913797Z",
     "iopub.status.idle": "2021-11-17T09:44:15.022420Z",
     "shell.execute_reply": "2021-11-17T09:44:15.022941Z"
    },
    "papermill": {
     "duration": 0.225334,
     "end_time": "2021-11-17T09:44:15.023127",
     "exception": false,
     "start_time": "2021-11-17T09:44:14.797793",
     "status": "completed"
    },
    "tags": []
   },
   "outputs": [],
   "source": [
    "X_train=X_train.transform(train_dicts)"
   ]
  },
  {
   "cell_type": "code",
   "execution_count": null,
   "id": "676cea4c",
   "metadata": {
    "execution": {
     "iopub.execute_input": "2021-11-17T09:44:15.245473Z",
     "iopub.status.busy": "2021-11-17T09:44:15.244462Z",
     "iopub.status.idle": "2021-11-17T09:44:15.249705Z",
     "shell.execute_reply": "2021-11-17T09:44:15.250285Z",
     "shell.execute_reply.started": "2021-11-17T08:50:01.634669Z"
    },
    "papermill": {
     "duration": 0.117969,
     "end_time": "2021-11-17T09:44:15.250487",
     "exception": false,
     "start_time": "2021-11-17T09:44:15.132518",
     "status": "completed"
    },
    "tags": []
   },
   "outputs": [
    {
     "data": {
      "text/plain": [
       "(4225, 45)"
      ]
     },
     "execution_count": 54,
     "metadata": {},
     "output_type": "execute_result"
    }
   ],
   "source": [
    "X_train.shape"
   ]
  },
  {
   "cell_type": "code",
   "execution_count": null,
   "id": "2f8b12c4",
   "metadata": {
    "execution": {
     "iopub.execute_input": "2021-11-17T09:22:16.929704Z",
     "iopub.status.busy": "2021-11-17T09:22:16.929012Z",
     "iopub.status.idle": "2021-11-17T09:22:16.944182Z",
     "shell.execute_reply": "2021-11-17T09:22:16.942882Z",
     "shell.execute_reply.started": "2021-11-17T09:22:16.929668Z"
    },
    "papermill": {
     "duration": 0.111021,
     "end_time": "2021-11-17T09:44:15.472574",
     "exception": false,
     "start_time": "2021-11-17T09:44:15.361553",
     "status": "completed"
    },
    "tags": []
   },
   "outputs": [],
   "source": []
  },
  {
   "cell_type": "code",
   "execution_count": null,
   "id": "146ae629",
   "metadata": {
    "execution": {
     "iopub.execute_input": "2021-11-17T09:44:15.699058Z",
     "iopub.status.busy": "2021-11-17T09:44:15.698108Z",
     "iopub.status.idle": "2021-11-17T09:44:15.703976Z",
     "shell.execute_reply": "2021-11-17T09:44:15.704439Z",
     "shell.execute_reply.started": "2021-11-17T08:50:01.641704Z"
    },
    "papermill": {
     "duration": 0.121229,
     "end_time": "2021-11-17T09:44:15.704586",
     "exception": false,
     "start_time": "2021-11-17T09:44:15.583357",
     "status": "completed"
    },
    "tags": []
   },
   "outputs": [
    {
     "data": {
      "text/plain": [
       "[0.0,\n",
       " 0.0,\n",
       " 1.0,\n",
       " 0.0,\n",
       " 1.0,\n",
       " 0.0,\n",
       " 0.0,\n",
       " 1.0,\n",
       " 1.0,\n",
       " 0.0,\n",
       " 0.0,\n",
       " 1.0,\n",
       " 0.0,\n",
       " 115.5,\n",
       " 0.0,\n",
       " 0.0,\n",
       " 1.0,\n",
       " 0.0,\n",
       " 0.0,\n",
       " 1.0,\n",
       " 0.0,\n",
       " 0.0,\n",
       " 1.0,\n",
       " 0.0,\n",
       " 1.0,\n",
       " 0.0,\n",
       " 1.0,\n",
       " 0.0,\n",
       " 0.0,\n",
       " 1.0,\n",
       " 0.0,\n",
       " 0.0,\n",
       " 1.0,\n",
       " 0.0,\n",
       " 0.0,\n",
       " 0.0,\n",
       " 1.0,\n",
       " 0.0,\n",
       " 0.0,\n",
       " 1.0,\n",
       " 0.0,\n",
       " 0.0,\n",
       " 1.0,\n",
       " 72.0,\n",
       " 8425.15]"
      ]
     },
     "execution_count": 55,
     "metadata": {},
     "output_type": "execute_result"
    }
   ],
   "source": [
    "list(X_train[0])"
   ]
  },
  {
   "cell_type": "code",
   "execution_count": null,
   "id": "882eddda",
   "metadata": {
    "execution": {
     "iopub.execute_input": "2021-11-17T09:44:15.940154Z",
     "iopub.status.busy": "2021-11-17T09:44:15.938354Z",
     "iopub.status.idle": "2021-11-17T09:44:16.036366Z",
     "shell.execute_reply": "2021-11-17T09:44:16.036824Z",
     "shell.execute_reply.started": "2021-11-17T08:50:01.654250Z"
    },
    "papermill": {
     "duration": 0.222496,
     "end_time": "2021-11-17T09:44:16.037006",
     "exception": false,
     "start_time": "2021-11-17T09:44:15.814510",
     "status": "completed"
    },
    "tags": []
   },
   "outputs": [
    {
     "data": {
      "text/plain": [
       "array([0.0000e+00, 0.0000e+00, 1.0000e+00, 0.0000e+00, 1.0000e+00,\n",
       "       0.0000e+00, 0.0000e+00, 1.0000e+00, 0.0000e+00, 1.0000e+00,\n",
       "       1.0000e+00, 0.0000e+00, 0.0000e+00, 7.0850e+01, 1.0000e+00,\n",
       "       0.0000e+00, 0.0000e+00, 1.0000e+00, 0.0000e+00, 0.0000e+00,\n",
       "       0.0000e+00, 0.0000e+00, 1.0000e+00, 0.0000e+00, 1.0000e+00,\n",
       "       0.0000e+00, 1.0000e+00, 0.0000e+00, 1.0000e+00, 0.0000e+00,\n",
       "       0.0000e+00, 0.0000e+00, 1.0000e+00, 0.0000e+00, 0.0000e+00,\n",
       "       0.0000e+00, 1.0000e+00, 1.0000e+00, 0.0000e+00, 0.0000e+00,\n",
       "       0.0000e+00, 0.0000e+00, 1.0000e+00, 7.1000e+01, 4.9734e+03])"
      ]
     },
     "execution_count": 56,
     "metadata": {},
     "output_type": "execute_result"
    }
   ],
   "source": [
    "# do same for vlaidation dataset\n",
    "\n",
    "val_dicts=df_val[categorical+ numerical].to_dict(orient='records')\n",
    "X_val=dv.transform(val_dicts)\n",
    "\n",
    "X_val[0]\n"
   ]
  },
  {
   "cell_type": "markdown",
   "id": "6efc742f",
   "metadata": {
    "papermill": {
     "duration": 0.10994,
     "end_time": "2021-11-17T09:44:16.256855",
     "exception": false,
     "start_time": "2021-11-17T09:44:16.146915",
     "status": "completed"
    },
    "tags": []
   },
   "source": [
    "## 3.9 Logistic Regression\n",
    "* Binary Clasiification\n",
    "* Linear vs logistic"
   ]
  },
  {
   "cell_type": "code",
   "execution_count": null,
   "id": "c0f02dd4",
   "metadata": {
    "execution": {
     "iopub.execute_input": "2021-11-17T09:44:16.482406Z",
     "iopub.status.busy": "2021-11-17T09:44:16.481726Z",
     "iopub.status.idle": "2021-11-17T09:44:16.484312Z",
     "shell.execute_reply": "2021-11-17T09:44:16.483835Z",
     "shell.execute_reply.started": "2021-11-17T08:50:01.716760Z"
    },
    "papermill": {
     "duration": 0.11633,
     "end_time": "2021-11-17T09:44:16.484445",
     "exception": false,
     "start_time": "2021-11-17T09:44:16.368115",
     "status": "completed"
    },
    "tags": []
   },
   "outputs": [],
   "source": [
    "def sigmoid(z):\n",
    "    return 1/(1+ np.exp(-z))"
   ]
  },
  {
   "cell_type": "code",
   "execution_count": null,
   "id": "cdcd9453",
   "metadata": {
    "execution": {
     "iopub.execute_input": "2021-11-17T09:44:16.706882Z",
     "iopub.status.busy": "2021-11-17T09:44:16.706176Z",
     "iopub.status.idle": "2021-11-17T09:44:16.708690Z",
     "shell.execute_reply": "2021-11-17T09:44:16.709258Z",
     "shell.execute_reply.started": "2021-11-17T08:50:01.722718Z"
    },
    "papermill": {
     "duration": 0.1172,
     "end_time": "2021-11-17T09:44:16.709452",
     "exception": false,
     "start_time": "2021-11-17T09:44:16.592252",
     "status": "completed"
    },
    "tags": []
   },
   "outputs": [
    {
     "data": {
      "text/plain": [
       "array([-8.  , -7.68, -7.36, -7.04, -6.72, -6.4 , -6.08, -5.76, -5.44,\n",
       "       -5.12, -4.8 , -4.48, -4.16, -3.84, -3.52, -3.2 , -2.88, -2.56,\n",
       "       -2.24, -1.92, -1.6 , -1.28, -0.96, -0.64, -0.32,  0.  ,  0.32,\n",
       "        0.64,  0.96,  1.28,  1.6 ,  1.92,  2.24,  2.56,  2.88,  3.2 ,\n",
       "        3.52,  3.84,  4.16,  4.48,  4.8 ,  5.12,  5.44,  5.76,  6.08,\n",
       "        6.4 ,  6.72,  7.04,  7.36,  7.68,  8.  ])"
      ]
     },
     "execution_count": 58,
     "metadata": {},
     "output_type": "execute_result"
    }
   ],
   "source": [
    "z=np.linspace(-8, 8, 51)\n",
    "\n",
    "z"
   ]
  },
  {
   "cell_type": "code",
   "execution_count": null,
   "id": "43c002cf",
   "metadata": {
    "execution": {
     "iopub.execute_input": "2021-11-17T09:44:16.932321Z",
     "iopub.status.busy": "2021-11-17T09:44:16.931709Z",
     "iopub.status.idle": "2021-11-17T09:44:16.938906Z",
     "shell.execute_reply": "2021-11-17T09:44:16.938363Z",
     "shell.execute_reply.started": "2021-11-17T08:50:01.737387Z"
    },
    "papermill": {
     "duration": 0.119594,
     "end_time": "2021-11-17T09:44:16.939045",
     "exception": false,
     "start_time": "2021-11-17T09:44:16.819451",
     "status": "completed"
    },
    "tags": []
   },
   "outputs": [
    {
     "data": {
      "text/plain": [
       "array([3.35350130e-04, 4.61761577e-04, 6.35793968e-04, 8.75359636e-04,\n",
       "       1.20508423e-03, 1.65880108e-03, 2.28295285e-03, 3.14121328e-03,\n",
       "       4.32073352e-03, 5.94052220e-03, 8.16257115e-03, 1.12064063e-02,\n",
       "       1.53677056e-02, 2.10413470e-02, 2.87484959e-02, 3.91657228e-02,\n",
       "       5.31511364e-02, 7.17575423e-02, 9.62155417e-02, 1.27861566e-01,\n",
       "       1.67981615e-01, 2.17550224e-01, 2.76878195e-01, 3.45246539e-01,\n",
       "       4.20675748e-01, 5.00000000e-01, 5.79324252e-01, 6.54753461e-01,\n",
       "       7.23121805e-01, 7.82449776e-01, 8.32018385e-01, 8.72138434e-01,\n",
       "       9.03784458e-01, 9.28242458e-01, 9.46848864e-01, 9.60834277e-01,\n",
       "       9.71251504e-01, 9.78958653e-01, 9.84632294e-01, 9.88793594e-01,\n",
       "       9.91837429e-01, 9.94059478e-01, 9.95679266e-01, 9.96858787e-01,\n",
       "       9.97717047e-01, 9.98341199e-01, 9.98794916e-01, 9.99124640e-01,\n",
       "       9.99364206e-01, 9.99538238e-01, 9.99664650e-01])"
      ]
     },
     "execution_count": 59,
     "metadata": {},
     "output_type": "execute_result"
    }
   ],
   "source": [
    "sigmoid(z)"
   ]
  },
  {
   "cell_type": "code",
   "execution_count": null,
   "id": "f4ccbbfd",
   "metadata": {
    "execution": {
     "iopub.execute_input": "2021-11-17T09:44:17.183978Z",
     "iopub.status.busy": "2021-11-17T09:44:17.165458Z",
     "iopub.status.idle": "2021-11-17T09:44:17.532724Z",
     "shell.execute_reply": "2021-11-17T09:44:17.532037Z",
     "shell.execute_reply.started": "2021-11-17T08:50:01.870026Z"
    },
    "papermill": {
     "duration": 0.482655,
     "end_time": "2021-11-17T09:44:17.532868",
     "exception": false,
     "start_time": "2021-11-17T09:44:17.050213",
     "status": "completed"
    },
    "tags": []
   },
   "outputs": [
    {
     "data": {
      "text/plain": [
       "[<matplotlib.lines.Line2D at 0x7fe4f3a72410>]"
      ]
     },
     "execution_count": 60,
     "metadata": {},
     "output_type": "execute_result"
    },
    {
     "data": {
      "image/png": "[encoded data removed]",
      "text/plain": [
       "<Figure size 432x288 with 1 Axes>"
      ]
     },
     "metadata": {
      "needs_background": "light"
     },
     "output_type": "display_data"
    }
   ],
   "source": [
    "plt.plot(z, sigmoid(z))"
   ]
  },
  {
   "cell_type": "code",
   "execution_count": null,
   "id": "dc0aa6da",
   "metadata": {
    "execution": {
     "iopub.execute_input": "2021-11-17T09:44:17.764465Z",
     "iopub.status.busy": "2021-11-17T09:44:17.763813Z",
     "iopub.status.idle": "2021-11-17T09:44:17.765356Z",
     "shell.execute_reply": "2021-11-17T09:44:17.765789Z",
     "shell.execute_reply.started": "2021-11-17T08:50:02.110178Z"
    },
    "papermill": {
     "duration": 0.120342,
     "end_time": "2021-11-17T09:44:17.765956",
     "exception": false,
     "start_time": "2021-11-17T09:44:17.645614",
     "status": "completed"
    },
    "tags": []
   },
   "outputs": [],
   "source": [
    "def logistic_regression(xi):\n",
    "    \n",
    "    score=w0\n",
    "    for j in range(len(w)):\n",
    "        score=score+ xi[j] * w[j]\n",
    "        \n",
    "    result=sigmoid(score)\n",
    "    \n",
    "    return result\n",
    "    "
   ]
  },
  {
   "cell_type": "markdown",
   "id": "c998e1c0",
   "metadata": {
    "papermill": {
     "duration": 0.110289,
     "end_time": "2021-11-17T09:44:17.987047",
     "exception": false,
     "start_time": "2021-11-17T09:44:17.876758",
     "status": "completed"
    },
    "tags": []
   },
   "source": [
    "## 3.10 Training Logistic Regression with Scikit_Learn\n",
    "\n",
    "* Train a model with Scikit-Learn\n",
    "* Apply it to the validation dataset\n",
    "* Calculate the accuracy"
   ]
  },
  {
   "cell_type": "code",
   "execution_count": null,
   "id": "f0ab18c8",
   "metadata": {
    "execution": {
     "iopub.execute_input": "2021-11-17T09:44:18.216129Z",
     "iopub.status.busy": "2021-11-17T09:44:18.215501Z",
     "iopub.status.idle": "2021-11-17T09:44:18.291040Z",
     "shell.execute_reply": "2021-11-17T09:44:18.290454Z",
     "shell.execute_reply.started": "2021-11-17T08:50:02.118937Z"
    },
    "papermill": {
     "duration": 0.191129,
     "end_time": "2021-11-17T09:44:18.291177",
     "exception": false,
     "start_time": "2021-11-17T09:44:18.100048",
     "status": "completed"
    },
    "tags": []
   },
   "outputs": [],
   "source": [
    "from sklearn.linear_model import LogisticRegression"
   ]
  },
  {
   "cell_type": "code",
   "execution_count": null,
   "id": "0451ede6",
   "metadata": {
    "execution": {
     "iopub.execute_input": "2021-11-17T09:44:18.518081Z",
     "iopub.status.busy": "2021-11-17T09:44:18.517498Z",
     "iopub.status.idle": "2021-11-17T09:44:18.681317Z",
     "shell.execute_reply": "2021-11-17T09:44:18.682137Z",
     "shell.execute_reply.started": "2021-11-17T08:50:02.206049Z"
    },
    "papermill": {
     "duration": 0.278944,
     "end_time": "2021-11-17T09:44:18.682422",
     "exception": false,
     "start_time": "2021-11-17T09:44:18.403478",
     "status": "completed"
    },
    "tags": []
   },
   "outputs": [
    {
     "data": {
      "text/plain": [
       "LogisticRegression()"
      ]
     },
     "execution_count": 63,
     "metadata": {},
     "output_type": "execute_result"
    }
   ],
   "source": [
    "model=LogisticRegression()\n",
    "\n",
    "model.fit(X_train, y_train)"
   ]
  },
  {
   "cell_type": "code",
   "execution_count": null,
   "id": "fc0bb73a",
   "metadata": {
    "execution": {
     "iopub.execute_input": "2021-11-17T09:44:18.962733Z",
     "iopub.status.busy": "2021-11-17T09:44:18.962032Z",
     "iopub.status.idle": "2021-11-17T09:44:18.965486Z",
     "shell.execute_reply": "2021-11-17T09:44:18.966046Z",
     "shell.execute_reply.started": "2021-11-17T08:50:02.365361Z"
    },
    "papermill": {
     "duration": 0.120329,
     "end_time": "2021-11-17T09:44:18.966214",
     "exception": false,
     "start_time": "2021-11-17T09:44:18.845885",
     "status": "completed"
    },
    "tags": []
   },
   "outputs": [
    {
     "data": {
      "text/plain": [
       "array([ 0.47, -0.17, -0.41, -0.03, -0.08,  0.06, -0.09, -0.08, -0.03,\n",
       "       -0.07, -0.34,  0.32, -0.09,  0.  , -0.26,  0.14,  0.01,  0.06,\n",
       "       -0.09, -0.08,  0.27, -0.09, -0.28, -0.23,  0.12, -0.17,  0.06,\n",
       "       -0.09, -0.03,  0.07, -0.06,  0.14, -0.25,  0.22, -0.12, -0.09,\n",
       "        0.1 , -0.07, -0.09,  0.05,  0.21, -0.09, -0.23, -0.07,  0.  ])"
      ]
     },
     "execution_count": 64,
     "metadata": {},
     "output_type": "execute_result"
    }
   ],
   "source": [
    "model.coef_[0].round(2)"
   ]
  },
  {
   "cell_type": "code",
   "execution_count": null,
   "id": "027fd235",
   "metadata": {
    "execution": {
     "iopub.execute_input": "2021-11-17T09:44:19.196094Z",
     "iopub.status.busy": "2021-11-17T09:44:19.195467Z",
     "iopub.status.idle": "2021-11-17T09:44:19.200388Z",
     "shell.execute_reply": "2021-11-17T09:44:19.200932Z",
     "shell.execute_reply.started": "2021-11-17T08:50:02.391019Z"
    },
    "papermill": {
     "duration": 0.121292,
     "end_time": "2021-11-17T09:44:19.201083",
     "exception": false,
     "start_time": "2021-11-17T09:44:19.079791",
     "status": "completed"
    },
    "tags": []
   },
   "outputs": [
    {
     "data": {
      "text/plain": [
       "-0.10903322824505347"
      ]
     },
     "execution_count": 65,
     "metadata": {},
     "output_type": "execute_result"
    }
   ],
   "source": [
    "model.intercept_[0]"
   ]
  },
  {
   "cell_type": "code",
   "execution_count": null,
   "id": "dbe39358",
   "metadata": {
    "execution": {
     "iopub.execute_input": "2021-11-17T09:44:19.428484Z",
     "iopub.status.busy": "2021-11-17T09:44:19.427877Z",
     "iopub.status.idle": "2021-11-17T09:44:19.438401Z",
     "shell.execute_reply": "2021-11-17T09:44:19.439426Z",
     "shell.execute_reply.started": "2021-11-17T08:50:02.400559Z"
    },
    "papermill": {
     "duration": 0.127168,
     "end_time": "2021-11-17T09:44:19.439693",
     "exception": false,
     "start_time": "2021-11-17T09:44:19.312525",
     "status": "completed"
    },
    "tags": []
   },
   "outputs": [
    {
     "data": {
      "text/plain": [
       "array([0, 0, 0, ..., 0, 1, 1])"
      ]
     },
     "execution_count": 66,
     "metadata": {},
     "output_type": "execute_result"
    }
   ],
   "source": [
    "model.predict(X_val) # Hard Predictions (without probability)"
   ]
  },
  {
   "cell_type": "code",
   "execution_count": null,
   "id": "5a23e621",
   "metadata": {
    "execution": {
     "iopub.execute_input": "2021-11-17T09:44:19.722333Z",
     "iopub.status.busy": "2021-11-17T09:44:19.721273Z",
     "iopub.status.idle": "2021-11-17T09:44:19.726583Z",
     "shell.execute_reply": "2021-11-17T09:44:19.727553Z",
     "shell.execute_reply.started": "2021-11-17T08:50:02.413048Z"
    },
    "papermill": {
     "duration": 0.12407,
     "end_time": "2021-11-17T09:44:19.727807",
     "exception": false,
     "start_time": "2021-11-17T09:44:19.603737",
     "status": "completed"
    },
    "tags": []
   },
   "outputs": [],
   "source": [
    "y_pred= model.predict_proba(X_val)[:, 1] # soft predictions (with probability)\n",
    "\n",
    "# 1 because it produces a 2d matrxi with non-churning and churning customers hence we chose the latter"
   ]
  },
  {
   "cell_type": "code",
   "execution_count": null,
   "id": "a53af708",
   "metadata": {
    "execution": {
     "iopub.execute_input": "2021-11-17T09:44:20.016044Z",
     "iopub.status.busy": "2021-11-17T09:44:20.015175Z",
     "iopub.status.idle": "2021-11-17T09:44:20.017823Z",
     "shell.execute_reply": "2021-11-17T09:44:20.017261Z",
     "shell.execute_reply.started": "2021-11-17T08:50:02.424980Z"
    },
    "papermill": {
     "duration": 0.121513,
     "end_time": "2021-11-17T09:44:20.017958",
     "exception": false,
     "start_time": "2021-11-17T09:44:19.896445",
     "status": "completed"
    },
    "tags": []
   },
   "outputs": [],
   "source": [
    "churn_decision=(y_pred >=0.5)"
   ]
  },
  {
   "cell_type": "code",
   "execution_count": null,
   "id": "dad167ae",
   "metadata": {
    "execution": {
     "iopub.execute_input": "2021-11-17T09:44:20.248852Z",
     "iopub.status.busy": "2021-11-17T09:44:20.248222Z",
     "iopub.status.idle": "2021-11-17T09:44:20.255459Z",
     "shell.execute_reply": "2021-11-17T09:44:20.256036Z",
     "shell.execute_reply.started": "2021-11-17T09:34:44.447465Z"
    },
    "papermill": {
     "duration": 0.123655,
     "end_time": "2021-11-17T09:44:20.256191",
     "exception": false,
     "start_time": "2021-11-17T09:44:20.132536",
     "status": "completed"
    },
    "tags": []
   },
   "outputs": [
    {
     "data": {
      "text/plain": [
       "0      8433-wxgna\n",
       "1      3440-jpscl\n",
       "2      2637-fkfsy\n",
       "3      7228-omtpn\n",
       "4      6711-fldfb\n",
       "          ...    \n",
       "306    5976-jcjrh\n",
       "307    2034-cgrhz\n",
       "308    5276-kqwhg\n",
       "309    6521-yytyi\n",
       "310    3049-solay\n",
       "Name: customerid, Length: 311, dtype: object"
      ]
     },
     "execution_count": 69,
     "metadata": {},
     "output_type": "execute_result"
    }
   ],
   "source": [
    "df_val[churn_decision].customerid.reset_index(drop=True)"
   ]
  },
  {
   "cell_type": "code",
   "execution_count": null,
   "id": "9398affa",
   "metadata": {
    "execution": {
     "iopub.execute_input": "2021-11-17T09:44:20.487013Z",
     "iopub.status.busy": "2021-11-17T09:44:20.486439Z",
     "iopub.status.idle": "2021-11-17T09:44:20.491147Z",
     "shell.execute_reply": "2021-11-17T09:44:20.491898Z",
     "shell.execute_reply.started": "2021-11-17T08:50:02.470515Z"
    },
    "papermill": {
     "duration": 0.122201,
     "end_time": "2021-11-17T09:44:20.492078",
     "exception": false,
     "start_time": "2021-11-17T09:44:20.369877",
     "status": "completed"
    },
    "tags": []
   },
   "outputs": [
    {
     "data": {
      "text/plain": [
       "0.8034066713981547"
      ]
     },
     "execution_count": 70,
     "metadata": {},
     "output_type": "execute_result"
    }
   ],
   "source": [
    "# checking accuracy\n",
    "(y_val==churn_decision).mean()"
   ]
  },
  {
   "cell_type": "code",
   "execution_count": null,
   "id": "b400be6d",
   "metadata": {
    "execution": {
     "iopub.execute_input": "2021-11-17T09:44:20.726101Z",
     "iopub.status.busy": "2021-11-17T09:44:20.725524Z",
     "iopub.status.idle": "2021-11-17T09:44:20.730217Z",
     "shell.execute_reply": "2021-11-17T09:44:20.730815Z",
     "shell.execute_reply.started": "2021-11-17T08:50:02.487418Z"
    },
    "papermill": {
     "duration": 0.123127,
     "end_time": "2021-11-17T09:44:20.730969",
     "exception": false,
     "start_time": "2021-11-17T09:44:20.607842",
     "status": "completed"
    },
    "tags": []
   },
   "outputs": [
    {
     "data": {
      "text/plain": [
       "array([0, 0, 0, ..., 0, 1, 1])"
      ]
     },
     "execution_count": 71,
     "metadata": {},
     "output_type": "execute_result"
    }
   ],
   "source": [
    "# Lets check the accuracy\n",
    "churn_decision.astype(int)"
   ]
  },
  {
   "cell_type": "code",
   "execution_count": null,
   "id": "2be2e594",
   "metadata": {
    "execution": {
     "iopub.execute_input": "2021-11-17T09:44:20.964465Z",
     "iopub.status.busy": "2021-11-17T09:44:20.963488Z",
     "iopub.status.idle": "2021-11-17T09:44:20.978020Z",
     "shell.execute_reply": "2021-11-17T09:44:20.978638Z",
     "shell.execute_reply.started": "2021-11-17T08:50:02.505392Z"
    },
    "papermill": {
     "duration": 0.133355,
     "end_time": "2021-11-17T09:44:20.978805",
     "exception": false,
     "start_time": "2021-11-17T09:44:20.845450",
     "status": "completed"
    },
    "tags": []
   },
   "outputs": [
    {
     "data": {
      "text/html": [
       "<div>\n",
       "<style scoped>\n",
       "    .dataframe tbody tr th:only-of-type {\n",
       "        vertical-align: middle;\n",
       "    }\n",
       "\n",
       "    .dataframe tbody tr th {\n",
       "        vertical-align: top;\n",
       "    }\n",
       "\n",
       "    .dataframe thead th {\n",
       "        text-align: right;\n",
       "    }\n",
       "</style>\n",
       "<table border=\"1\" class=\"dataframe\">\n",
       "  <thead>\n",
       "    <tr style=\"text-align: right;\">\n",
       "      <th></th>\n",
       "      <th>probability</th>\n",
       "      <th>prediction</th>\n",
       "      <th>actual</th>\n",
       "    </tr>\n",
       "  </thead>\n",
       "  <tbody>\n",
       "    <tr>\n",
       "      <th>0</th>\n",
       "      <td>0.008997</td>\n",
       "      <td>0</td>\n",
       "      <td>0</td>\n",
       "    </tr>\n",
       "    <tr>\n",
       "      <th>1</th>\n",
       "      <td>0.204530</td>\n",
       "      <td>0</td>\n",
       "      <td>0</td>\n",
       "    </tr>\n",
       "    <tr>\n",
       "      <th>2</th>\n",
       "      <td>0.212228</td>\n",
       "      <td>0</td>\n",
       "      <td>0</td>\n",
       "    </tr>\n",
       "    <tr>\n",
       "      <th>3</th>\n",
       "      <td>0.543030</td>\n",
       "      <td>1</td>\n",
       "      <td>1</td>\n",
       "    </tr>\n",
       "    <tr>\n",
       "      <th>4</th>\n",
       "      <td>0.213788</td>\n",
       "      <td>0</td>\n",
       "      <td>0</td>\n",
       "    </tr>\n",
       "    <tr>\n",
       "      <th>...</th>\n",
       "      <td>...</td>\n",
       "      <td>...</td>\n",
       "      <td>...</td>\n",
       "    </tr>\n",
       "    <tr>\n",
       "      <th>1404</th>\n",
       "      <td>0.313685</td>\n",
       "      <td>0</td>\n",
       "      <td>0</td>\n",
       "    </tr>\n",
       "    <tr>\n",
       "      <th>1405</th>\n",
       "      <td>0.039358</td>\n",
       "      <td>0</td>\n",
       "      <td>1</td>\n",
       "    </tr>\n",
       "    <tr>\n",
       "      <th>1406</th>\n",
       "      <td>0.136387</td>\n",
       "      <td>0</td>\n",
       "      <td>0</td>\n",
       "    </tr>\n",
       "    <tr>\n",
       "      <th>1407</th>\n",
       "      <td>0.799761</td>\n",
       "      <td>1</td>\n",
       "      <td>1</td>\n",
       "    </tr>\n",
       "    <tr>\n",
       "      <th>1408</th>\n",
       "      <td>0.837400</td>\n",
       "      <td>1</td>\n",
       "      <td>1</td>\n",
       "    </tr>\n",
       "  </tbody>\n",
       "</table>\n",
       "<p>1409 rows × 3 columns</p>\n",
       "</div>"
      ],
      "text/plain": [
       "      probability  prediction  actual\n",
       "0        0.008997           0       0\n",
       "1        0.204530           0       0\n",
       "2        0.212228           0       0\n",
       "3        0.543030           1       1\n",
       "4        0.213788           0       0\n",
       "...           ...         ...     ...\n",
       "1404     0.313685           0       0\n",
       "1405     0.039358           0       1\n",
       "1406     0.136387           0       0\n",
       "1407     0.799761           1       1\n",
       "1408     0.837400           1       1\n",
       "\n",
       "[1409 rows x 3 columns]"
      ]
     },
     "execution_count": 72,
     "metadata": {},
     "output_type": "execute_result"
    }
   ],
   "source": [
    "# Same as what has been done on 2 code cells above\n",
    "df_pred= pd.DataFrame()\n",
    "\n",
    "df_pred['probability']=y_pred\n",
    "\n",
    "df_pred['prediction']=churn_decision.astype(int)\n",
    "\n",
    "df_pred['actual']= y_val\n",
    "\n",
    "df_pred"
   ]
  },
  {
   "cell_type": "code",
   "execution_count": null,
   "id": "aaef96bc",
   "metadata": {
    "execution": {
     "iopub.execute_input": "2021-11-17T09:44:21.214696Z",
     "iopub.status.busy": "2021-11-17T09:44:21.213704Z",
     "iopub.status.idle": "2021-11-17T09:44:21.218604Z",
     "shell.execute_reply": "2021-11-17T09:44:21.219201Z",
     "shell.execute_reply.started": "2021-11-17T08:50:02.538300Z"
    },
    "papermill": {
     "duration": 0.125446,
     "end_time": "2021-11-17T09:44:21.219381",
     "exception": false,
     "start_time": "2021-11-17T09:44:21.093935",
     "status": "completed"
    },
    "tags": []
   },
   "outputs": [],
   "source": [
    "df_pred['correct']= df_pred['prediction']== df_pred['actual']"
   ]
  },
  {
   "cell_type": "code",
   "execution_count": null,
   "id": "a190f9dc",
   "metadata": {
    "execution": {
     "iopub.execute_input": "2021-11-17T09:44:21.453162Z",
     "iopub.status.busy": "2021-11-17T09:44:21.452210Z",
     "iopub.status.idle": "2021-11-17T09:44:21.459079Z",
     "shell.execute_reply": "2021-11-17T09:44:21.458569Z",
     "shell.execute_reply.started": "2021-11-17T08:50:02.546541Z"
    },
    "papermill": {
     "duration": 0.126506,
     "end_time": "2021-11-17T09:44:21.459219",
     "exception": false,
     "start_time": "2021-11-17T09:44:21.332713",
     "status": "completed"
    },
    "tags": []
   },
   "outputs": [
    {
     "data": {
      "text/plain": [
       "0.8034066713981547"
      ]
     },
     "execution_count": 74,
     "metadata": {},
     "output_type": "execute_result"
    }
   ],
   "source": [
    "df_pred.correct.mean()"
   ]
  },
  {
   "cell_type": "code",
   "execution_count": null,
   "id": "4d60f06a",
   "metadata": {
    "papermill": {
     "duration": 0.116202,
     "end_time": "2021-11-17T09:44:21.692434",
     "exception": false,
     "start_time": "2021-11-17T09:44:21.576232",
     "status": "completed"
    },
    "tags": []
   },
   "outputs": [],
   "source": []
  },
  {
   "cell_type": "markdown",
   "id": "8029fe92",
   "metadata": {
    "papermill": {
     "duration": 0.117157,
     "end_time": "2021-11-17T09:44:21.926000",
     "exception": false,
     "start_time": "2021-11-17T09:44:21.808843",
     "status": "completed"
    },
    "tags": []
   },
   "source": [
    "## 3.11 Model Interpretation\n",
    "\n",
    "* Look at the coefficients\n",
    "* Train a smaller model with fewer features"
   ]
  },
  {
   "cell_type": "code",
   "execution_count": null,
   "id": "daac85e7",
   "metadata": {
    "execution": {
     "iopub.execute_input": "2021-11-17T09:44:22.164746Z",
     "iopub.status.busy": "2021-11-17T09:44:22.164000Z",
     "iopub.status.idle": "2021-11-17T09:44:22.170417Z",
     "shell.execute_reply": "2021-11-17T09:44:22.169771Z",
     "shell.execute_reply.started": "2021-11-17T08:50:02.560767Z"
    },
    "papermill": {
     "duration": 0.126994,
     "end_time": "2021-11-17T09:44:22.170568",
     "exception": false,
     "start_time": "2021-11-17T09:44:22.043574",
     "status": "completed"
    },
    "tags": []
   },
   "outputs": [
    {
     "data": {
      "text/plain": [
       "['contract=month-to-month',\n",
       " 'contract=one_year',\n",
       " 'contract=two_year',\n",
       " 'dependents=no',\n",
       " 'dependents=yes',\n",
       " 'deviceprotection=no',\n",
       " 'deviceprotection=no_internet_service',\n",
       " 'deviceprotection=yes',\n",
       " 'gender=female',\n",
       " 'gender=male',\n",
       " 'internetservice=dsl',\n",
       " 'internetservice=fiber_optic',\n",
       " 'internetservice=no',\n",
       " 'monthlycharges',\n",
       " 'multiplelines=no',\n",
       " 'multiplelines=no_phone_service',\n",
       " 'multiplelines=yes',\n",
       " 'onlinebackup=no',\n",
       " 'onlinebackup=no_internet_service',\n",
       " 'onlinebackup=yes',\n",
       " 'onlinesecurity=no',\n",
       " 'onlinesecurity=no_internet_service',\n",
       " 'onlinesecurity=yes',\n",
       " 'paperlessbilling=no',\n",
       " 'paperlessbilling=yes',\n",
       " 'partner=no',\n",
       " 'partner=yes',\n",
       " 'paymentmethod=bank_transfer_(automatic)',\n",
       " 'paymentmethod=credit_card_(automatic)',\n",
       " 'paymentmethod=electronic_check',\n",
       " 'paymentmethod=mailed_check',\n",
       " 'phoneservice=no',\n",
       " 'phoneservice=yes',\n",
       " 'seniorcitizen',\n",
       " 'streamingmovies=no',\n",
       " 'streamingmovies=no_internet_service',\n",
       " 'streamingmovies=yes',\n",
       " 'streamingtv=no',\n",
       " 'streamingtv=no_internet_service',\n",
       " 'streamingtv=yes',\n",
       " 'techsupport=no',\n",
       " 'techsupport=no_internet_service',\n",
       " 'techsupport=yes',\n",
       " 'tenure',\n",
       " 'totalcharges']"
      ]
     },
     "execution_count": 75,
     "metadata": {},
     "output_type": "execute_result"
    }
   ],
   "source": [
    "dv.get_feature_names()"
   ]
  },
  {
   "cell_type": "code",
   "execution_count": null,
   "id": "daab75bf",
   "metadata": {
    "execution": {
     "iopub.execute_input": "2021-11-17T09:44:22.411114Z",
     "iopub.status.busy": "2021-11-17T09:44:22.410470Z",
     "iopub.status.idle": "2021-11-17T09:44:22.416089Z",
     "shell.execute_reply": "2021-11-17T09:44:22.416707Z",
     "shell.execute_reply.started": "2021-11-17T08:50:02.575497Z"
    },
    "papermill": {
     "duration": 0.126503,
     "end_time": "2021-11-17T09:44:22.416880",
     "exception": false,
     "start_time": "2021-11-17T09:44:22.290377",
     "status": "completed"
    },
    "tags": []
   },
   "outputs": [
    {
     "data": {
      "text/plain": [
       "array([ 0.47, -0.17, -0.41, -0.03, -0.08,  0.06, -0.09, -0.08, -0.03,\n",
       "       -0.07, -0.34,  0.32, -0.09,  0.  , -0.26,  0.14,  0.01,  0.06,\n",
       "       -0.09, -0.08,  0.27, -0.09, -0.28, -0.23,  0.12, -0.17,  0.06,\n",
       "       -0.09, -0.03,  0.07, -0.06,  0.14, -0.25,  0.22, -0.12, -0.09,\n",
       "        0.1 , -0.07, -0.09,  0.05,  0.21, -0.09, -0.23, -0.07,  0.  ])"
      ]
     },
     "execution_count": 76,
     "metadata": {},
     "output_type": "execute_result"
    }
   ],
   "source": [
    "model.coef_[0].round(2)"
   ]
  },
  {
   "cell_type": "code",
   "execution_count": null,
   "id": "ac6ea4a9",
   "metadata": {
    "execution": {
     "iopub.execute_input": "2021-11-17T09:44:22.655702Z",
     "iopub.status.busy": "2021-11-17T09:44:22.655086Z",
     "iopub.status.idle": "2021-11-17T09:44:22.661869Z",
     "shell.execute_reply": "2021-11-17T09:44:22.662496Z",
     "shell.execute_reply.started": "2021-11-17T08:50:02.588975Z"
    },
    "papermill": {
     "duration": 0.127728,
     "end_time": "2021-11-17T09:44:22.662674",
     "exception": false,
     "start_time": "2021-11-17T09:44:22.534946",
     "status": "completed"
    },
    "tags": []
   },
   "outputs": [
    {
     "data": {
      "text/plain": [
       "{'contract=month-to-month': 0.475,\n",
       " 'contract=one_year': -0.175,\n",
       " 'contract=two_year': -0.408,\n",
       " 'dependents=no': -0.03,\n",
       " 'dependents=yes': -0.078,\n",
       " 'deviceprotection=no': 0.063,\n",
       " 'deviceprotection=no_internet_service': -0.089,\n",
       " 'deviceprotection=yes': -0.081,\n",
       " 'gender=female': -0.034,\n",
       " 'gender=male': -0.073,\n",
       " 'internetservice=dsl': -0.335,\n",
       " 'internetservice=fiber_optic': 0.317,\n",
       " 'internetservice=no': -0.089,\n",
       " 'monthlycharges': 0.004,\n",
       " 'multiplelines=no': -0.258,\n",
       " 'multiplelines=no_phone_service': 0.141,\n",
       " 'multiplelines=yes': 0.009,\n",
       " 'onlinebackup=no': 0.063,\n",
       " 'onlinebackup=no_internet_service': -0.089,\n",
       " 'onlinebackup=yes': -0.081,\n",
       " 'onlinesecurity=no': 0.266,\n",
       " 'onlinesecurity=no_internet_service': -0.089,\n",
       " 'onlinesecurity=yes': -0.284,\n",
       " 'paperlessbilling=no': -0.231,\n",
       " 'paperlessbilling=yes': 0.124,\n",
       " 'partner=no': -0.166,\n",
       " 'partner=yes': 0.058,\n",
       " 'paymentmethod=bank_transfer_(automatic)': -0.087,\n",
       " 'paymentmethod=credit_card_(automatic)': -0.032,\n",
       " 'paymentmethod=electronic_check': 0.07,\n",
       " 'paymentmethod=mailed_check': -0.059,\n",
       " 'phoneservice=no': 0.141,\n",
       " 'phoneservice=yes': -0.249,\n",
       " 'seniorcitizen': 0.215,\n",
       " 'streamingmovies=no': -0.12,\n",
       " 'streamingmovies=no_internet_service': -0.089,\n",
       " 'streamingmovies=yes': 0.102,\n",
       " 'streamingtv=no': -0.071,\n",
       " 'streamingtv=no_internet_service': -0.089,\n",
       " 'streamingtv=yes': 0.052,\n",
       " 'techsupport=no': 0.213,\n",
       " 'techsupport=no_internet_service': -0.089,\n",
       " 'techsupport=yes': -0.232,\n",
       " 'tenure': -0.07,\n",
       " 'totalcharges': 0.0}"
      ]
     },
     "execution_count": 77,
     "metadata": {},
     "output_type": "execute_result"
    }
   ],
   "source": [
    "dict(zip(dv.get_feature_names(),model.coef_[0].round(3)))"
   ]
  },
  {
   "cell_type": "markdown",
   "id": "07a662a2",
   "metadata": {
    "papermill": {
     "duration": 0.118043,
     "end_time": "2021-11-17T09:44:22.898759",
     "exception": false,
     "start_time": "2021-11-17T09:44:22.780716",
     "status": "completed"
    },
    "tags": []
   },
   "source": []
  },
  {
   "cell_type": "code",
   "execution_count": null,
   "id": "9d54e69d",
   "metadata": {
    "execution": {
     "iopub.execute_input": "2021-11-17T09:44:23.142855Z",
     "iopub.status.busy": "2021-11-17T09:44:23.142136Z",
     "iopub.status.idle": "2021-11-17T09:44:23.145062Z",
     "shell.execute_reply": "2021-11-17T09:44:23.145584Z",
     "shell.execute_reply.started": "2021-11-17T08:50:02.601558Z"
    },
    "papermill": {
     "duration": 0.127497,
     "end_time": "2021-11-17T09:44:23.145753",
     "exception": false,
     "start_time": "2021-11-17T09:44:23.018256",
     "status": "completed"
    },
    "tags": []
   },
   "outputs": [],
   "source": [
    "# Lets try training a smaller model with few features\n",
    "\n",
    "small=['contract', 'tenure', 'monthlycharges']"
   ]
  },
  {
   "cell_type": "code",
   "execution_count": null,
   "id": "14f78e73",
   "metadata": {
    "execution": {
     "iopub.execute_input": "2021-11-17T09:44:23.385482Z",
     "iopub.status.busy": "2021-11-17T09:44:23.384842Z",
     "iopub.status.idle": "2021-11-17T09:44:23.392316Z",
     "shell.execute_reply": "2021-11-17T09:44:23.392810Z",
     "shell.execute_reply.started": "2021-11-17T08:50:02.612193Z"
    },
    "papermill": {
     "duration": 0.128533,
     "end_time": "2021-11-17T09:44:23.392966",
     "exception": false,
     "start_time": "2021-11-17T09:44:23.264433",
     "status": "completed"
    },
    "tags": []
   },
   "outputs": [
    {
     "data": {
      "text/plain": [
       "[{'contract': 'two_year', 'tenure': 72, 'monthlycharges': 115.5},\n",
       " {'contract': 'month-to-month', 'tenure': 10, 'monthlycharges': 95.25},\n",
       " {'contract': 'month-to-month', 'tenure': 5, 'monthlycharges': 75.55},\n",
       " {'contract': 'month-to-month', 'tenure': 5, 'monthlycharges': 80.85},\n",
       " {'contract': 'two_year', 'tenure': 18, 'monthlycharges': 20.1},\n",
       " {'contract': 'month-to-month', 'tenure': 4, 'monthlycharges': 30.5},\n",
       " {'contract': 'month-to-month', 'tenure': 1, 'monthlycharges': 75.1},\n",
       " {'contract': 'month-to-month', 'tenure': 1, 'monthlycharges': 70.3},\n",
       " {'contract': 'two_year', 'tenure': 72, 'monthlycharges': 19.75},\n",
       " {'contract': 'month-to-month', 'tenure': 6, 'monthlycharges': 109.9}]"
      ]
     },
     "execution_count": 79,
     "metadata": {},
     "output_type": "execute_result"
    }
   ],
   "source": [
    "df_train[small].iloc[:10].to_dict(orient='records')"
   ]
  },
  {
   "cell_type": "code",
   "execution_count": null,
   "id": "64d73847",
   "metadata": {
    "execution": {
     "iopub.execute_input": "2021-11-17T09:44:23.634452Z",
     "iopub.status.busy": "2021-11-17T09:44:23.633688Z",
     "iopub.status.idle": "2021-11-17T09:44:23.669908Z",
     "shell.execute_reply": "2021-11-17T09:44:23.669338Z",
     "shell.execute_reply.started": "2021-11-17T08:50:02.627578Z"
    },
    "papermill": {
     "duration": 0.157949,
     "end_time": "2021-11-17T09:44:23.670057",
     "exception": false,
     "start_time": "2021-11-17T09:44:23.512108",
     "status": "completed"
    },
    "tags": []
   },
   "outputs": [],
   "source": [
    "dicts_train_small=df_train[small].to_dict(orient='records')\n",
    "dicts_val_small=df_val[small].to_dict(orient='records')"
   ]
  },
  {
   "cell_type": "code",
   "execution_count": null,
   "id": "670d5285",
   "metadata": {
    "execution": {
     "iopub.execute_input": "2021-11-17T09:44:23.914615Z",
     "iopub.status.busy": "2021-11-17T09:44:23.913715Z",
     "iopub.status.idle": "2021-11-17T09:44:23.920354Z",
     "shell.execute_reply": "2021-11-17T09:44:23.920906Z",
     "shell.execute_reply.started": "2021-11-17T08:50:02.660608Z"
    },
    "papermill": {
     "duration": 0.132581,
     "end_time": "2021-11-17T09:44:23.921073",
     "exception": false,
     "start_time": "2021-11-17T09:44:23.788492",
     "status": "completed"
    },
    "tags": []
   },
   "outputs": [
    {
     "data": {
      "text/plain": [
       "DictVectorizer(sparse=False)"
      ]
     },
     "execution_count": 81,
     "metadata": {},
     "output_type": "execute_result"
    }
   ],
   "source": [
    "dv_small=DictVectorizer(sparse=False)\n",
    "dv_small.fit(dicts_train_small)"
   ]
  },
  {
   "cell_type": "code",
   "execution_count": null,
   "id": "f6706987",
   "metadata": {
    "execution": {
     "iopub.execute_input": "2021-11-17T09:44:24.163671Z",
     "iopub.status.busy": "2021-11-17T09:44:24.162608Z",
     "iopub.status.idle": "2021-11-17T09:44:24.180239Z",
     "shell.execute_reply": "2021-11-17T09:44:24.180833Z",
     "shell.execute_reply.started": "2021-11-17T08:50:02.672909Z"
    },
    "papermill": {
     "duration": 0.14014,
     "end_time": "2021-11-17T09:44:24.181000",
     "exception": false,
     "start_time": "2021-11-17T09:44:24.040860",
     "status": "completed"
    },
    "tags": []
   },
   "outputs": [],
   "source": [
    "X_train_small= dv_small.transform(dicts_train_small)"
   ]
  },
  {
   "cell_type": "code",
   "execution_count": null,
   "id": "0e956aad",
   "metadata": {
    "execution": {
     "iopub.execute_input": "2021-11-17T09:44:24.419267Z",
     "iopub.status.busy": "2021-11-17T09:44:24.418302Z",
     "iopub.status.idle": "2021-11-17T09:44:24.421710Z",
     "shell.execute_reply": "2021-11-17T09:44:24.422274Z",
     "shell.execute_reply.started": "2021-11-17T08:50:02.691525Z"
    },
    "papermill": {
     "duration": 0.123788,
     "end_time": "2021-11-17T09:44:24.422447",
     "exception": false,
     "start_time": "2021-11-17T09:44:24.298659",
     "status": "completed"
    },
    "tags": []
   },
   "outputs": [],
   "source": [
    "model_small=LogisticRegression()"
   ]
  },
  {
   "cell_type": "code",
   "execution_count": null,
   "id": "107d388c",
   "metadata": {
    "execution": {
     "iopub.execute_input": "2021-11-17T09:44:24.661266Z",
     "iopub.status.busy": "2021-11-17T09:44:24.660374Z",
     "iopub.status.idle": "2021-11-17T09:44:24.759129Z",
     "shell.execute_reply": "2021-11-17T09:44:24.760187Z",
     "shell.execute_reply.started": "2021-11-17T08:50:02.702051Z"
    },
    "papermill": {
     "duration": 0.220353,
     "end_time": "2021-11-17T09:44:24.760467",
     "exception": false,
     "start_time": "2021-11-17T09:44:24.540114",
     "status": "completed"
    },
    "tags": []
   },
   "outputs": [
    {
     "data": {
      "text/plain": [
       "LogisticRegression()"
      ]
     },
     "execution_count": 84,
     "metadata": {},
     "output_type": "execute_result"
    }
   ],
   "source": [
    "model_small.fit(X_train_small, y_train)"
   ]
  },
  {
   "cell_type": "code",
   "execution_count": null,
   "id": "a3a2e0e9",
   "metadata": {
    "execution": {
     "iopub.execute_input": "2021-11-17T09:44:25.053486Z",
     "iopub.status.busy": "2021-11-17T09:44:25.052457Z",
     "iopub.status.idle": "2021-11-17T09:44:25.054980Z",
     "shell.execute_reply": "2021-11-17T09:44:25.054356Z",
     "shell.execute_reply.started": "2021-11-17T08:50:02.800451Z"
    },
    "papermill": {
     "duration": 0.124691,
     "end_time": "2021-11-17T09:44:25.055116",
     "exception": false,
     "start_time": "2021-11-17T09:44:24.930425",
     "status": "completed"
    },
    "tags": []
   },
   "outputs": [],
   "source": [
    "w0=model_small.intercept_[0] # bias term"
   ]
  },
  {
   "cell_type": "code",
   "execution_count": null,
   "id": "5b055027",
   "metadata": {
    "execution": {
     "iopub.execute_input": "2021-11-17T09:44:25.295027Z",
     "iopub.status.busy": "2021-11-17T09:44:25.294085Z",
     "iopub.status.idle": "2021-11-17T09:44:25.300763Z",
     "shell.execute_reply": "2021-11-17T09:44:25.300241Z",
     "shell.execute_reply.started": "2021-11-17T08:50:02.808246Z"
    },
    "papermill": {
     "duration": 0.127146,
     "end_time": "2021-11-17T09:44:25.300902",
     "exception": false,
     "start_time": "2021-11-17T09:44:25.173756",
     "status": "completed"
    },
    "tags": []
   },
   "outputs": [
    {
     "data": {
      "text/plain": [
       "array([ 0.97 , -0.025, -0.949,  0.027, -0.036])"
      ]
     },
     "execution_count": 86,
     "metadata": {},
     "output_type": "execute_result"
    }
   ],
   "source": [
    "w=model_small.coef_[0].round(3)\n",
    "w  # the weights"
   ]
  },
  {
   "cell_type": "code",
   "execution_count": null,
   "id": "d5443692",
   "metadata": {
    "execution": {
     "iopub.execute_input": "2021-11-17T09:44:25.540614Z",
     "iopub.status.busy": "2021-11-17T09:44:25.539920Z",
     "iopub.status.idle": "2021-11-17T09:44:25.542405Z",
     "shell.execute_reply": "2021-11-17T09:44:25.542863Z",
     "shell.execute_reply.started": "2021-11-17T08:50:02.823962Z"
    },
    "papermill": {
     "duration": 0.125213,
     "end_time": "2021-11-17T09:44:25.543016",
     "exception": false,
     "start_time": "2021-11-17T09:44:25.417803",
     "status": "completed"
    },
    "tags": []
   },
   "outputs": [
    {
     "data": {
      "text/plain": [
       "{'contract=month-to-month': 0.97,\n",
       " 'contract=one_year': -0.025,\n",
       " 'contract=two_year': -0.949,\n",
       " 'monthlycharges': 0.027,\n",
       " 'tenure': -0.036}"
      ]
     },
     "execution_count": 87,
     "metadata": {},
     "output_type": "execute_result"
    }
   ],
   "source": [
    "dict(zip(dv_small.get_feature_names(),w.round(3)))"
   ]
  },
  {
   "cell_type": "code",
   "execution_count": null,
   "id": "3c117544",
   "metadata": {
    "execution": {
     "iopub.execute_input": "2021-11-17T09:44:25.788046Z",
     "iopub.status.busy": "2021-11-17T09:44:25.787360Z",
     "iopub.status.idle": "2021-11-17T09:44:25.789998Z",
     "shell.execute_reply": "2021-11-17T09:44:25.790512Z",
     "shell.execute_reply.started": "2021-11-17T08:50:02.837128Z"
    },
    "papermill": {
     "duration": 0.128562,
     "end_time": "2021-11-17T09:44:25.790718",
     "exception": false,
     "start_time": "2021-11-17T09:44:25.662156",
     "status": "completed"
    },
    "tags": []
   },
   "outputs": [
    {
     "data": {
      "text/plain": [
       "-0.3300000000000001"
      ]
     },
     "execution_count": 88,
     "metadata": {},
     "output_type": "execute_result"
    }
   ],
   "source": [
    "#Using the bias term, we evaluate the customer churn score without knowing anything about them..\n",
    "# We use sigmoid\n",
    "\n",
    "-2.47 + 0.97 +50* 0.027 + 5*(-0.036)"
   ]
  },
  {
   "cell_type": "code",
   "execution_count": null,
   "id": "297bfa84",
   "metadata": {
    "papermill": {
     "duration": 0.121584,
     "end_time": "2021-11-17T09:44:26.035259",
     "exception": false,
     "start_time": "2021-11-17T09:44:25.913675",
     "status": "completed"
    },
    "tags": []
   },
   "outputs": [],
   "source": []
  },
  {
   "cell_type": "code",
   "execution_count": null,
   "id": "b5108ec6",
   "metadata": {
    "execution": {
     "iopub.execute_input": "2021-11-17T09:44:26.275876Z",
     "iopub.status.busy": "2021-11-17T09:44:26.275206Z",
     "iopub.status.idle": "2021-11-17T09:44:26.279378Z",
     "shell.execute_reply": "2021-11-17T09:44:26.279838Z",
     "shell.execute_reply.started": "2021-11-17T08:50:02.851474Z"
    },
    "papermill": {
     "duration": 0.12598,
     "end_time": "2021-11-17T09:44:26.280002",
     "exception": false,
     "start_time": "2021-11-17T09:44:26.154022",
     "status": "completed"
    },
    "tags": []
   },
   "outputs": [
    {
     "data": {
      "text/plain": [
       "0.41824062315816374"
      ]
     },
     "execution_count": 89,
     "metadata": {},
     "output_type": "execute_result"
    }
   ],
   "source": [
    "# we use the magic variable _ and use it as a parameter in sigmoid(Only jupyter , not kaggle)\n",
    "\n",
    "sigmoid(-0.3300000000000001)"
   ]
  },
  {
   "cell_type": "code",
   "execution_count": null,
   "id": "a01a00e8",
   "metadata": {
    "execution": {
     "iopub.execute_input": "2021-11-17T09:44:26.527848Z",
     "iopub.status.busy": "2021-11-17T09:44:26.525121Z",
     "iopub.status.idle": "2021-11-17T09:44:26.530121Z",
     "shell.execute_reply": "2021-11-17T09:44:26.530638Z",
     "shell.execute_reply.started": "2021-11-17T08:50:02.865755Z"
    },
    "papermill": {
     "duration": 0.12994,
     "end_time": "2021-11-17T09:44:26.530804",
     "exception": false,
     "start_time": "2021-11-17T09:44:26.400864",
     "status": "completed"
    },
    "tags": []
   },
   "outputs": [
    {
     "data": {
      "text/plain": [
       "0.08399999999999966"
      ]
     },
     "execution_count": 90,
     "metadata": {},
     "output_type": "execute_result"
    }
   ],
   "source": [
    "# suppose they pay 60 dollars and have stayed for 1 month\n",
    "-2.47 + 0.97 +60* 0.027 + 1*(-0.036)"
   ]
  },
  {
   "cell_type": "code",
   "execution_count": null,
   "id": "b6d64784",
   "metadata": {
    "execution": {
     "iopub.execute_input": "2021-11-17T09:44:26.771518Z",
     "iopub.status.busy": "2021-11-17T09:44:26.770890Z",
     "iopub.status.idle": "2021-11-17T09:44:26.775057Z",
     "shell.execute_reply": "2021-11-17T09:44:26.775552Z",
     "shell.execute_reply.started": "2021-11-17T08:50:02.881694Z"
    },
    "papermill": {
     "duration": 0.125842,
     "end_time": "2021-11-17T09:44:26.775716",
     "exception": false,
     "start_time": "2021-11-17T09:44:26.649874",
     "status": "completed"
    },
    "tags": []
   },
   "outputs": [
    {
     "data": {
      "text/plain": [
       "0.5209876607065322"
      ]
     },
     "execution_count": 91,
     "metadata": {},
     "output_type": "execute_result"
    }
   ],
   "source": [
    "# positive z SCORE means\n",
    "sigmoid(0.08399999999999966)"
   ]
  },
  {
   "cell_type": "code",
   "execution_count": null,
   "id": "ed78afc7",
   "metadata": {
    "execution": {
     "iopub.execute_input": "2021-11-17T09:44:27.088107Z",
     "iopub.status.busy": "2021-11-17T09:44:27.087141Z",
     "iopub.status.idle": "2021-11-17T09:44:27.092810Z",
     "shell.execute_reply": "2021-11-17T09:44:27.093426Z",
     "shell.execute_reply.started": "2021-11-17T08:50:02.892962Z"
    },
    "papermill": {
     "duration": 0.136732,
     "end_time": "2021-11-17T09:44:27.093590",
     "exception": false,
     "start_time": "2021-11-17T09:44:26.956858",
     "status": "completed"
    },
    "tags": []
   },
   "outputs": [
    {
     "data": {
      "text/plain": [
       "-3.473"
      ]
     },
     "execution_count": 92,
     "metadata": {},
     "output_type": "execute_result"
    }
   ],
   "source": [
    "# Assuming 2 year contract, tenure 24 months and  they pay 30 dollas/m\n",
    "-2.47 + (-0.949) +30* 0.027 + 24*(-0.036)"
   ]
  },
  {
   "cell_type": "code",
   "execution_count": null,
   "id": "caecb4a5",
   "metadata": {
    "execution": {
     "iopub.execute_input": "2021-11-17T09:44:27.337920Z",
     "iopub.status.busy": "2021-11-17T09:44:27.336810Z",
     "iopub.status.idle": "2021-11-17T09:44:27.342398Z",
     "shell.execute_reply": "2021-11-17T09:44:27.343003Z",
     "shell.execute_reply.started": "2021-11-17T08:50:02.906980Z"
    },
    "papermill": {
     "duration": 0.129744,
     "end_time": "2021-11-17T09:44:27.343180",
     "exception": false,
     "start_time": "2021-11-17T09:44:27.213436",
     "status": "completed"
    },
    "tags": []
   },
   "outputs": [
    {
     "data": {
      "text/plain": [
       "0.030090303318277657"
      ]
     },
     "execution_count": 93,
     "metadata": {},
     "output_type": "execute_result"
    }
   ],
   "source": [
    "sigmoid(-3.473)"
   ]
  },
  {
   "cell_type": "markdown",
   "id": "8d7f5846",
   "metadata": {
    "papermill": {
     "duration": 0.120503,
     "end_time": "2021-11-17T09:44:27.584585",
     "exception": false,
     "start_time": "2021-11-17T09:44:27.464082",
     "status": "completed"
    },
    "tags": []
   },
   "source": [
    "## 3.12 Using the Model"
   ]
  },
  {
   "cell_type": "code",
   "execution_count": null,
   "id": "c4ace1a8",
   "metadata": {
    "execution": {
     "iopub.execute_input": "2021-11-17T09:44:27.825094Z",
     "iopub.status.busy": "2021-11-17T09:44:27.823901Z",
     "iopub.status.idle": "2021-11-17T09:44:27.967303Z",
     "shell.execute_reply": "2021-11-17T09:44:27.967963Z",
     "shell.execute_reply.started": "2021-11-17T08:50:02.919626Z"
    },
    "papermill": {
     "duration": 0.264257,
     "end_time": "2021-11-17T09:44:27.968140",
     "exception": false,
     "start_time": "2021-11-17T09:44:27.703883",
     "status": "completed"
    },
    "tags": []
   },
   "outputs": [],
   "source": [
    "# Train the model using the whole data and all the features noe\n",
    "\n",
    "dicts_full_train=df_full_train[categorical + numerical].to_dict(orient='records')"
   ]
  },
  {
   "cell_type": "code",
   "execution_count": null,
   "id": "5ad422b8",
   "metadata": {
    "execution": {
     "iopub.execute_input": "2021-11-17T09:44:28.215154Z",
     "iopub.status.busy": "2021-11-17T09:44:28.214216Z",
     "iopub.status.idle": "2021-11-17T09:44:28.218210Z",
     "shell.execute_reply": "2021-11-17T09:44:28.217612Z",
     "shell.execute_reply.started": "2021-11-17T08:50:03.029016Z"
    },
    "papermill": {
     "duration": 0.128941,
     "end_time": "2021-11-17T09:44:28.218367",
     "exception": false,
     "start_time": "2021-11-17T09:44:28.089426",
     "status": "completed"
    },
    "tags": []
   },
   "outputs": [
    {
     "data": {
      "text/plain": [
       "[{'gender': 'male',\n",
       "  'seniorcitizen': 0,\n",
       "  'partner': 'yes',\n",
       "  'dependents': 'yes',\n",
       "  'phoneservice': 'yes',\n",
       "  'multiplelines': 'no',\n",
       "  'internetservice': 'no',\n",
       "  'onlinesecurity': 'no_internet_service',\n",
       "  'onlinebackup': 'no_internet_service',\n",
       "  'deviceprotection': 'no_internet_service',\n",
       "  'techsupport': 'no_internet_service',\n",
       "  'streamingtv': 'no_internet_service',\n",
       "  'streamingmovies': 'no_internet_service',\n",
       "  'contract': 'two_year',\n",
       "  'paperlessbilling': 'no',\n",
       "  'paymentmethod': 'mailed_check',\n",
       "  'tenure': 12,\n",
       "  'monthlycharges': 19.7,\n",
       "  'totalcharges': 258.35},\n",
       " {'gender': 'female',\n",
       "  'seniorcitizen': 0,\n",
       "  'partner': 'no',\n",
       "  'dependents': 'no',\n",
       "  'phoneservice': 'yes',\n",
       "  'multiplelines': 'no',\n",
       "  'internetservice': 'dsl',\n",
       "  'onlinesecurity': 'yes',\n",
       "  'onlinebackup': 'yes',\n",
       "  'deviceprotection': 'yes',\n",
       "  'techsupport': 'yes',\n",
       "  'streamingtv': 'no',\n",
       "  'streamingmovies': 'yes',\n",
       "  'contract': 'one_year',\n",
       "  'paperlessbilling': 'no',\n",
       "  'paymentmethod': 'credit_card_(automatic)',\n",
       "  'tenure': 42,\n",
       "  'monthlycharges': 73.9,\n",
       "  'totalcharges': 3160.55}]"
      ]
     },
     "execution_count": 95,
     "metadata": {},
     "output_type": "execute_result"
    }
   ],
   "source": [
    "dicts_full_train[:2]"
   ]
  },
  {
   "cell_type": "code",
   "execution_count": null,
   "id": "90f57093",
   "metadata": {
    "execution": {
     "iopub.execute_input": "2021-11-17T09:44:28.464564Z",
     "iopub.status.busy": "2021-11-17T09:44:28.463886Z",
     "iopub.status.idle": "2021-11-17T09:44:28.467232Z",
     "shell.execute_reply": "2021-11-17T09:44:28.467743Z",
     "shell.execute_reply.started": "2021-11-17T08:50:03.037503Z"
    },
    "papermill": {
     "duration": 0.129102,
     "end_time": "2021-11-17T09:44:28.467904",
     "exception": false,
     "start_time": "2021-11-17T09:44:28.338802",
     "status": "completed"
    },
    "tags": []
   },
   "outputs": [],
   "source": [
    "dv= DictVectorizer(sparse=False)"
   ]
  },
  {
   "cell_type": "code",
   "execution_count": null,
   "id": "1f629525",
   "metadata": {
    "execution": {
     "iopub.execute_input": "2021-11-17T09:44:28.710572Z",
     "iopub.status.busy": "2021-11-17T09:44:28.709961Z",
     "iopub.status.idle": "2021-11-17T09:44:28.782387Z",
     "shell.execute_reply": "2021-11-17T09:44:28.782990Z",
     "shell.execute_reply.started": "2021-11-17T08:50:03.047870Z"
    },
    "papermill": {
     "duration": 0.195509,
     "end_time": "2021-11-17T09:44:28.783157",
     "exception": false,
     "start_time": "2021-11-17T09:44:28.587648",
     "status": "completed"
    },
    "tags": []
   },
   "outputs": [
    {
     "data": {
      "text/plain": [
       "DictVectorizer(sparse=False)"
      ]
     },
     "execution_count": 97,
     "metadata": {},
     "output_type": "execute_result"
    }
   ],
   "source": [
    "dv.fit(dicts_full_train)"
   ]
  },
  {
   "cell_type": "code",
   "execution_count": null,
   "id": "3f4303c0",
   "metadata": {
    "execution": {
     "iopub.execute_input": "2021-11-17T09:44:29.028869Z",
     "iopub.status.busy": "2021-11-17T09:44:29.027883Z",
     "iopub.status.idle": "2021-11-17T09:44:29.164535Z",
     "shell.execute_reply": "2021-11-17T09:44:29.165007Z",
     "shell.execute_reply.started": "2021-11-17T08:50:03.114826Z"
    },
    "papermill": {
     "duration": 0.261671,
     "end_time": "2021-11-17T09:44:29.165182",
     "exception": false,
     "start_time": "2021-11-17T09:44:28.903511",
     "status": "completed"
    },
    "tags": []
   },
   "outputs": [],
   "source": [
    "X_full_train=dv.transform(dicts_full_train)"
   ]
  },
  {
   "cell_type": "code",
   "execution_count": null,
   "id": "ca3c443f",
   "metadata": {
    "execution": {
     "iopub.execute_input": "2021-11-17T09:44:29.414896Z",
     "iopub.status.busy": "2021-11-17T09:44:29.413848Z",
     "iopub.status.idle": "2021-11-17T09:44:29.534198Z",
     "shell.execute_reply": "2021-11-17T09:44:29.535165Z",
     "shell.execute_reply.started": "2021-11-17T08:50:03.212540Z"
    },
    "papermill": {
     "duration": 0.24857,
     "end_time": "2021-11-17T09:44:29.535454",
     "exception": false,
     "start_time": "2021-11-17T09:44:29.286884",
     "status": "completed"
    },
    "tags": []
   },
   "outputs": [
    {
     "data": {
      "text/plain": [
       "LogisticRegression()"
      ]
     },
     "execution_count": 99,
     "metadata": {},
     "output_type": "execute_result"
    }
   ],
   "source": [
    "model=LogisticRegression()\n",
    "model.fit(X_full_train, y_full_train)"
   ]
  },
  {
   "cell_type": "code",
   "execution_count": null,
   "id": "d96b55f1",
   "metadata": {
    "execution": {
     "iopub.execute_input": "2021-11-17T09:44:29.833532Z",
     "iopub.status.busy": "2021-11-17T09:44:29.832407Z",
     "iopub.status.idle": "2021-11-17T09:44:29.872170Z",
     "shell.execute_reply": "2021-11-17T09:44:29.871566Z",
     "shell.execute_reply.started": "2021-11-17T08:50:03.329177Z"
    },
    "papermill": {
     "duration": 0.164911,
     "end_time": "2021-11-17T09:44:29.872344",
     "exception": false,
     "start_time": "2021-11-17T09:44:29.707433",
     "status": "completed"
    },
    "tags": []
   },
   "outputs": [],
   "source": [
    "# now for the test data set\n",
    "dicts_test=df_test[categorical + numerical].to_dict(orient='records')"
   ]
  },
  {
   "cell_type": "code",
   "execution_count": null,
   "id": "1db2d931",
   "metadata": {
    "execution": {
     "iopub.execute_input": "2021-11-17T09:44:30.154314Z",
     "iopub.status.busy": "2021-11-17T09:44:30.118792Z",
     "iopub.status.idle": "2021-11-17T09:44:30.156799Z",
     "shell.execute_reply": "2021-11-17T09:44:30.156195Z",
     "shell.execute_reply.started": "2021-11-17T08:50:03.401069Z"
    },
    "papermill": {
     "duration": 0.162432,
     "end_time": "2021-11-17T09:44:30.156937",
     "exception": false,
     "start_time": "2021-11-17T09:44:29.994505",
     "status": "completed"
    },
    "tags": []
   },
   "outputs": [],
   "source": [
    "X_test=dv.transform(dicts_test)"
   ]
  },
  {
   "cell_type": "code",
   "execution_count": null,
   "id": "3a9d48a9",
   "metadata": {
    "execution": {
     "iopub.execute_input": "2021-11-17T09:44:30.403264Z",
     "iopub.status.busy": "2021-11-17T09:44:30.402212Z",
     "iopub.status.idle": "2021-11-17T09:44:30.404366Z",
     "shell.execute_reply": "2021-11-17T09:44:30.405259Z",
     "shell.execute_reply.started": "2021-11-17T08:50:03.452563Z"
    },
    "papermill": {
     "duration": 0.129158,
     "end_time": "2021-11-17T09:44:30.405522",
     "exception": false,
     "start_time": "2021-11-17T09:44:30.276364",
     "status": "completed"
    },
    "tags": []
   },
   "outputs": [],
   "source": [
    "y_pred=model.predict_proba(X_test)[:,1]"
   ]
  },
  {
   "cell_type": "code",
   "execution_count": null,
   "id": "3c0a47be",
   "metadata": {
    "execution": {
     "iopub.execute_input": "2021-11-17T09:44:30.705786Z",
     "iopub.status.busy": "2021-11-17T09:44:30.705086Z",
     "iopub.status.idle": "2021-11-17T09:44:30.707556Z",
     "shell.execute_reply": "2021-11-17T09:44:30.707014Z",
     "shell.execute_reply.started": "2021-11-17T08:50:03.461410Z"
    },
    "papermill": {
     "duration": 0.12708,
     "end_time": "2021-11-17T09:44:30.707688",
     "exception": false,
     "start_time": "2021-11-17T09:44:30.580608",
     "status": "completed"
    },
    "tags": []
   },
   "outputs": [],
   "source": [
    "churn_decision=(y_pred >=0.5)"
   ]
  },
  {
   "cell_type": "code",
   "execution_count": null,
   "id": "ceea51d3",
   "metadata": {
    "execution": {
     "iopub.execute_input": "2021-11-17T09:44:30.959917Z",
     "iopub.status.busy": "2021-11-17T09:44:30.959180Z",
     "iopub.status.idle": "2021-11-17T09:44:30.962002Z",
     "shell.execute_reply": "2021-11-17T09:44:30.962526Z",
     "shell.execute_reply.started": "2021-11-17T08:50:03.472784Z"
    },
    "papermill": {
     "duration": 0.134025,
     "end_time": "2021-11-17T09:44:30.962690",
     "exception": false,
     "start_time": "2021-11-17T09:44:30.828665",
     "status": "completed"
    },
    "tags": []
   },
   "outputs": [
    {
     "data": {
      "text/plain": [
       "0.815471965933286"
      ]
     },
     "execution_count": 104,
     "metadata": {},
     "output_type": "execute_result"
    }
   ],
   "source": [
    "(churn_decision== y_test).mean()"
   ]
  },
  {
   "cell_type": "code",
   "execution_count": null,
   "id": "6ac094ec",
   "metadata": {
    "execution": {
     "iopub.execute_input": "2021-11-17T09:44:31.209643Z",
     "iopub.status.busy": "2021-11-17T09:44:31.208781Z",
     "iopub.status.idle": "2021-11-17T09:44:31.211870Z",
     "shell.execute_reply": "2021-11-17T09:44:31.212384Z",
     "shell.execute_reply.started": "2021-11-17T08:50:03.488680Z"
    },
    "papermill": {
     "duration": 0.12834,
     "end_time": "2021-11-17T09:44:31.212545",
     "exception": false,
     "start_time": "2021-11-17T09:44:31.084205",
     "status": "completed"
    },
    "tags": []
   },
   "outputs": [
    {
     "data": {
      "text/plain": [
       "{'gender': 'female',\n",
       " 'seniorcitizen': 0,\n",
       " 'partner': 'yes',\n",
       " 'dependents': 'yes',\n",
       " 'phoneservice': 'yes',\n",
       " 'multiplelines': 'yes',\n",
       " 'internetservice': 'fiber_optic',\n",
       " 'onlinesecurity': 'yes',\n",
       " 'onlinebackup': 'no',\n",
       " 'deviceprotection': 'yes',\n",
       " 'techsupport': 'no',\n",
       " 'streamingtv': 'yes',\n",
       " 'streamingmovies': 'yes',\n",
       " 'contract': 'month-to-month',\n",
       " 'paperlessbilling': 'yes',\n",
       " 'paymentmethod': 'electronic_check',\n",
       " 'tenure': 17,\n",
       " 'monthlycharges': 104.2,\n",
       " 'totalcharges': 1743.5}"
      ]
     },
     "execution_count": 105,
     "metadata": {},
     "output_type": "execute_result"
    }
   ],
   "source": [
    "#  picking a random customer from the test set\n",
    "customer=dicts_test[-1]\n",
    "\n",
    "customer"
   ]
  },
  {
   "cell_type": "code",
   "execution_count": null,
   "id": "e784a4c9",
   "metadata": {
    "execution": {
     "iopub.execute_input": "2021-11-17T09:44:31.460270Z",
     "iopub.status.busy": "2021-11-17T09:44:31.459489Z",
     "iopub.status.idle": "2021-11-17T09:44:31.462084Z",
     "shell.execute_reply": "2021-11-17T09:44:31.461611Z",
     "shell.execute_reply.started": "2021-11-17T08:50:03.500933Z"
    },
    "papermill": {
     "duration": 0.128614,
     "end_time": "2021-11-17T09:44:31.462233",
     "exception": false,
     "start_time": "2021-11-17T09:44:31.333619",
     "status": "completed"
    },
    "tags": []
   },
   "outputs": [],
   "source": [
    "# we want to convert the customer data into a feature matrix(directly because the Dict Vectorizer already can convert the data into a numpy ndarray)\n",
    "X_small=dv.transform([customer])"
   ]
  },
  {
   "cell_type": "code",
   "execution_count": null,
   "id": "42dc24a5",
   "metadata": {
    "execution": {
     "iopub.execute_input": "2021-11-17T09:44:31.705992Z",
     "iopub.status.busy": "2021-11-17T09:44:31.704985Z",
     "iopub.status.idle": "2021-11-17T09:44:31.709680Z",
     "shell.execute_reply": "2021-11-17T09:44:31.710186Z",
     "shell.execute_reply.started": "2021-11-17T08:50:03.511948Z"
    },
    "papermill": {
     "duration": 0.12789,
     "end_time": "2021-11-17T09:44:31.710390",
     "exception": false,
     "start_time": "2021-11-17T09:44:31.582500",
     "status": "completed"
    },
    "tags": []
   },
   "outputs": [
    {
     "data": {
      "text/plain": [
       "(1, 45)"
      ]
     },
     "execution_count": 107,
     "metadata": {},
     "output_type": "execute_result"
    }
   ],
   "source": [
    "X_small.shape"
   ]
  },
  {
   "cell_type": "code",
   "execution_count": null,
   "id": "6882d86e",
   "metadata": {
    "execution": {
     "iopub.execute_input": "2021-11-17T09:44:31.959321Z",
     "iopub.status.busy": "2021-11-17T09:44:31.958356Z",
     "iopub.status.idle": "2021-11-17T09:44:31.964094Z",
     "shell.execute_reply": "2021-11-17T09:44:31.964568Z",
     "shell.execute_reply.started": "2021-11-17T08:50:03.526144Z"
    },
    "papermill": {
     "duration": 0.134506,
     "end_time": "2021-11-17T09:44:31.964740",
     "exception": false,
     "start_time": "2021-11-17T09:44:31.830234",
     "status": "completed"
    },
    "tags": []
   },
   "outputs": [
    {
     "data": {
      "text/plain": [
       "0.5968852088244745"
      ]
     },
     "execution_count": 108,
     "metadata": {},
     "output_type": "execute_result"
    }
   ],
   "source": [
    "# predicting the likelihood of churning\n",
    "model.predict_proba(X_small)[0,1]"
   ]
  },
  {
   "cell_type": "code",
   "execution_count": null,
   "id": "327da4db",
   "metadata": {
    "execution": {
     "iopub.execute_input": "2021-11-17T09:44:32.214767Z",
     "iopub.status.busy": "2021-11-17T09:44:32.213833Z",
     "iopub.status.idle": "2021-11-17T09:44:32.218787Z",
     "shell.execute_reply": "2021-11-17T09:44:32.219246Z",
     "shell.execute_reply.started": "2021-11-17T08:50:03.539546Z"
    },
    "papermill": {
     "duration": 0.13042,
     "end_time": "2021-11-17T09:44:32.219433",
     "exception": false,
     "start_time": "2021-11-17T09:44:32.089013",
     "status": "completed"
    },
    "tags": []
   },
   "outputs": [
    {
     "data": {
      "text/plain": [
       "1"
      ]
     },
     "execution_count": 109,
     "metadata": {},
     "output_type": "execute_result"
    }
   ],
   "source": [
    "# checking whether he was going to churn\n",
    "\n",
    "y_test[-1]"
   ]
  },
  {
   "cell_type": "markdown",
   "id": "fa834e91",
   "metadata": {},
   "source": [
    "# Section 4\n",
    "\n",
    "## 4.2 Accuracy and Dummy Model\n",
    "* Evaluate the model on different thresholds\n",
    "* Check the accuracy of dummy baselines."
   ]
  },
  {
   "cell_type": "code",
   "execution_count": 13,
   "id": "838e19e4",
   "metadata": {},
   "outputs": [
    {
     "ename": "NameError",
     "evalue": "name 'y_val' is not defined",
     "output_type": "error",
     "traceback": [
      "\u001b[0;31m---------------------------------------------------------------------------\u001b[0m",
      "\u001b[0;31mNameError\u001b[0m                                 Traceback (most recent call last)",
      "\u001b[0;32m/tmp/ipykernel_24000/2269342812.py\u001b[0m in \u001b[0;36m<module>\u001b[0;34m\u001b[0m\n\u001b[1;32m      1\u001b[0m \u001b[0;31m# using the validation dataset\u001b[0m\u001b[0;34m\u001b[0m\u001b[0;34m\u001b[0m\u001b[0m\n\u001b[1;32m      2\u001b[0m \u001b[0;34m\u001b[0m\u001b[0m\n\u001b[0;32m----> 3\u001b[0;31m \u001b[0mlen\u001b[0m\u001b[0;34m(\u001b[0m\u001b[0my_val\u001b[0m\u001b[0;34m)\u001b[0m\u001b[0;34m\u001b[0m\u001b[0;34m\u001b[0m\u001b[0m\n\u001b[0m",
      "\u001b[0;31mNameError\u001b[0m: name 'y_val' is not defined"
     ]
    }
   ],
   "source": [
    "# using the validation dataset\n",
    "\n",
    "len(y_val)"
   ]
  },
  {
   "cell_type": "code",
   "execution_count": null,
   "id": "fb982617",
   "metadata": {},
   "outputs": [],
   "source": [
    "# correct decisions made by the model\n",
    "(y_val==churn_decision).sum()"
   ]
  },
  {
   "cell_type": "code",
   "execution_count": null,
   "id": "74258aee",
   "metadata": {},
   "outputs": [],
   "source": [
    "#KLets try other thresholds to see if our accuracy improves\n",
    "thresholds=np.linspace(0,1,21)\n",
    "thresholds"
   ]
  },
  {
   "cell_type": "code",
   "execution_count": null,
   "id": "ab0a0a46",
   "metadata": {},
   "outputs": [],
   "source": [
    "scores=[]\n",
    "for t in  thresholds:\n",
    "    churn_decision=(y_pred>=t)\n",
    "    score=(y_val==churn_decision).mean()\n",
    "    \n",
    "    print(\"%.2f %.3f\" % (t,score))\n",
    "    scores.append(score)"
   ]
  },
  {
   "cell_type": "code",
   "execution_count": null,
   "id": "e9811e23",
   "metadata": {},
   "outputs": [],
   "source": [
    "# Plotting them\n",
    "\n",
    "plt.plot(thresholds, scores)\n",
    "plt.grid(True)"
   ]
  },
  {
   "cell_type": "markdown",
   "id": "9cff032c",
   "metadata": {},
   "source": [
    "The peak and scores show that indeed 0.5 is the best choice becuase it has the highest threshold.\n",
    "\n",
    "#### We can however use the sckit learn library to evaluate the accuracies.\n"
   ]
  },
  {
   "cell_type": "code",
   "execution_count": null,
   "id": "cf314136",
   "metadata": {},
   "outputs": [],
   "source": [
    "from sklearn.metrics import accuracy_score\n",
    "\n",
    "accuracy_score(y_val, y_pred>=0.5, normalize=True)"
   ]
  },
  {
   "cell_type": "code",
   "execution_count": null,
   "id": "8abca8a6",
   "metadata": {},
   "outputs": [],
   "source": [
    "scores=[]\n",
    "for t in  thresholds:\n",
    "    score=accuracy_score(y_val, y_pred>=t)\n",
    "    \n",
    "    \n",
    "    \n",
    "    print(\"%.2f %.3f\" % (t,score))\n",
    "    scores.append(score)"
   ]
  },
  {
   "cell_type": "code",
   "execution_count": null,
   "id": "ec35142d",
   "metadata": {},
   "outputs": [],
   "source": [
    "y_pred>=1.0\n",
    "\n",
    "from collections import Counter\n",
    "\n",
    "Counter(y_pred>=1.0)"
   ]
  },
  {
   "cell_type": "code",
   "execution_count": null,
   "id": "4fdf3c81",
   "metadata": {},
   "outputs": [],
   "source": [
    "Counter(y_val)"
   ]
  },
  {
   "cell_type": "markdown",
   "id": "f38526ca",
   "metadata": {},
   "source": [
    "### 4.3 Confusion Table\n",
    "* Different types of erros and correct decsions\n",
    "* Arranging them in table"
   ]
  },
  {
   "cell_type": "code",
   "execution_count": null,
   "id": "a7834a30",
   "metadata": {},
   "outputs": [],
   "source": [
    "actual_positive=(y_val==1)\n",
    "actual_negative=(y_val==0)\n",
    "\n",
    "actual_positive"
   ]
  },
  {
   "cell_type": "code",
   "execution_count": null,
   "id": "ec4bdec1",
   "metadata": {},
   "outputs": [],
   "source": [
    "t=0.5\n",
    "predict_positive=(y_pred>=t)\n",
    "predict_negative=(y_pred<t)"
   ]
  },
  {
   "cell_type": "code",
   "execution_count": null,
   "id": "84a1a61a",
   "metadata": {},
   "outputs": [],
   "source": [
    "# We use binary operations in numpy(returns and array ONLY if both are true)\n",
    "tp=(predict_positive & actual_positive).sum()\n",
    "tn=(predict_negative & actual_negative).sum()\n",
    "fp=(predict_positive & actual_negative).sum()\n",
    "fn=(predict_negative & actual_positive).sum()"
   ]
  },
  {
   "cell_type": "code",
   "execution_count": null,
   "id": "e09ebbe0",
   "metadata": {},
   "outputs": [],
   "source": [
    "predict_positive[2:10]"
   ]
  },
  {
   "cell_type": "code",
   "execution_count": null,
   "id": "7a1976a6",
   "metadata": {},
   "outputs": [],
   "source": [
    "actual_positive[2:10]"
   ]
  },
  {
   "cell_type": "code",
   "execution_count": null,
   "id": "c2d01aa6",
   "metadata": {},
   "outputs": [],
   "source": [
    "# numpy confusion matrix\n",
    "confusion_matrix=np.array([[tn,fp],[fn, tp]])\n",
    "confusion_matrix"
   ]
  },
  {
   "cell_type": "code",
   "execution_count": null,
   "id": "7aa98b65",
   "metadata": {},
   "outputs": [],
   "source": [
    "# normalizing\n",
    "confusion_matrix/confusion_matrix.sum() *100"
   ]
  },
  {
   "cell_type": "markdown",
   "id": "510a6759",
   "metadata": {},
   "source": [
    "## 4.4 Precision and Recall"
   ]
  },
  {
   "cell_type": "code",
   "execution_count": null,
   "id": "cb620186",
   "metadata": {},
   "outputs": [],
   "source": [
    "precision=tp/(fp+tp)\n",
    "\n",
    "precision"
   ]
  },
  {
   "cell_type": "code",
   "execution_count": null,
   "id": "5e736ef0",
   "metadata": {},
   "outputs": [],
   "source": [
    "recall=tp/(tp+fn)\n",
    "recall"
   ]
  },
  {
   "cell_type": "markdown",
   "id": "f2969492",
   "metadata": {},
   "source": [
    "## 4.5 ROC CURVES\n",
    "Stands for receiver operating characteristics. pr \n",
    "### TPR and FPR"
   ]
  },
  {
   "cell_type": "code",
   "execution_count": null,
   "id": "59358cba",
   "metadata": {},
   "outputs": [],
   "source": [
    "tpr=tp/(tp+fn)\n",
    "\n",
    "fpr=fp/(fp+tn)\n",
    "\n",
    "tpr, fpr"
   ]
  },
  {
   "cell_type": "code",
   "execution_count": null,
   "id": "d9cb28d1",
   "metadata": {},
   "outputs": [],
   "source": [
    "scores=[]\n",
    "thresholds=np.linspace(0,1,101)\n",
    "\n",
    "for t in thresholds:\n",
    "    actual_positive=(y_val==1)\n",
    "    actual_negative=(y_val==0)\n",
    "    \n",
    "    predict_positive=(y_pred>=t)\n",
    "    predict_negative=(y_pred<t)\n",
    "    \n",
    "    tp=(predict_positive & actual_positive).sum()\n",
    "    tn=(predict_negative & actual_negative).sum()\n",
    "    fp=(predict_positive & actual_negative).sum()\n",
    "    fn=(predict_negative & actual_positive).sum()\n",
    "    \n",
    "    scores.append((t,tp, fp, fn, tn))\n",
    "    \n",
    "scores"
   ]
  },
  {
   "cell_type": "code",
   "execution_count": null,
   "id": "38baaffc",
   "metadata": {},
   "outputs": [],
   "source": [
    "#turning it into a pandas dataframe..list of tuples\n",
    "columns=[\"thresholds\",'tp', 'fp','fn','tn']\n",
    "df_scores=pd.DataFrame(scores, columns=columns)\n",
    "df_scores['tpr']=df_scores.tp/(df_scores.tp+df_scores.fn)\n",
    "df_scores['fpr']=df_scores.fp/(df_scores.fp+df_scores.tn)\n"
   ]
  },
  {
   "cell_type": "code",
   "execution_count": null,
   "id": "0c4981af",
   "metadata": {},
   "outputs": [],
   "source": [
    "df_scores['tpr']=df_scores.tp/(df_scores.tp+df_scores.fn)\n",
    "df_scores['fpr']=df_scores.fp/(df_scores.fp+df_scores.tn)\n",
    "\n",
    "df_scores[::10]"
   ]
  },
  {
   "cell_type": "code",
   "execution_count": null,
   "id": "318567f4",
   "metadata": {},
   "outputs": [],
   "source": [
    "# Now we can plot them\n",
    "plt.plot(df_scores.thresholds,df_scores['tpr'], label='TPR')\n",
    "plt.plot(df_scores.thresholds,df_scores['fpr'], label='FPR')\n",
    "plt.grid(True)\n",
    "plt.legend(loc=3)"
   ]
  },
  {
   "cell_type": "markdown",
   "id": "79f087c3",
   "metadata": {},
   "source": [
    "Dummy model with threshold 0 that 'predicts everyone is churning\" has the highest FPR and TPR at one.\n",
    "We want to ensure that FPR goes down, down as quickly as possible.\n",
    "We also want to ensure that TPR sticks around 1.\n"
   ]
  },
  {
   "cell_type": "markdown",
   "id": "2b286a8f",
   "metadata": {},
   "source": [
    "## Random Model\n",
    "Making decisions about the model randomly. To identify the base line."
   ]
  },
  {
   "cell_type": "code",
   "execution_count": null,
   "id": "767ea9d4",
   "metadata": {},
   "outputs": [],
   "source": [
    "np.random.seed(1)\n",
    "y_rand=np.random.uniform(0,1, size=len(y_val))\n",
    "y_rand.round(3)"
   ]
  },
  {
   "cell_type": "markdown",
   "id": "614f7b3d",
   "metadata": {},
   "source": [
    "For each customer randomly predict if they are going to churn or not.And compare it to the `y_val`"
   ]
  },
  {
   "cell_type": "code",
   "execution_count": null,
   "id": "e1ebb0ba",
   "metadata": {},
   "outputs": [],
   "source": [
    "(y_val==(y_rand>=0.5)).mean()"
   ]
  },
  {
   "cell_type": "code",
   "execution_count": null,
   "id": "a2d1a583",
   "metadata": {},
   "outputs": [],
   "source": [
    "# Create a fucntion fot tpr and fpr to passs any predictins\n",
    "def tpr_fpr_dataframe(y_val, y_pred):\n",
    "    scores=[]\n",
    "    thresholds=np.linspace(0,1,101)\n",
    "\n",
    "    for t in thresholds:\n",
    "        actual_positive=(y_val==1)\n",
    "        actual_negative=(y_val==0)\n",
    "\n",
    "        predict_positive=(y_pred>=t)\n",
    "        predict_negative=(y_pred<t)\n",
    "\n",
    "        tp=(predict_positive & actual_positive).sum()\n",
    "        tn=(predict_negative & actual_negative).sum()\n",
    "        fp=(predict_positive & actual_negative).sum()\n",
    "        fn=(predict_negative & actual_positive).sum()\n",
    "\n",
    "        scores.append((t,tp, fp, fn, tn))\n",
    "    columns=[\"thresholds\",'tp', 'fp','fn','tn']\n",
    "    df_scores=pd.DataFrame(scores, columns=columns)\n",
    "    df_scores['tpr']=df_scores.tp/(df_scores.tp+df_scores.fn)\n",
    "    df_scores['fpr']=df_scores.fp/(df_scores.fp+df_scores.tn)\n",
    "    \n",
    "    return df_scores"
   ]
  },
  {
   "cell_type": "code",
   "execution_count": null,
   "id": "bdc1da7a",
   "metadata": {},
   "outputs": [],
   "source": [
    "# For the random predictions\n",
    "df_rand=tpr_fpr_dataframe(y_val, y_rand)\n",
    "\n",
    "df_rand[::10]"
   ]
  },
  {
   "cell_type": "code",
   "execution_count": null,
   "id": "2788bee5",
   "metadata": {},
   "outputs": [],
   "source": [
    "plt.plot(df_rand.thresholds,df_rand['tpr'], label='TPR')\n",
    "plt.plot(df_rand.thresholds,df_rand['fpr'], label='FPR')\n",
    "plt.grid(True)\n",
    "plt.legend(loc=3)"
   ]
  },
  {
   "cell_type": "markdown",
   "id": "ddf4c018",
   "metadata": {},
   "source": [
    "## IDEAL MODEL\n"
   ]
  },
  {
   "cell_type": "code",
   "execution_count": null,
   "id": "04912d75",
   "metadata": {},
   "outputs": [],
   "source": [
    "num_neg=(y_val==0).sum()\n",
    "num_pos=(y_val==1).sum()\n",
    "\n",
    "num_neg, num_pos"
   ]
  },
  {
   "cell_type": "code",
   "execution_count": null,
   "id": "71822621",
   "metadata": {},
   "outputs": [],
   "source": [
    "y_ideal=np.repeat([0,1],[num_neg, num_pos])\n",
    "y_ideal"
   ]
  },
  {
   "cell_type": "code",
   "execution_count": null,
   "id": "cac89132",
   "metadata": {},
   "outputs": [],
   "source": [
    "# creating predictions that a just numbrs between 0 and 1\n",
    "y_ideal_pred=np.linspace(0,1, len(y_val))"
   ]
  },
  {
   "cell_type": "code",
   "execution_count": null,
   "id": "d404a7bf",
   "metadata": {},
   "outputs": [],
   "source": [
    "((y_ideal_pred>=0.726)==y_ideal).mean()"
   ]
  },
  {
   "cell_type": "code",
   "execution_count": null,
   "id": "98ccd5f9",
   "metadata": {},
   "outputs": [],
   "source": [
    "df_ideal=tpr_fpr_dataframe(y_ideal, y_ideal_pred)\n",
    "\n",
    "df_ideal[::10]"
   ]
  },
  {
   "cell_type": "code",
   "execution_count": null,
   "id": "d2461ac7",
   "metadata": {},
   "outputs": [],
   "source": [
    "plt.plot(df_ideal.thresholds,df_ideal['tpr'], label='TPR')\n",
    "plt.plot(df_ideal.thresholds,df_ideal['fpr'], label='FPR')\n",
    "plt.grid(True)\n",
    "plt.legend(loc=3)"
   ]
  },
  {
   "cell_type": "markdown",
   "id": "be0f9037",
   "metadata": {},
   "source": [
    "### Putting Everything Together\n",
    "\n",
    "#### Actual,Random, Ideal"
   ]
  },
  {
   "cell_type": "code",
   "execution_count": null,
   "id": "234c2277",
   "metadata": {},
   "outputs": [],
   "source": [
    "plt.plot(df_scores.thresholds,df_scores['tpr'], label='TPR')\n",
    "plt.plot(df_scores.thresholds,df_scores['fpr'], label='FPR')\n",
    "\n",
    "plt.plot(df_ideal.thresholds,df_ideal['tpr'], label='TPR', color='black')\n",
    "plt.plot(df_ideal.thresholds,df_ideal['fpr'], label='FPR',color='black')\n",
    "\n",
    "\n",
    "\n",
    "# plt.plot(df_rand.thresholds,df_rand['tpr'], label='TPR')\n",
    "# plt.plot(df_rand.thresholds,df_rand['fpr'], label='FPR')\n",
    "\n",
    "\n",
    "\n",
    "plt.legend(loc=3)\n",
    "plt.grid(True)\n"
   ]
  },
  {
   "cell_type": "code",
   "execution_count": null,
   "id": "9f74581a",
   "metadata": {},
   "outputs": [],
   "source": [
    "plt.figure(figsize=(6,6))\n",
    "\n",
    "plt.plot(df_scores.fpr,df_scores.tpr, label='model' )\n",
    "# plt.plot(df_rand.fpr,df_rand.tpr , label='random')\n",
    "#plt.plot(df_ideal.fpr,df_ideal.tpr, label= 'ideal' )\n",
    "plt.plot([0,1],[0,1], label='random')\n",
    "\n",
    "\n",
    "plt.xlabel('FPR')\n",
    "plt.ylabel('TPR')\n",
    "plt.legend(loc=4)\n",
    "plt.grid(True)"
   ]
  },
  {
   "cell_type": "code",
   "execution_count": null,
   "id": "0d7e1249",
   "metadata": {},
   "outputs": [],
   "source": [
    "# Using sklearn to do ROC\n",
    "from sklearn.metrics import roc_curve\n",
    "fpr, tpr, thresholds=roc_curve(y_val, y_pred)"
   ]
  },
  {
   "cell_type": "code",
   "execution_count": null,
   "id": "e5dc6d25",
   "metadata": {},
   "outputs": [],
   "source": [
    "plt.figure(figsize=(6,6))\n",
    "\n",
    "plt.plot(fpr, tpr, label='model' )\n",
    "# plt.plot(df_rand.fpr,df_rand.tpr , label='random')\n",
    "#plt.plot(df_ideal.fpr,df_ideal.tpr, label= 'ideal' )\n",
    "plt.plot([0,1],[0,1], label='random')\n",
    "\n",
    "\n",
    "plt.xlabel('FPR')\n",
    "plt.ylabel('TPR')\n",
    "plt.legend(loc=4)\n",
    "plt.grid(True)"
   ]
  },
  {
   "cell_type": "markdown",
   "id": "a44c9931",
   "metadata": {},
   "source": [
    "### ROC AUC\n",
    "* Area under the ROC curve- useful metric\n",
    "* Interpreation of AUC"
   ]
  },
  {
   "cell_type": "code",
   "execution_count": null,
   "id": "381187d5",
   "metadata": {},
   "outputs": [],
   "source": [
    "from sklearn.metrics import auc\n",
    "auc(fpr, tpr)"
   ]
  },
  {
   "cell_type": "code",
   "execution_count": null,
   "id": "712834ff",
   "metadata": {},
   "outputs": [],
   "source": [
    "from sklearn.metrics import roc_auc_score\n",
    "roc_auc_score(y_val, y_pred)"
   ]
  },
  {
   "cell_type": "code",
   "execution_count": null,
   "id": "723bc3f4",
   "metadata": {},
   "outputs": [],
   "source": [
    "#it means what is the y_pred score when y_val(actual) is 0 and v.v for 1 is also similar.\n",
    "neg=y_pred[y_val==0]\n",
    "pos=y_pred[y_val==1]\n",
    "pos"
   ]
  },
  {
   "cell_type": "code",
   "execution_count": null,
   "id": "71398f25",
   "metadata": {},
   "outputs": [],
   "source": [
    "#Lets have 1000000 iterations\n",
    "import random\n",
    "n=1000000\n",
    "\n",
    "success=0\n",
    "\n",
    "for i in range(n):\n",
    "\n",
    "    pos_idx=random.randint(0, len(pos)-1)\n",
    "    neg_idx=random.randint(0, len(neg)-1)\n",
    "\n",
    "    if pos[pos_idx]>neg[neg_idx]:\n",
    "        success=success+1\n",
    "        \n",
    "success/n"
   ]
  },
  {
   "cell_type": "code",
   "execution_count": null,
   "id": "8f0bdb28",
   "metadata": {},
   "outputs": [],
   "source": [
    "#we can use numpy for the above\n",
    "n=50000\n",
    "np.random.seed(1)\n",
    "pos_idx=np.random.randint(0, len(pos), size=n)\n",
    "neg_idx=np.random.randint(0, len(neg), size=n)\n",
    "(pos[pos_idx]>  neg[neg_idx]).mean()"
   ]
  },
  {
   "cell_type": "code",
   "execution_count": null,
   "id": "17db52bf",
   "metadata": {},
   "outputs": [],
   "source": [
    "#selecting the scores of these customers\n",
    "pos_idx>  neg_idx"
   ]
  },
  {
   "cell_type": "markdown",
   "id": "1685eb42",
   "metadata": {},
   "source": [
    "### Cross- Validation (Parameter Tuning)\n",
    "* Evaluating the same model on different subsets of Data.\n",
    "* Getting the average prediction and the spread within predictions"
   ]
  },
  {
   "cell_type": "code",
   "execution_count": null,
   "id": "695ac4cb",
   "metadata": {},
   "outputs": [],
   "source": [
    "def train(df_train,y_train, C=1.0):\n",
    "    dicts=df_train[categorical+numerical].to_dict(orient='records')\n",
    "                                   \n",
    "    dv=DictVectorizer(sparse=False)\n",
    "    \n",
    "    \n",
    "    X_train=dv.fit_transform(dicts)\n",
    "    \n",
    "    model=LogisticRegression(solver='liblinear', max_iter=10000 )\n",
    "    model.fit(X_train,y_train)\n",
    "    \n",
    "    return dv, model"
   ]
  },
  {
   "cell_type": "code",
   "execution_count": null,
   "id": "63e39401",
   "metadata": {},
   "outputs": [],
   "source": [
    "dv, model=train(df_train,y_train, C=0.0001)"
   ]
  },
  {
   "cell_type": "code",
   "execution_count": null,
   "id": "71fe88d8",
   "metadata": {},
   "outputs": [],
   "source": [
    "# call another function that makes predictions\n",
    "def predict(df,dv,model):\n",
    "    dicts=df[categorical+numerical].to_dict(orient='records')\n",
    "    X=dv.transform(dicts)\n",
    "    y_pred=model.predict_proba(X)[:,1]\n",
    "    \n",
    "    return y_pred"
   ]
  },
  {
   "cell_type": "code",
   "execution_count": null,
   "id": "008ff5b9",
   "metadata": {},
   "outputs": [],
   "source": [
    "y_pred=predict(df_val,dv, model)"
   ]
  },
  {
   "cell_type": "code",
   "execution_count": null,
   "id": "e0bc1861",
   "metadata": {},
   "outputs": [],
   "source": [
    "# Now calling K-fold cross validation from sklearn\n",
    "from sklearn.model_selection import KFold\n",
    "kf=KFold(n_splits=10, shuffle=True, random_state=1) "
   ]
  },
  {
   "cell_type": "code",
   "execution_count": null,
   "id": "472fc6ab",
   "metadata": {},
   "outputs": [],
   "source": [
    "kf.split(df_full_train)\n",
    "\n",
    "train_idx, val_idx=next(kf.split(df_full_train))\n",
    "\n",
    "len(train_idx), len(val_idx)"
   ]
  },
  {
   "cell_type": "code",
   "execution_count": null,
   "id": "7c5b03c2",
   "metadata": {},
   "outputs": [],
   "source": [
    "df_train=df_full_train.iloc[train_idx]\n",
    "df_val=df_full_train.iloc[val_idx]"
   ]
  },
  {
   "cell_type": "code",
   "execution_count": null,
   "id": "78f564cf",
   "metadata": {},
   "outputs": [],
   "source": [
    "from tqdm import tqdm \n",
    "import time"
   ]
  },
  {
   "cell_type": "code",
   "execution_count": null,
   "id": "1bcbe5c2",
   "metadata": {},
   "outputs": [],
   "source": [
    "for C in tqdm([0.0001,0.001,0.01,0.5,1,5,10]):\n",
    "    scores=[]\n",
    "\n",
    "    for train_idx, val_idx in kf.split(df_full_train):\n",
    "    \n",
    "        df_train=df_full_train.iloc[train_idx]\n",
    "        df_val=df_full_train.iloc[val_idx]\n",
    "\n",
    "        y_train=df_train.churn.values\n",
    "        y_val=df_val.churn.values\n",
    "\n",
    "        dv, model=train(df_train,y_train, C=C)\n",
    "        y_pred=predict(df_val,dv, model)\n",
    "\n",
    "        auc=roc_auc_score(y_val, y_pred)\n",
    "\n",
    "        scores.append(auc)\n",
    "        \n",
    "    print(\"C=%s %.3f %.3f\" %(C, np.mean(scores), np.std(scores)))\n",
    "    "
   ]
  },
  {
   "cell_type": "code",
   "execution_count": null,
   "id": "93102c50",
   "metadata": {},
   "outputs": [],
   "source": [
    "dv, model=train(df_full_train,df_full_train.churn.values, C=0.00001)\n",
    "y_pred=predict(df_test,dv, model)\n",
    "auc=roc_auc_score(y_test, y_pred)\n",
    "\n",
    "auc"
   ]
  }
 ],
 "metadata": {
  "kernelspec": {
   "display_name": "Python 3",
   "language": "python",
   "name": "python3"
  },
  "language_info": {
   "codemirror_mode": {
    "name": "ipython",
    "version": 3
   },
   "file_extension": ".py",
   "mimetype": "text/x-python",
   "name": "python",
   "nbconvert_exporter": "python",
   "pygments_lexer": "ipython3",
   "version": "3.9.7"
  },
  "papermill": {
   "default_parameters": {},
   "duration": 60.506723,
   "end_time": "2021-11-17T09:44:33.051982",
   "environment_variables": {},
   "exception": null,
   "input_path": "__notebook__.ipynb",
   "output_path": "__notebook__.ipynb",
   "parameters": {},
   "start_time": "2021-11-17T09:43:32.545259",
   "version": "2.3.3"
  }
 },
 "nbformat": 4,
 "nbformat_minor": 5
}
