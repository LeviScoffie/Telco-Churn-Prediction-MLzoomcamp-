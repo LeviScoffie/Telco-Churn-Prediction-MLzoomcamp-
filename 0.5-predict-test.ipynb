{
 "cells": [
  {
   "cell_type": "code",
   "execution_count": 7,
   "metadata": {},
   "outputs": [
    {
     "data": {
      "application/javascript": "IPython.notebook.set_autosave_interval(0)"
     },
     "metadata": {},
     "output_type": "display_data"
    },
    {
     "name": "stdout",
     "output_type": "stream",
     "text": [
      "Autosave disabled\n"
     ]
    }
   ],
   "source": [
    "%autosave 0"
   ]
  },
  {
   "cell_type": "code",
   "execution_count": 8,
   "metadata": {},
   "outputs": [],
   "source": [
    "import requests"
   ]
  },
  {
   "cell_type": "code",
   "execution_count": 9,
   "metadata": {},
   "outputs": [],
   "source": [
    "url=\"http://localhost:9696/predict\""
   ]
  },
  {
   "cell_type": "code",
   "execution_count": 10,
   "metadata": {},
   "outputs": [],
   "source": [
    "kastama={\"gender\": \"female\",\n",
    " \"seniorcitizen\": 0,\n",
    " \"partner\": \"no\",\n",
    " \"dependents\": \"no\",\n",
    " \"phoneservice\": \"yes\",\n",
    " \"multiplelines\": \"n0_phone_service\",\n",
    " \"internetservice\": \"dsl\",\n",
    " \"onlinesecurity\": \"yes\",\n",
    " \"onlinebackup\": \"no\",\n",
    " \"deviceprotection\": \"yes\",\n",
    " \"techsupport\": \"yes\",\n",
    " \"streamingtv\": \"yes\",\n",
    " \"streamingmovies\": \"no\",\n",
    " \"contract\": \"month-to-month\",\n",
    " \"paperlessbilling\": \"yes\",\n",
    " \"paymentmethod\": \"mailed_check\",\n",
    " \"tenure\": 10,\n",
    " \"monthlycharges\": 69.25,\n",
    " \"totalcharges\": 690.25}"
   ]
  },
  {
   "cell_type": "code",
   "execution_count": 11,
   "metadata": {},
   "outputs": [
    {
     "data": {
      "text/plain": [
       "{'gender': 'female',\n",
       " 'seniorcitizen': 0,\n",
       " 'partner': 'no',\n",
       " 'dependents': 'no',\n",
       " 'phoneservice': 'yes',\n",
       " 'multiplelines': 'n0_phone_service',\n",
       " 'internetservice': 'dsl',\n",
       " 'onlinesecurity': 'yes',\n",
       " 'onlinebackup': 'no',\n",
       " 'deviceprotection': 'yes',\n",
       " 'techsupport': 'yes',\n",
       " 'streamingtv': 'yes',\n",
       " 'streamingmovies': 'no',\n",
       " 'contract': 'month-to-month',\n",
       " 'paperlessbilling': 'yes',\n",
       " 'paymentmethod': 'mailed_check',\n",
       " 'tenure': 10,\n",
       " 'monthlycharges': 69.25,\n",
       " 'totalcharges': 690.25}"
      ]
     },
     "execution_count": 11,
     "metadata": {},
     "output_type": "execute_result"
    }
   ],
   "source": [
    "kastama"
   ]
  },
  {
   "cell_type": "code",
   "execution_count": 12,
   "metadata": {},
   "outputs": [
    {
     "data": {
      "text/plain": [
       "{'churn': False, 'churn_probability': 0.24869173556864857}"
      ]
     },
     "execution_count": 12,
     "metadata": {},
     "output_type": "execute_result"
    }
   ],
   "source": [
    "response=requests.post(url, json=kastama).json()\n",
    "\n",
    "response"
   ]
  },
  {
   "cell_type": "code",
   "execution_count": 13,
   "metadata": {},
   "outputs": [],
   "source": [
    "customer_id='xyz-234'"
   ]
  },
  {
   "cell_type": "code",
   "execution_count": 14,
   "metadata": {},
   "outputs": [
    {
     "name": "stdout",
     "output_type": "stream",
     "text": [
      "Not sending promo email to xyz-234\n"
     ]
    }
   ],
   "source": [
    "if response['churn']==True:\n",
    "    print(f'Sending promo email to {customer_id}')\n",
    "\n",
    "else:\n",
    "    print(f'Not sending promo email to {customer_id}')"
   ]
  }
 ],
 "metadata": {
  "interpreter": {
   "hash": "51c92f6010da85349d1413e7570f4472417dd174e2c96739bedf5f19ba41a5b3"
  },
  "kernelspec": {
   "display_name": "Python 3.9.7 64-bit ('base': conda)",
   "language": "python",
   "name": "python3"
  },
  "language_info": {
   "codemirror_mode": {
    "name": "ipython",
    "version": 3
   },
   "file_extension": ".py",
   "mimetype": "text/x-python",
   "name": "python",
   "nbconvert_exporter": "python",
   "pygments_lexer": "ipython3",
   "version": "3.9.7"
  },
  "orig_nbformat": 4
 },
 "nbformat": 4,
 "nbformat_minor": 2
}
